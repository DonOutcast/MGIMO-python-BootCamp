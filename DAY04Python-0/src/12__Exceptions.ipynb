{
  "cells": [
    {
      "cell_type": "markdown",
      "metadata": {
        "id": "UsPwozw71yYE"
      },
      "source": [
        "# Обработка исключений\n",
        "\n",
        "<b>Исключение</b> - это возникновение какой-то ошибки при исполнении программы. Ошибки при этом могут быть как на уровне написания кода, так и на уровне его исполнения. Например, мы хотим подключиться к базе данных, и у нас отвалилась сеть. В этом случае интерпретатор не сможет исполнить код, который работает с базой, и он должен как-то об этом сообщить. Самое логичное поведение - вызвать исключение, которое мы сможем обработать на уровне логики программы. Например, если сеть не работает, мы можем подождать 10 секунд и повторить запрос. Ну а если через несколько повторов проблема с сетью не исчезла, то тогда уже уведомить пользователя о том, что сейчас выполнить запрос не получится.\n",
        "\n",
        "Ошибки в питоне бывают следующие:\n",
        "\n",
        "* Syntax Error - возникает, когда мы написали код с синтаксической или пунктуационной ошибкой.\n",
        "* Out of Memory Error - возникает, когда на компьютере не хватает оперативной памяти для того, чтобы исполнить код.\n",
        "* Recursion Error - возникает, когда слишком много раз функция пытается вызвать сама себя.\n",
        "* Indentation Error - еще одна ошибка написания кода, когда не соблюдены отступы в блоке.\n",
        "* Keyboard Interrupt - исполнение программы прервано пользователем.\n",
        "* Exceptions - прочие исключения, которые возникают при исполнении программы.\n",
        "\n",
        "Рассмотрим каждую категорию.\n",
        "\n",
        "## SyntaxError\n",
        "\n",
        "Эта ошибка возникает, когда в коде программы допущена синтаксическая ошибка, т.е. код просто неправильно написан."
      ]
    },
    {
      "cell_type": "code",
      "execution_count": null,
      "metadata": {
        "id": "QqgGaYdB1yYH",
        "outputId": "aba22278-5efc-4159-9590-cf68f4d903ea"
      },
      "outputs": [
        {
          "ename": "SyntaxError",
          "evalue": "unmatched ')' (<ipython-input-1-c3931f671051>, line 1)",
          "output_type": "error",
          "traceback": [
            "\u001b[0;36m  File \u001b[0;32m\"<ipython-input-1-c3931f671051>\"\u001b[0;36m, line \u001b[0;32m1\u001b[0m\n\u001b[0;31m    print( 0 / 0 ))\u001b[0m\n\u001b[0m                  ^\u001b[0m\n\u001b[0;31mSyntaxError\u001b[0m\u001b[0;31m:\u001b[0m unmatched ')'\n"
          ]
        }
      ],
      "source": [
        "print( 0 / 0 ))"
      ]
    },
    {
      "cell_type": "markdown",
      "metadata": {
        "id": "0LFp8iV71yYJ"
      },
      "source": [
        "## RecursionError и OutOfMemoryError\n",
        "\n",
        "Переполнение стека вызовов функции либо нехватка оперативной памяти для исполнения программы.\n",
        "\n",
        "**Рекурсия** - это прямой или опосредованный вызов функции изнутри самой себя. Существует ряд алгоритмических задач, когда такой метод позволяет произвести расчет наиболее быстро. При этом в функции должен быть прописано условие выхода из рекурсии. Если оно не прописано, то интерпретатор уходит практически в бесконечный цикл, при этом занимая всё больше оперативной памяти при каждом вызове функции. Чтобы память не переполнялась, в интерпретаторе есть ограничение по глубине рекурсии, т.е. максимально возможное количество вызовов функции изнутри себя."
      ]
    },
    {
      "cell_type": "code",
      "execution_count": null,
      "metadata": {
        "id": "InGvaNEE1yYJ",
        "outputId": "099b8961-8363-4993-fd9d-c19b6b6e4c85"
      },
      "outputs": [
        {
          "ename": "RecursionError",
          "evalue": "maximum recursion depth exceeded",
          "output_type": "error",
          "traceback": [
            "\u001b[0;31m---------------------------------------------------------------------------\u001b[0m",
            "\u001b[0;31mRecursionError\u001b[0m                            Traceback (most recent call last)",
            "\u001b[0;32m<ipython-input-2-04f22d3dda66>\u001b[0m in \u001b[0;36m<module>\u001b[0;34m\u001b[0m\n\u001b[1;32m      2\u001b[0m     \u001b[0;32mreturn\u001b[0m \u001b[0mrecursion\u001b[0m\u001b[0;34m(\u001b[0m\u001b[0;34m)\u001b[0m\u001b[0;34m\u001b[0m\u001b[0;34m\u001b[0m\u001b[0m\n\u001b[1;32m      3\u001b[0m \u001b[0;34m\u001b[0m\u001b[0m\n\u001b[0;32m----> 4\u001b[0;31m \u001b[0mrecursion\u001b[0m\u001b[0;34m(\u001b[0m\u001b[0;34m)\u001b[0m\u001b[0;34m\u001b[0m\u001b[0;34m\u001b[0m\u001b[0m\n\u001b[0m",
            "\u001b[0;32m<ipython-input-2-04f22d3dda66>\u001b[0m in \u001b[0;36mrecursion\u001b[0;34m()\u001b[0m\n\u001b[1;32m      1\u001b[0m \u001b[0;32mdef\u001b[0m \u001b[0mrecursion\u001b[0m\u001b[0;34m(\u001b[0m\u001b[0;34m)\u001b[0m\u001b[0;34m:\u001b[0m\u001b[0;34m\u001b[0m\u001b[0;34m\u001b[0m\u001b[0m\n\u001b[0;32m----> 2\u001b[0;31m     \u001b[0;32mreturn\u001b[0m \u001b[0mrecursion\u001b[0m\u001b[0;34m(\u001b[0m\u001b[0;34m)\u001b[0m\u001b[0;34m\u001b[0m\u001b[0;34m\u001b[0m\u001b[0m\n\u001b[0m\u001b[1;32m      3\u001b[0m \u001b[0;34m\u001b[0m\u001b[0m\n\u001b[1;32m      4\u001b[0m \u001b[0mrecursion\u001b[0m\u001b[0;34m(\u001b[0m\u001b[0;34m)\u001b[0m\u001b[0;34m\u001b[0m\u001b[0;34m\u001b[0m\u001b[0m\n",
            "... last 1 frames repeated, from the frame below ...\n",
            "\u001b[0;32m<ipython-input-2-04f22d3dda66>\u001b[0m in \u001b[0;36mrecursion\u001b[0;34m()\u001b[0m\n\u001b[1;32m      1\u001b[0m \u001b[0;32mdef\u001b[0m \u001b[0mrecursion\u001b[0m\u001b[0;34m(\u001b[0m\u001b[0;34m)\u001b[0m\u001b[0;34m:\u001b[0m\u001b[0;34m\u001b[0m\u001b[0;34m\u001b[0m\u001b[0m\n\u001b[0;32m----> 2\u001b[0;31m     \u001b[0;32mreturn\u001b[0m \u001b[0mrecursion\u001b[0m\u001b[0;34m(\u001b[0m\u001b[0;34m)\u001b[0m\u001b[0;34m\u001b[0m\u001b[0;34m\u001b[0m\u001b[0m\n\u001b[0m\u001b[1;32m      3\u001b[0m \u001b[0;34m\u001b[0m\u001b[0m\n\u001b[1;32m      4\u001b[0m \u001b[0mrecursion\u001b[0m\u001b[0;34m(\u001b[0m\u001b[0;34m)\u001b[0m\u001b[0;34m\u001b[0m\u001b[0;34m\u001b[0m\u001b[0m\n",
            "\u001b[0;31mRecursionError\u001b[0m: maximum recursion depth exceeded"
          ]
        }
      ],
      "source": [
        "def recursion():\n",
        "    return recursion()\n",
        "\n",
        "recursion()"
      ]
    },
    {
      "cell_type": "markdown",
      "metadata": {
        "id": "kqnTCUEK1yYK"
      },
      "source": [
        "## IndentationError\n",
        "\n",
        "Ошибка в правильной расстановке отступов в коде. Как мы помним, отступы - это один из основных элементов языка, поэтому соблюдение их крайне важно."
      ]
    },
    {
      "cell_type": "code",
      "execution_count": null,
      "metadata": {
        "id": "DeNnIXpa1yYK",
        "outputId": "93aa93bf-9df0-4195-af83-ef86bd6a6679"
      },
      "outputs": [
        {
          "ename": "IndentationError",
          "evalue": "expected an indented block (<ipython-input-3-628f419d2da8>, line 2)",
          "output_type": "error",
          "traceback": [
            "\u001b[0;36m  File \u001b[0;32m\"<ipython-input-3-628f419d2da8>\"\u001b[0;36m, line \u001b[0;32m2\u001b[0m\n\u001b[0;31m    print('Hello world')\u001b[0m\n\u001b[0m    ^\u001b[0m\n\u001b[0;31mIndentationError\u001b[0m\u001b[0;31m:\u001b[0m expected an indented block\n"
          ]
        }
      ],
      "source": [
        "for i in range(10):\n",
        "print('Hello world')"
      ]
    },
    {
      "cell_type": "markdown",
      "metadata": {
        "id": "nashOkMO1yYK"
      },
      "source": [
        "## KeyBoardInterrupt\n",
        "\n",
        "Принудительное прерывание программы с клавиатуры. Запустим бесконечный цикл и прервем его выполнение, нажав Ctrl+C исполнении в консоли либо черный квадрат наверху Jupyter'а:"
      ]
    },
    {
      "cell_type": "code",
      "execution_count": null,
      "metadata": {
        "id": "n7_zRrl71yYL",
        "outputId": "e01fb410-b1e2-4bfa-a9f4-b83b8804fd1f"
      },
      "outputs": [
        {
          "ename": "KeyboardInterrupt",
          "evalue": "",
          "output_type": "error",
          "traceback": [
            "\u001b[0;31m---------------------------------------------------------------------------\u001b[0m",
            "\u001b[0;31mKeyboardInterrupt\u001b[0m                         Traceback (most recent call last)",
            "\u001b[0;32m<ipython-input-4-b7133701d76c>\u001b[0m in \u001b[0;36m<module>\u001b[0;34m\u001b[0m\n\u001b[1;32m      1\u001b[0m \u001b[0;32mwhile\u001b[0m \u001b[0;32mTrue\u001b[0m\u001b[0;34m:\u001b[0m\u001b[0;34m\u001b[0m\u001b[0;34m\u001b[0m\u001b[0m\n\u001b[0;32m----> 2\u001b[0;31m     \u001b[0;32mpass\u001b[0m\u001b[0;34m\u001b[0m\u001b[0;34m\u001b[0m\u001b[0m\n\u001b[0m",
            "\u001b[0;31mKeyboardInterrupt\u001b[0m: "
          ]
        }
      ],
      "source": [
        "while True:\n",
        "    pass"
      ]
    },
    {
      "cell_type": "markdown",
      "metadata": {
        "id": "OZUTzfKh1yYL"
      },
      "source": [
        "## Exceptions\n",
        "\n",
        "Исключения. Если код написан синтаксически правильно и без рекурсий, в нём всё равно могут возникать ошибки при исполнении. При этом, поскольку питон - интерпретируемый язык программирования, да еще и с динамической типизацией, большее количество ошибок может возникнуть в runtime и меньшее анализируется до запуска программы.\n",
        "\n",
        "### TypeError\n",
        "\n",
        "Эта ошибка возникает, когда мы пытаемся совершить какую-то операцию над теми объектами, над которыми она не определена. Например, попытаемся сложить число и строку:"
      ]
    },
    {
      "cell_type": "code",
      "execution_count": null,
      "metadata": {
        "id": "8xOG3TW91yYM",
        "outputId": "532a7d90-9903-47ac-e626-14bd5c2ac624"
      },
      "outputs": [
        {
          "ename": "TypeError",
          "evalue": "unsupported operand type(s) for +: 'int' and 'str'",
          "output_type": "error",
          "traceback": [
            "\u001b[0;31m---------------------------------------------------------------------------\u001b[0m",
            "\u001b[0;31mTypeError\u001b[0m                                 Traceback (most recent call last)",
            "\u001b[0;32m<ipython-input-5-5b61598aa279>\u001b[0m in \u001b[0;36m<module>\u001b[0;34m\u001b[0m\n\u001b[1;32m      1\u001b[0m \u001b[0ma\u001b[0m \u001b[0;34m=\u001b[0m \u001b[0;36m5\u001b[0m\u001b[0;34m\u001b[0m\u001b[0;34m\u001b[0m\u001b[0m\n\u001b[1;32m      2\u001b[0m \u001b[0mb\u001b[0m \u001b[0;34m=\u001b[0m \u001b[0;34m\"string\"\u001b[0m\u001b[0;34m\u001b[0m\u001b[0;34m\u001b[0m\u001b[0m\n\u001b[0;32m----> 3\u001b[0;31m \u001b[0ma\u001b[0m \u001b[0;34m+\u001b[0m \u001b[0mb\u001b[0m\u001b[0;34m\u001b[0m\u001b[0;34m\u001b[0m\u001b[0m\n\u001b[0m",
            "\u001b[0;31mTypeError\u001b[0m: unsupported operand type(s) for +: 'int' and 'str'"
          ]
        }
      ],
      "source": [
        "a = 5\n",
        "b = \"string\"\n",
        "a + b"
      ]
    },
    {
      "cell_type": "markdown",
      "metadata": {
        "id": "ubhYWzUB1yYM"
      },
      "source": [
        "### ValueError\n",
        "\n",
        "Возникает, когда тип подаваемой переменной правильный, но неправильное значение. Например, мы можем преобразовать к числу строку, в которой записано число, но не в которой записан какой-то другой текст:"
      ]
    },
    {
      "cell_type": "code",
      "execution_count": null,
      "metadata": {
        "id": "vtsO3O4L1yYM",
        "outputId": "69ac7fe6-a10c-4cad-bcbb-a2508d107b23"
      },
      "outputs": [
        {
          "data": {
            "text/plain": [
              "123"
            ]
          },
          "execution_count": 6,
          "metadata": {},
          "output_type": "execute_result"
        }
      ],
      "source": [
        "s = \"123\"\n",
        "int(s)"
      ]
    },
    {
      "cell_type": "code",
      "execution_count": null,
      "metadata": {
        "id": "TGQPs8241yYM",
        "outputId": "db92462f-040a-43db-a021-dbcebfc9f039"
      },
      "outputs": [
        {
          "ename": "ValueError",
          "evalue": "invalid literal for int() with base 10: 'qwerty'",
          "output_type": "error",
          "traceback": [
            "\u001b[0;31m---------------------------------------------------------------------------\u001b[0m",
            "\u001b[0;31mValueError\u001b[0m                                Traceback (most recent call last)",
            "\u001b[0;32m<ipython-input-7-325b5c5ac2a8>\u001b[0m in \u001b[0;36m<module>\u001b[0;34m\u001b[0m\n\u001b[1;32m      1\u001b[0m \u001b[0ms\u001b[0m \u001b[0;34m=\u001b[0m \u001b[0;34m\"qwerty\"\u001b[0m\u001b[0;34m\u001b[0m\u001b[0;34m\u001b[0m\u001b[0m\n\u001b[0;32m----> 2\u001b[0;31m \u001b[0mint\u001b[0m\u001b[0;34m(\u001b[0m\u001b[0ms\u001b[0m\u001b[0;34m)\u001b[0m\u001b[0;34m\u001b[0m\u001b[0;34m\u001b[0m\u001b[0m\n\u001b[0m",
            "\u001b[0;31mValueError\u001b[0m: invalid literal for int() with base 10: 'qwerty'"
          ]
        }
      ],
      "source": [
        "s = \"qwerty\"\n",
        "int(s)"
      ]
    },
    {
      "cell_type": "markdown",
      "metadata": {
        "id": "CDsTzjIp1yYN"
      },
      "source": [
        "### ZeroDivisionError\n",
        "\n",
        "Название говорит само за себя:"
      ]
    },
    {
      "cell_type": "code",
      "execution_count": null,
      "metadata": {
        "id": "OtjevX2b1yYN",
        "outputId": "40c42408-9d81-40d4-c542-834c72fb1920"
      },
      "outputs": [
        {
          "ename": "ZeroDivisionError",
          "evalue": "division by zero",
          "output_type": "error",
          "traceback": [
            "\u001b[0;31m---------------------------------------------------------------------------\u001b[0m",
            "\u001b[0;31mZeroDivisionError\u001b[0m                         Traceback (most recent call last)",
            "\u001b[0;32m<ipython-input-8-e9e866a10e2a>\u001b[0m in \u001b[0;36m<module>\u001b[0;34m\u001b[0m\n\u001b[0;32m----> 1\u001b[0;31m \u001b[0;36m100\u001b[0m \u001b[0;34m/\u001b[0m \u001b[0;36m0\u001b[0m\u001b[0;34m\u001b[0m\u001b[0;34m\u001b[0m\u001b[0m\n\u001b[0m",
            "\u001b[0;31mZeroDivisionError\u001b[0m: division by zero"
          ]
        }
      ],
      "source": [
        "100 / 0"
      ]
    },
    {
      "cell_type": "markdown",
      "metadata": {
        "id": "N9hzVeab1yYN"
      },
      "source": [
        "### AttributeError\n",
        "\n",
        "Возникает тогда, когда мы пытаемся обратиться к тому атрибуту объекта, который не определен."
      ]
    },
    {
      "cell_type": "code",
      "execution_count": null,
      "metadata": {
        "id": "X5OLguv41yYN",
        "outputId": "3af157a7-1992-4f84-e703-d37abfcf8a4b"
      },
      "outputs": [
        {
          "ename": "AttributeError",
          "evalue": "'int' object has no attribute 'some_attr'",
          "output_type": "error",
          "traceback": [
            "\u001b[0;31m---------------------------------------------------------------------------\u001b[0m",
            "\u001b[0;31mAttributeError\u001b[0m                            Traceback (most recent call last)",
            "\u001b[0;32m<ipython-input-9-eb7196a64d5e>\u001b[0m in \u001b[0;36m<module>\u001b[0;34m\u001b[0m\n\u001b[1;32m      3\u001b[0m \u001b[0;34m\u001b[0m\u001b[0m\n\u001b[1;32m      4\u001b[0m \u001b[0ma_instance\u001b[0m \u001b[0;34m=\u001b[0m \u001b[0mA\u001b[0m\u001b[0;34m(\u001b[0m\u001b[0;34m)\u001b[0m\u001b[0;34m\u001b[0m\u001b[0;34m\u001b[0m\u001b[0m\n\u001b[0;32m----> 5\u001b[0;31m \u001b[0ma\u001b[0m\u001b[0;34m.\u001b[0m\u001b[0msome_attr\u001b[0m\u001b[0;34m\u001b[0m\u001b[0;34m\u001b[0m\u001b[0m\n\u001b[0m",
            "\u001b[0;31mAttributeError\u001b[0m: 'int' object has no attribute 'some_attr'"
          ]
        }
      ],
      "source": [
        "class A:\n",
        "    a = 3\n",
        "    \n",
        "a_instance = A()\n",
        "a.some_attr"
      ]
    },
    {
      "cell_type": "markdown",
      "metadata": {
        "id": "w1VWQ2iJ1yYO"
      },
      "source": [
        "### ImportError\n",
        "\n",
        "Возникает, когда мы пытаемся подключить библиотеку или модуль, которого на нашей системе нет."
      ]
    },
    {
      "cell_type": "code",
      "execution_count": null,
      "metadata": {
        "id": "-eYi9eKN1yYO",
        "outputId": "cd89927a-047a-497a-d8b4-c7d16166dd3a"
      },
      "outputs": [
        {
          "ename": "ModuleNotFoundError",
          "evalue": "No module named 'some_non_existing_module'",
          "output_type": "error",
          "traceback": [
            "\u001b[0;31m---------------------------------------------------------------------------\u001b[0m",
            "\u001b[0;31mModuleNotFoundError\u001b[0m                       Traceback (most recent call last)",
            "\u001b[0;32m<ipython-input-10-0b1dc3da4e8d>\u001b[0m in \u001b[0;36m<module>\u001b[0;34m\u001b[0m\n\u001b[0;32m----> 1\u001b[0;31m \u001b[0;32mimport\u001b[0m \u001b[0msome_non_existing_module\u001b[0m\u001b[0;34m\u001b[0m\u001b[0;34m\u001b[0m\u001b[0m\n\u001b[0m",
            "\u001b[0;31mModuleNotFoundError\u001b[0m: No module named 'some_non_existing_module'"
          ]
        }
      ],
      "source": [
        "import some_non_existing_module"
      ]
    },
    {
      "cell_type": "markdown",
      "metadata": {
        "id": "V8l4_0lT1yYO"
      },
      "source": [
        "### LookupError\n",
        "\n",
        "Возникает, когда пытаемся получить несуществующий элемент в коллекции"
      ]
    },
    {
      "cell_type": "code",
      "execution_count": null,
      "metadata": {
        "id": "mEbGZrO91yYO",
        "outputId": "8dae4b61-609d-4086-efbc-6089fcc1a22e"
      },
      "outputs": [
        {
          "ename": "IndexError",
          "evalue": "list index out of range",
          "output_type": "error",
          "traceback": [
            "\u001b[0;31m---------------------------------------------------------------------------\u001b[0m",
            "\u001b[0;31mIndexError\u001b[0m                                Traceback (most recent call last)",
            "\u001b[0;32m<ipython-input-11-6b8e718fb7e3>\u001b[0m in \u001b[0;36m<module>\u001b[0;34m\u001b[0m\n\u001b[1;32m      1\u001b[0m \u001b[0ma\u001b[0m \u001b[0;34m=\u001b[0m \u001b[0;34m[\u001b[0m\u001b[0;36m0\u001b[0m\u001b[0;34m,\u001b[0m \u001b[0;36m1\u001b[0m\u001b[0;34m,\u001b[0m \u001b[0;36m2\u001b[0m\u001b[0;34m]\u001b[0m\u001b[0;34m\u001b[0m\u001b[0;34m\u001b[0m\u001b[0m\n\u001b[0;32m----> 2\u001b[0;31m \u001b[0ma\u001b[0m\u001b[0;34m[\u001b[0m\u001b[0;36m15\u001b[0m\u001b[0;34m]\u001b[0m\u001b[0;34m\u001b[0m\u001b[0;34m\u001b[0m\u001b[0m\n\u001b[0m",
            "\u001b[0;31mIndexError\u001b[0m: list index out of range"
          ]
        }
      ],
      "source": [
        "a = [0, 1, 2]\n",
        "a[15]"
      ]
    },
    {
      "cell_type": "code",
      "execution_count": null,
      "metadata": {
        "id": "gdyzvxgJ1yYP",
        "outputId": "166f80a6-ead5-4286-a283-0103150b87c7"
      },
      "outputs": [
        {
          "ename": "KeyError",
          "evalue": "15",
          "output_type": "error",
          "traceback": [
            "\u001b[0;31m---------------------------------------------------------------------------\u001b[0m",
            "\u001b[0;31mKeyError\u001b[0m                                  Traceback (most recent call last)",
            "\u001b[0;32m<ipython-input-12-9ce373e9b43a>\u001b[0m in \u001b[0;36m<module>\u001b[0;34m\u001b[0m\n\u001b[1;32m      1\u001b[0m \u001b[0md\u001b[0m \u001b[0;34m=\u001b[0m \u001b[0;34m{\u001b[0m\u001b[0;36m1\u001b[0m\u001b[0;34m:\u001b[0m \u001b[0;34m'one'\u001b[0m\u001b[0;34m,\u001b[0m \u001b[0;36m2\u001b[0m\u001b[0;34m:\u001b[0m \u001b[0;34m'two'\u001b[0m\u001b[0;34m}\u001b[0m\u001b[0;34m\u001b[0m\u001b[0;34m\u001b[0m\u001b[0m\n\u001b[0;32m----> 2\u001b[0;31m \u001b[0md\u001b[0m\u001b[0;34m[\u001b[0m\u001b[0;36m15\u001b[0m\u001b[0;34m]\u001b[0m\u001b[0;34m\u001b[0m\u001b[0;34m\u001b[0m\u001b[0m\n\u001b[0m",
            "\u001b[0;31mKeyError\u001b[0m: 15"
          ]
        }
      ],
      "source": [
        "d = {1: 'one', 2: 'two'}\n",
        "d[15]"
      ]
    },
    {
      "cell_type": "markdown",
      "metadata": {
        "id": "A8_T_O-i1yYP"
      },
      "source": [
        "### NameError\n",
        "\n",
        "Когда забыли объявить переменную"
      ]
    },
    {
      "cell_type": "code",
      "execution_count": null,
      "metadata": {
        "id": "CWYqgcod1yYP",
        "outputId": "7b2615b4-87e9-42d0-d381-352c3258c087"
      },
      "outputs": [
        {
          "ename": "NameError",
          "evalue": "name 'some_non_initialied_variable' is not defined",
          "output_type": "error",
          "traceback": [
            "\u001b[0;31m---------------------------------------------------------------------------\u001b[0m",
            "\u001b[0;31mNameError\u001b[0m                                 Traceback (most recent call last)",
            "\u001b[0;32m<ipython-input-13-556306b85b37>\u001b[0m in \u001b[0;36m<module>\u001b[0;34m\u001b[0m\n\u001b[0;32m----> 1\u001b[0;31m \u001b[0mprint\u001b[0m\u001b[0;34m(\u001b[0m\u001b[0msome_non_initialied_variable\u001b[0m\u001b[0;34m)\u001b[0m\u001b[0;34m\u001b[0m\u001b[0;34m\u001b[0m\u001b[0m\n\u001b[0m",
            "\u001b[0;31mNameError\u001b[0m: name 'some_non_initialied_variable' is not defined"
          ]
        }
      ],
      "source": [
        "print(some_non_initialied_variable)"
      ]
    },
    {
      "cell_type": "markdown",
      "metadata": {
        "id": "tSEvCPuW1yYP"
      },
      "source": [
        "На первых порах многие допускают такие ошибки, связанные с областью видимости:"
      ]
    },
    {
      "cell_type": "code",
      "execution_count": null,
      "metadata": {
        "id": "kXb9iAew1yYP",
        "outputId": "c5c8f62d-9fbf-465c-b9ae-6b5fb929e015"
      },
      "outputs": [
        {
          "ename": "NameError",
          "evalue": "name 'variable' is not defined",
          "output_type": "error",
          "traceback": [
            "\u001b[0;31m---------------------------------------------------------------------------\u001b[0m",
            "\u001b[0;31mNameError\u001b[0m                                 Traceback (most recent call last)",
            "\u001b[0;32m<ipython-input-14-ad28940a4162>\u001b[0m in \u001b[0;36m<module>\u001b[0;34m\u001b[0m\n\u001b[1;32m      2\u001b[0m     \u001b[0mvariable\u001b[0m \u001b[0;34m=\u001b[0m \u001b[0;36m5\u001b[0m\u001b[0;34m\u001b[0m\u001b[0;34m\u001b[0m\u001b[0m\n\u001b[1;32m      3\u001b[0m \u001b[0;34m\u001b[0m\u001b[0m\n\u001b[0;32m----> 4\u001b[0;31m \u001b[0mvariable\u001b[0m\u001b[0;34m\u001b[0m\u001b[0;34m\u001b[0m\u001b[0m\n\u001b[0m",
            "\u001b[0;31mNameError\u001b[0m: name 'variable' is not defined"
          ]
        }
      ],
      "source": [
        "def some_foo():\n",
        "    variable = 5\n",
        "    \n",
        "variable"
      ]
    },
    {
      "cell_type": "markdown",
      "metadata": {
        "id": "5ntiDk8B1yYP"
      },
      "source": [
        "## Типы исключений\n",
        "\n",
        "Исключение - это питоновский класс, такой же, как мы изучали ранее. Поэтому у исключений есть своя иерархия наследования:\n",
        "\n",
        "![1_exception_classification.png](attachment:1_exception_classification.png)"
      ]
    },
    {
      "cell_type": "markdown",
      "metadata": {
        "id": "EFu3q7pn1yYP"
      },
      "source": [
        "## Работа с исключениями. Вызов исключения\n",
        "\n",
        "Иногда человеку, который будет использовать наш код, нужно дать понять, что он использует его неправильно. Для этого в неподходящих случаях нужно \"выбрасывать\" исключение.\n",
        "\n",
        "![3_raise.png](attachment:3_raise.png)\n",
        "\n",
        "Рассмотрим, как это делается:"
      ]
    },
    {
      "cell_type": "code",
      "execution_count": null,
      "metadata": {
        "id": "j5hpb36X1yYQ",
        "outputId": "9e1a2053-674a-4967-9c88-af3830f4d34c"
      },
      "outputs": [
        {
          "ename": "ValueError",
          "evalue": "А тут напишем сообщение об ошибке",
          "output_type": "error",
          "traceback": [
            "\u001b[0;31m---------------------------------------------------------------------------\u001b[0m",
            "\u001b[0;31mValueError\u001b[0m                                Traceback (most recent call last)",
            "\u001b[0;32m<ipython-input-15-d75d9aa0ca9b>\u001b[0m in \u001b[0;36m<module>\u001b[0;34m\u001b[0m\n\u001b[0;32m----> 1\u001b[0;31m \u001b[0;32mraise\u001b[0m \u001b[0mValueError\u001b[0m\u001b[0;34m(\u001b[0m\u001b[0;34m\"А тут напишем сообщение об ошибке\"\u001b[0m\u001b[0;34m)\u001b[0m\u001b[0;34m\u001b[0m\u001b[0;34m\u001b[0m\u001b[0m\n\u001b[0m",
            "\u001b[0;31mValueError\u001b[0m: А тут напишем сообщение об ошибке"
          ]
        }
      ],
      "source": [
        "raise ValueError(\"А тут напишем сообщение об ошибке\")"
      ]
    },
    {
      "cell_type": "markdown",
      "metadata": {
        "id": "2XLXANwv1yYQ"
      },
      "source": [
        "Приведем утрированный пример: пусть у нас есть функция, которая возвращает название ноты по ее номеру или буквенному обозначению. Тогда область принимаемых значений у неё ограничена следующими значениями:\n",
        "\n",
        "- цифры от 1 до 7 - порядковый номер ноты от \"до\"\n",
        "- названия нот - до, ре, ми, фа, соль, ля, си\n",
        "- также в музыке есть буквенные обозначения нот - от A (ля) до G (соль), и иногда в это множество включается еще H, которая, также как и B, обозначает ноту си."
      ]
    },
    {
      "cell_type": "code",
      "execution_count": null,
      "metadata": {
        "id": "fICrOBcx1yYQ"
      },
      "outputs": [],
      "source": [
        "def get_note_name(note):\n",
        "    # проверим тип входного значения\n",
        "    if not isinstance(note, (str, int)):\n",
        "        raise TypeError(\"The note value should be string or int\")\n",
        "    # проверим соответствие значения допустимой области значений\n",
        "    letters = 'CDEFGAHB'\n",
        "    if note not in list(range(1, 8)) + list(letters) + list(letters.lower()):\n",
        "        raise ValueError(f\"{note} is not a note\")\n",
        "    # если всё правильно:\n",
        "    answers = ('до', 'ре', 'ми', 'фа', 'соль', 'ля', 'си')\n",
        "    if isinstance(note, int):\n",
        "        return answers[note - 1]\n",
        "    return answers[letters.index(note.upper())]"
      ]
    },
    {
      "cell_type": "markdown",
      "metadata": {
        "id": "5Q-ufwm91yYQ"
      },
      "source": [
        "Примеры правильного вызова функции:"
      ]
    },
    {
      "cell_type": "code",
      "execution_count": null,
      "metadata": {
        "id": "Q3ykXjRw1yYQ",
        "outputId": "e1ef7d52-289a-49dc-e116-93dc2273ffed"
      },
      "outputs": [
        {
          "data": {
            "text/plain": [
              "('ля', 'ля', 'ля')"
            ]
          },
          "execution_count": 17,
          "metadata": {},
          "output_type": "execute_result"
        }
      ],
      "source": [
        "get_note_name(\"a\"), get_note_name(\"A\"), get_note_name(6)"
      ]
    },
    {
      "cell_type": "markdown",
      "metadata": {
        "id": "ZI8_H8g21yYR"
      },
      "source": [
        "Вызов функции с аргументом неправильного типа теперь вызывает исключение типа TypeError:"
      ]
    },
    {
      "cell_type": "code",
      "execution_count": null,
      "metadata": {
        "scrolled": true,
        "id": "sGvjK8tz1yYR",
        "outputId": "68bc4240-4f7d-4075-ac99-d35dafff769b"
      },
      "outputs": [
        {
          "ename": "TypeError",
          "evalue": "The note value should be string or int",
          "output_type": "error",
          "traceback": [
            "\u001b[0;31m---------------------------------------------------------------------------\u001b[0m",
            "\u001b[0;31mTypeError\u001b[0m                                 Traceback (most recent call last)",
            "\u001b[0;32m<ipython-input-18-5b8b62fc261b>\u001b[0m in \u001b[0;36m<module>\u001b[0;34m\u001b[0m\n\u001b[0;32m----> 1\u001b[0;31m \u001b[0mget_note_name\u001b[0m\u001b[0;34m(\u001b[0m\u001b[0;36m3.0\u001b[0m\u001b[0;34m)\u001b[0m\u001b[0;34m\u001b[0m\u001b[0;34m\u001b[0m\u001b[0m\n\u001b[0m",
            "\u001b[0;32m<ipython-input-16-c9c70ccd6610>\u001b[0m in \u001b[0;36mget_note_name\u001b[0;34m(note)\u001b[0m\n\u001b[1;32m      2\u001b[0m     \u001b[0;31m# проверим тип входного значения\u001b[0m\u001b[0;34m\u001b[0m\u001b[0;34m\u001b[0m\u001b[0;34m\u001b[0m\u001b[0m\n\u001b[1;32m      3\u001b[0m     \u001b[0;32mif\u001b[0m \u001b[0;32mnot\u001b[0m \u001b[0misinstance\u001b[0m\u001b[0;34m(\u001b[0m\u001b[0mnote\u001b[0m\u001b[0;34m,\u001b[0m \u001b[0;34m(\u001b[0m\u001b[0mstr\u001b[0m\u001b[0;34m,\u001b[0m \u001b[0mint\u001b[0m\u001b[0;34m)\u001b[0m\u001b[0;34m)\u001b[0m\u001b[0;34m:\u001b[0m\u001b[0;34m\u001b[0m\u001b[0;34m\u001b[0m\u001b[0m\n\u001b[0;32m----> 4\u001b[0;31m         \u001b[0;32mraise\u001b[0m \u001b[0mTypeError\u001b[0m\u001b[0;34m(\u001b[0m\u001b[0;34m\"The note value should be string or int\"\u001b[0m\u001b[0;34m)\u001b[0m\u001b[0;34m\u001b[0m\u001b[0;34m\u001b[0m\u001b[0m\n\u001b[0m\u001b[1;32m      5\u001b[0m     \u001b[0;31m# проверим соответствие значения допустимой области значений\u001b[0m\u001b[0;34m\u001b[0m\u001b[0;34m\u001b[0m\u001b[0;34m\u001b[0m\u001b[0m\n\u001b[1;32m      6\u001b[0m     \u001b[0mletters\u001b[0m \u001b[0;34m=\u001b[0m \u001b[0;34m'CDEFGAHB'\u001b[0m\u001b[0;34m\u001b[0m\u001b[0;34m\u001b[0m\u001b[0m\n",
            "\u001b[0;31mTypeError\u001b[0m: The note value should be string or int"
          ]
        }
      ],
      "source": [
        "get_note_name(3.0)"
      ]
    },
    {
      "cell_type": "markdown",
      "metadata": {
        "id": "PHmEBFNx1yYR"
      },
      "source": [
        "А если подаем аргумент правильного типа, но с неправильным значением, возникает ошибка значения ValueError. Так другим программистам становится понятней, что должна принимать ваша функция на вход."
      ]
    },
    {
      "cell_type": "code",
      "execution_count": null,
      "metadata": {
        "id": "Y62Oyxss1yYR",
        "outputId": "d4e4752f-7143-42e1-b61a-f6a647041d7f"
      },
      "outputs": [
        {
          "ename": "ValueError",
          "evalue": "45 is not a note",
          "output_type": "error",
          "traceback": [
            "\u001b[0;31m---------------------------------------------------------------------------\u001b[0m",
            "\u001b[0;31mValueError\u001b[0m                                Traceback (most recent call last)",
            "\u001b[0;32m<ipython-input-19-7646d668e6ce>\u001b[0m in \u001b[0;36m<module>\u001b[0;34m\u001b[0m\n\u001b[0;32m----> 1\u001b[0;31m \u001b[0mget_note_name\u001b[0m\u001b[0;34m(\u001b[0m\u001b[0;36m45\u001b[0m\u001b[0;34m)\u001b[0m\u001b[0;34m\u001b[0m\u001b[0;34m\u001b[0m\u001b[0m\n\u001b[0m",
            "\u001b[0;32m<ipython-input-16-c9c70ccd6610>\u001b[0m in \u001b[0;36mget_note_name\u001b[0;34m(note)\u001b[0m\n\u001b[1;32m      6\u001b[0m     \u001b[0mletters\u001b[0m \u001b[0;34m=\u001b[0m \u001b[0;34m'CDEFGAHB'\u001b[0m\u001b[0;34m\u001b[0m\u001b[0;34m\u001b[0m\u001b[0m\n\u001b[1;32m      7\u001b[0m     \u001b[0;32mif\u001b[0m \u001b[0mnote\u001b[0m \u001b[0;32mnot\u001b[0m \u001b[0;32min\u001b[0m \u001b[0mlist\u001b[0m\u001b[0;34m(\u001b[0m\u001b[0mrange\u001b[0m\u001b[0;34m(\u001b[0m\u001b[0;36m1\u001b[0m\u001b[0;34m,\u001b[0m \u001b[0;36m8\u001b[0m\u001b[0;34m)\u001b[0m\u001b[0;34m)\u001b[0m \u001b[0;34m+\u001b[0m \u001b[0mlist\u001b[0m\u001b[0;34m(\u001b[0m\u001b[0mletters\u001b[0m\u001b[0;34m)\u001b[0m \u001b[0;34m+\u001b[0m \u001b[0mlist\u001b[0m\u001b[0;34m(\u001b[0m\u001b[0mletters\u001b[0m\u001b[0;34m.\u001b[0m\u001b[0mlower\u001b[0m\u001b[0;34m(\u001b[0m\u001b[0;34m)\u001b[0m\u001b[0;34m)\u001b[0m\u001b[0;34m:\u001b[0m\u001b[0;34m\u001b[0m\u001b[0;34m\u001b[0m\u001b[0m\n\u001b[0;32m----> 8\u001b[0;31m         \u001b[0;32mraise\u001b[0m \u001b[0mValueError\u001b[0m\u001b[0;34m(\u001b[0m\u001b[0;34mf\"{note} is not a note\"\u001b[0m\u001b[0;34m)\u001b[0m\u001b[0;34m\u001b[0m\u001b[0;34m\u001b[0m\u001b[0m\n\u001b[0m\u001b[1;32m      9\u001b[0m     \u001b[0;31m# если всё правильно:\u001b[0m\u001b[0;34m\u001b[0m\u001b[0;34m\u001b[0m\u001b[0;34m\u001b[0m\u001b[0m\n\u001b[1;32m     10\u001b[0m     \u001b[0manswers\u001b[0m \u001b[0;34m=\u001b[0m \u001b[0;34m(\u001b[0m\u001b[0;34m'до'\u001b[0m\u001b[0;34m,\u001b[0m \u001b[0;34m'ре'\u001b[0m\u001b[0;34m,\u001b[0m \u001b[0;34m'ми'\u001b[0m\u001b[0;34m,\u001b[0m \u001b[0;34m'фа'\u001b[0m\u001b[0;34m,\u001b[0m \u001b[0;34m'соль'\u001b[0m\u001b[0;34m,\u001b[0m \u001b[0;34m'ля'\u001b[0m\u001b[0;34m,\u001b[0m \u001b[0;34m'си'\u001b[0m\u001b[0;34m)\u001b[0m\u001b[0;34m\u001b[0m\u001b[0;34m\u001b[0m\u001b[0m\n",
            "\u001b[0;31mValueError\u001b[0m: 45 is not a note"
          ]
        }
      ],
      "source": [
        "get_note_name(45)"
      ]
    },
    {
      "cell_type": "markdown",
      "metadata": {
        "id": "goveL5GS1yYR"
      },
      "source": [
        "Вообще, для похожих ситуаций в случае проверки полученных значений можно применять AssertionError. Но это в основном используется в тестировании (об этом - на последующих занятиях), поскольку удобней всё-таки понимать, какая конкретно ошибка произошла в коде, а не просто абстрактное \"ты подаешь сюда что-то неправильное\"."
      ]
    },
    {
      "cell_type": "code",
      "execution_count": null,
      "metadata": {
        "id": "AcD_q0E71yYR",
        "outputId": "67063680-a9c2-485f-9b2b-71559b62b119"
      },
      "outputs": [
        {
          "ename": "AssertionError",
          "evalue": "note is not correct",
          "output_type": "error",
          "traceback": [
            "\u001b[0;31m---------------------------------------------------------------------------\u001b[0m",
            "\u001b[0;31mAssertionError\u001b[0m                            Traceback (most recent call last)",
            "\u001b[0;32m<ipython-input-20-e8397c239854>\u001b[0m in \u001b[0;36m<module>\u001b[0;34m\u001b[0m\n\u001b[1;32m      8\u001b[0m     \u001b[0;32mreturn\u001b[0m \u001b[0manswers\u001b[0m\u001b[0;34m[\u001b[0m\u001b[0mletters\u001b[0m\u001b[0;34m.\u001b[0m\u001b[0mindex\u001b[0m\u001b[0;34m(\u001b[0m\u001b[0mnote\u001b[0m\u001b[0;34m.\u001b[0m\u001b[0mupper\u001b[0m\u001b[0;34m(\u001b[0m\u001b[0;34m)\u001b[0m\u001b[0;34m)\u001b[0m\u001b[0;34m]\u001b[0m\u001b[0;34m\u001b[0m\u001b[0;34m\u001b[0m\u001b[0m\n\u001b[1;32m      9\u001b[0m \u001b[0;34m\u001b[0m\u001b[0m\n\u001b[0;32m---> 10\u001b[0;31m \u001b[0mget_note_name_assert\u001b[0m\u001b[0;34m(\u001b[0m\u001b[0;36m45\u001b[0m\u001b[0;34m)\u001b[0m\u001b[0;34m\u001b[0m\u001b[0;34m\u001b[0m\u001b[0m\n\u001b[0m",
            "\u001b[0;32m<ipython-input-20-e8397c239854>\u001b[0m in \u001b[0;36mget_note_name_assert\u001b[0;34m(note)\u001b[0m\n\u001b[1;32m      1\u001b[0m \u001b[0;32mdef\u001b[0m \u001b[0mget_note_name_assert\u001b[0m\u001b[0;34m(\u001b[0m\u001b[0mnote\u001b[0m\u001b[0;34m)\u001b[0m\u001b[0;34m:\u001b[0m\u001b[0;34m\u001b[0m\u001b[0;34m\u001b[0m\u001b[0m\n\u001b[1;32m      2\u001b[0m     \u001b[0mletters\u001b[0m \u001b[0;34m=\u001b[0m \u001b[0;34m'CDEFGAHB'\u001b[0m\u001b[0;34m\u001b[0m\u001b[0;34m\u001b[0m\u001b[0m\n\u001b[0;32m----> 3\u001b[0;31m     \u001b[0;32massert\u001b[0m \u001b[0mnote\u001b[0m \u001b[0;32min\u001b[0m \u001b[0mlist\u001b[0m\u001b[0;34m(\u001b[0m\u001b[0mrange\u001b[0m\u001b[0;34m(\u001b[0m\u001b[0;36m1\u001b[0m\u001b[0;34m,\u001b[0m \u001b[0;36m8\u001b[0m\u001b[0;34m)\u001b[0m\u001b[0;34m)\u001b[0m \u001b[0;34m+\u001b[0m \u001b[0mlist\u001b[0m\u001b[0;34m(\u001b[0m\u001b[0mletters\u001b[0m\u001b[0;34m)\u001b[0m \u001b[0;34m+\u001b[0m \u001b[0mlist\u001b[0m\u001b[0;34m(\u001b[0m\u001b[0mletters\u001b[0m\u001b[0;34m.\u001b[0m\u001b[0mlower\u001b[0m\u001b[0;34m(\u001b[0m\u001b[0;34m)\u001b[0m\u001b[0;34m)\u001b[0m\u001b[0;34m,\u001b[0m \u001b[0;34m\"note is not correct\"\u001b[0m\u001b[0;34m\u001b[0m\u001b[0;34m\u001b[0m\u001b[0m\n\u001b[0m\u001b[1;32m      4\u001b[0m     \u001b[0;31m# если всё правильно:\u001b[0m\u001b[0;34m\u001b[0m\u001b[0;34m\u001b[0m\u001b[0;34m\u001b[0m\u001b[0m\n\u001b[1;32m      5\u001b[0m     \u001b[0manswers\u001b[0m \u001b[0;34m=\u001b[0m \u001b[0;34m(\u001b[0m\u001b[0;34m'до'\u001b[0m\u001b[0;34m,\u001b[0m \u001b[0;34m'ре'\u001b[0m\u001b[0;34m,\u001b[0m \u001b[0;34m'ми'\u001b[0m\u001b[0;34m,\u001b[0m \u001b[0;34m'фа'\u001b[0m\u001b[0;34m,\u001b[0m \u001b[0;34m'соль'\u001b[0m\u001b[0;34m,\u001b[0m \u001b[0;34m'ля'\u001b[0m\u001b[0;34m,\u001b[0m \u001b[0;34m'си'\u001b[0m\u001b[0;34m)\u001b[0m\u001b[0;34m\u001b[0m\u001b[0;34m\u001b[0m\u001b[0m\n",
            "\u001b[0;31mAssertionError\u001b[0m: note is not correct"
          ]
        }
      ],
      "source": [
        "def get_note_name_assert(note):\n",
        "    letters = 'CDEFGAHB'\n",
        "    assert note in list(range(1, 8)) + list(letters) + list(letters.lower()), \"note is not correct\"\n",
        "    # если всё правильно:\n",
        "    answers = ('до', 'ре', 'ми', 'фа', 'соль', 'ля', 'си')\n",
        "    if isinstance(note, int):\n",
        "        return answers[note - 1]\n",
        "    return answers[letters.index(note.upper())]\n",
        "\n",
        "get_note_name_assert(45)"
      ]
    },
    {
      "cell_type": "markdown",
      "metadata": {
        "id": "MMSurBYB1yYR"
      },
      "source": [
        "## Работа с исключениями: обработка исключений\n",
        "\n",
        "Иногда исключения должны быть частью логики программы. Например, если входное число не подошло для вашего модуля по области значений, необязательно останавливать программу и вываливаться с исключением, достаточно просто вывести сообщение об этой проблеме на экран и предложить пользователю повторить ввод.\n",
        "\n",
        "Для обработки исключений в питоне используется блок \"try - except\".\n",
        "\n",
        "![2_try_except.png](attachment:2_try_except.png)\n",
        "\n",
        "Перехватить абсолютно любое исключение можно так:"
      ]
    },
    {
      "cell_type": "code",
      "execution_count": null,
      "metadata": {
        "id": "picg0Uiv1yYS",
        "outputId": "97b9e757-55f1-4f88-839e-b744a17dbd24"
      },
      "outputs": [
        {
          "name": "stdout",
          "output_type": "stream",
          "text": [
            "Что-то пошло не так\n"
          ]
        }
      ],
      "source": [
        "try:\n",
        "    get_note_name(\"abcdef\")\n",
        "except:\n",
        "    print(\"Что-то пошло не так\")"
      ]
    },
    {
      "cell_type": "markdown",
      "metadata": {
        "id": "9LID0Y0-1yYS"
      },
      "source": [
        "Но в таком \"общем\" виде использовать этот блок - плохой стиль, поскольку непонятно, почему именно случилось исключение. Вдруг у нас произошел обрыв сети или не хватило памяти, а мы рассчитываем, что в функцию просто пришло неправильное значение. Лучше конкретизировать набор исключений, при которых программа не должна падать:"
      ]
    },
    {
      "cell_type": "code",
      "execution_count": null,
      "metadata": {
        "id": "t1aU-cnS1yYS",
        "outputId": "20f9e509-512d-4ed3-e6fb-ba13812c7b92"
      },
      "outputs": [
        {
          "name": "stdout",
          "output_type": "stream",
          "text": [
            "что-то пошло не так\n"
          ]
        }
      ],
      "source": [
        "try:\n",
        "    get_note_name(\"abcdef\")\n",
        "except ValueError:\n",
        "    print(\"что-то пошло не так\")"
      ]
    },
    {
      "cell_type": "markdown",
      "metadata": {
        "id": "zzTsA-dd1yYS"
      },
      "source": [
        "В этом случае мы обрабатываем только этот тип исключений. Другой обработан не будет:"
      ]
    },
    {
      "cell_type": "code",
      "execution_count": null,
      "metadata": {
        "id": "O1r2kAqu1yYS",
        "outputId": "3677fd45-e773-4992-f13c-e2af482c8617"
      },
      "outputs": [
        {
          "ename": "TypeError",
          "evalue": "The note value should be string or int",
          "output_type": "error",
          "traceback": [
            "\u001b[0;31m---------------------------------------------------------------------------\u001b[0m",
            "\u001b[0;31mTypeError\u001b[0m                                 Traceback (most recent call last)",
            "\u001b[0;32m<ipython-input-23-1d4b9f8af895>\u001b[0m in \u001b[0;36m<module>\u001b[0;34m\u001b[0m\n\u001b[1;32m      1\u001b[0m \u001b[0;32mtry\u001b[0m\u001b[0;34m:\u001b[0m\u001b[0;34m\u001b[0m\u001b[0;34m\u001b[0m\u001b[0m\n\u001b[0;32m----> 2\u001b[0;31m     \u001b[0mget_note_name\u001b[0m\u001b[0;34m(\u001b[0m\u001b[0;36m3555.0\u001b[0m\u001b[0;34m)\u001b[0m\u001b[0;34m\u001b[0m\u001b[0;34m\u001b[0m\u001b[0m\n\u001b[0m\u001b[1;32m      3\u001b[0m \u001b[0;32mexcept\u001b[0m \u001b[0mValueError\u001b[0m\u001b[0;34m:\u001b[0m\u001b[0;34m\u001b[0m\u001b[0;34m\u001b[0m\u001b[0m\n\u001b[1;32m      4\u001b[0m     \u001b[0mprint\u001b[0m\u001b[0;34m(\u001b[0m\u001b[0;34m\"что-то пошло не так\"\u001b[0m\u001b[0;34m)\u001b[0m\u001b[0;34m\u001b[0m\u001b[0;34m\u001b[0m\u001b[0m\n",
            "\u001b[0;32m<ipython-input-16-c9c70ccd6610>\u001b[0m in \u001b[0;36mget_note_name\u001b[0;34m(note)\u001b[0m\n\u001b[1;32m      2\u001b[0m     \u001b[0;31m# проверим тип входного значения\u001b[0m\u001b[0;34m\u001b[0m\u001b[0;34m\u001b[0m\u001b[0;34m\u001b[0m\u001b[0m\n\u001b[1;32m      3\u001b[0m     \u001b[0;32mif\u001b[0m \u001b[0;32mnot\u001b[0m \u001b[0misinstance\u001b[0m\u001b[0;34m(\u001b[0m\u001b[0mnote\u001b[0m\u001b[0;34m,\u001b[0m \u001b[0;34m(\u001b[0m\u001b[0mstr\u001b[0m\u001b[0;34m,\u001b[0m \u001b[0mint\u001b[0m\u001b[0;34m)\u001b[0m\u001b[0;34m)\u001b[0m\u001b[0;34m:\u001b[0m\u001b[0;34m\u001b[0m\u001b[0;34m\u001b[0m\u001b[0m\n\u001b[0;32m----> 4\u001b[0;31m         \u001b[0;32mraise\u001b[0m \u001b[0mTypeError\u001b[0m\u001b[0;34m(\u001b[0m\u001b[0;34m\"The note value should be string or int\"\u001b[0m\u001b[0;34m)\u001b[0m\u001b[0;34m\u001b[0m\u001b[0;34m\u001b[0m\u001b[0m\n\u001b[0m\u001b[1;32m      5\u001b[0m     \u001b[0;31m# проверим соответствие значения допустимой области значений\u001b[0m\u001b[0;34m\u001b[0m\u001b[0;34m\u001b[0m\u001b[0;34m\u001b[0m\u001b[0m\n\u001b[1;32m      6\u001b[0m     \u001b[0mletters\u001b[0m \u001b[0;34m=\u001b[0m \u001b[0;34m'CDEFGAHB'\u001b[0m\u001b[0;34m\u001b[0m\u001b[0;34m\u001b[0m\u001b[0m\n",
            "\u001b[0;31mTypeError\u001b[0m: The note value should be string or int"
          ]
        }
      ],
      "source": [
        "try:\n",
        "    get_note_name(3555.0)\n",
        "except ValueError:\n",
        "    print(\"что-то пошло не так\")"
      ]
    },
    {
      "cell_type": "markdown",
      "metadata": {
        "id": "V1G3phG01yYS"
      },
      "source": [
        "Чтобы учесть оба возможных исключения, мы можем добавить либо обработку их класса-предка (см. картинку с иерархией исключений), либо обработку каждого конкретного исключения."
      ]
    },
    {
      "cell_type": "code",
      "execution_count": null,
      "metadata": {
        "id": "Emq07FV71yYT",
        "outputId": "048d816b-2d91-452f-e651-35af9e32178c"
      },
      "outputs": [
        {
          "name": "stdout",
          "output_type": "stream",
          "text": [
            "что-то пошло не так\n"
          ]
        }
      ],
      "source": [
        "try:\n",
        "    get_note_name(100500.0)\n",
        "except (ValueError, TypeError):\n",
        "    print(\"что-то пошло не так\")"
      ]
    },
    {
      "cell_type": "code",
      "execution_count": null,
      "metadata": {
        "id": "W_7CFDMq1yYT",
        "outputId": "1aaa5848-9fc9-4a7f-c6f1-4c9367a39645"
      },
      "outputs": [
        {
          "name": "stdout",
          "output_type": "stream",
          "text": [
            "Тип аргумента неверный\n"
          ]
        }
      ],
      "source": [
        "try:\n",
        "    get_note_name(100500.0)\n",
        "except ValueError:\n",
        "    print(\"Значение неверное\")\n",
        "except TypeError:\n",
        "    print(\"Тип аргумента неверный\")"
      ]
    },
    {
      "cell_type": "markdown",
      "metadata": {
        "id": "jE82YQ-V1yYT"
      },
      "source": [
        "Сам объект исключения содержит в себе несколько полей, которые могут быть полезны при обработке исключений. Мы можем обратиться к нему, используя ключевое слово <code>as</code>, чтобы записать его в переменную и, например, посмотреть его строковое представление."
      ]
    },
    {
      "cell_type": "code",
      "execution_count": null,
      "metadata": {
        "id": "dNNWgZ4A1yYT",
        "outputId": "ca63cf16-09ba-474d-8dff-b0c68c1fe7c0"
      },
      "outputs": [
        {
          "name": "stdout",
          "output_type": "stream",
          "text": [
            "100500 is not a note\n"
          ]
        }
      ],
      "source": [
        "try:\n",
        "    get_note_name(100500)\n",
        "except ValueError as exc:\n",
        "    print(exc)"
      ]
    },
    {
      "cell_type": "markdown",
      "metadata": {
        "id": "GgsXplNB1yYT"
      },
      "source": [
        "Кстати, полезно иметь в виду, что переменная <code>exc</code> будет определена только внутри блока <code>except</code>:"
      ]
    },
    {
      "cell_type": "code",
      "execution_count": null,
      "metadata": {
        "id": "X5ooCiui1yYT",
        "outputId": "3618a8aa-f7a0-4870-d4a8-a19617002e98"
      },
      "outputs": [
        {
          "ename": "NameError",
          "evalue": "name 'exc' is not defined",
          "output_type": "error",
          "traceback": [
            "\u001b[0;31m---------------------------------------------------------------------------\u001b[0m",
            "\u001b[0;31mNameError\u001b[0m                                 Traceback (most recent call last)",
            "\u001b[0;32m<ipython-input-27-82bb6985be21>\u001b[0m in \u001b[0;36m<module>\u001b[0;34m\u001b[0m\n\u001b[0;32m----> 1\u001b[0;31m \u001b[0mexc\u001b[0m\u001b[0;34m\u001b[0m\u001b[0;34m\u001b[0m\u001b[0m\n\u001b[0m",
            "\u001b[0;31mNameError\u001b[0m: name 'exc' is not defined"
          ]
        }
      ],
      "source": [
        "exc"
      ]
    },
    {
      "cell_type": "markdown",
      "metadata": {
        "id": "eJ3ZyBv21yYT"
      },
      "source": [
        "И еще мы можем передавать через объект исключения какие-то параметры:"
      ]
    },
    {
      "cell_type": "code",
      "execution_count": null,
      "metadata": {
        "id": "UZwoM8_11yYU",
        "outputId": "a3b87640-e748-4fa5-e245-891675e06617"
      },
      "outputs": [
        {
          "name": "stdout",
          "output_type": "stream",
          "text": [
            "('description', 'arg1', 45, 34.2)\n"
          ]
        }
      ],
      "source": [
        "try:\n",
        "    raise Exception(\"description\", \"arg1\", 45, 34.2)\n",
        "except Exception as exc:\n",
        "    print(exc.args)"
      ]
    },
    {
      "cell_type": "markdown",
      "metadata": {
        "id": "U32S8_Lx1yYU"
      },
      "source": [
        "### Блок else\n",
        "\n",
        "В этом блоке мы можем описать код, который должен выполниться только если в \"опасном\" блоке кода не произошло исключений.\n",
        "\n",
        "![4_else.png](attachment:4_else.png)"
      ]
    },
    {
      "cell_type": "code",
      "execution_count": null,
      "metadata": {
        "id": "HjAMFZpB1yYU",
        "outputId": "374ce695-84d0-49f7-d68d-4700f048e8b3"
      },
      "outputs": [
        {
          "name": "stdout",
          "output_type": "stream",
          "text": [
            "Играю ноту фа\n"
          ]
        }
      ],
      "source": [
        "def play_note(note):\n",
        "    print(\"Играю ноту \" + note)\n",
        "    \n",
        "try:\n",
        "    note = get_note_name(4)\n",
        "except ValueError:\n",
        "    print(\"Значение неверное\")\n",
        "except TypeError:\n",
        "    print(\"Тип аргумента неверный\")\n",
        "else:\n",
        "    play_note(note)"
      ]
    },
    {
      "cell_type": "markdown",
      "metadata": {
        "id": "_2-g1mAK1yYU"
      },
      "source": [
        "### Блок finally\n",
        "\n",
        "В некоторых ситуациях бывает нужно что-то сделать вне зависимости от того, успешно ли исполнился код. Например, закрыть открытый файловый дескриптор. Для этих целей предназначен оператор <code>finally</code>\n",
        "\n",
        "![5_finally.png](attachment:5_finally.png)"
      ]
    },
    {
      "cell_type": "code",
      "execution_count": null,
      "metadata": {
        "id": "gT2tkXHz1yYU",
        "outputId": "e9a7f984-1576-474a-dbb6-b0106c20e5f1"
      },
      "outputs": [
        {
          "name": "stdout",
          "output_type": "stream",
          "text": [
            "Играю ноту фа\n",
            "Сделал всё, что мог\n"
          ]
        }
      ],
      "source": [
        "try:\n",
        "    note = get_note_name(4)\n",
        "except ValueError:\n",
        "    print(\"Значение неверное\")\n",
        "except TypeError:\n",
        "    print(\"Тип аргумента неверный\")\n",
        "else:\n",
        "    play_note(note)\n",
        "finally:\n",
        "    print(\"Сделал всё, что мог\")"
      ]
    },
    {
      "cell_type": "code",
      "execution_count": null,
      "metadata": {
        "id": "4fbdL15y1yYU",
        "outputId": "47acf02c-600f-4365-9fa4-03c12d10e79a"
      },
      "outputs": [
        {
          "name": "stdout",
          "output_type": "stream",
          "text": [
            "Значение неверное\n",
            "Сделал всё, что мог\n"
          ]
        }
      ],
      "source": [
        "try:\n",
        "    note = get_note_name(42342)\n",
        "except ValueError:\n",
        "    print(\"Значение неверное\")\n",
        "except TypeError:\n",
        "    print(\"Тип аргумента неверный\")\n",
        "else:\n",
        "    play_note(note)\n",
        "finally:\n",
        "    print(\"Сделал всё, что мог\")"
      ]
    },
    {
      "cell_type": "code",
      "execution_count": null,
      "metadata": {
        "id": "CqkTrB581yYU",
        "outputId": "e1530ffe-3165-49bf-d0b3-7db45f6b4f48"
      },
      "outputs": [
        {
          "name": "stdout",
          "output_type": "stream",
          "text": [
            "Сделал всё, что мог\n"
          ]
        },
        {
          "ename": "ZeroDivisionError",
          "evalue": "division by zero",
          "output_type": "error",
          "traceback": [
            "\u001b[0;31m---------------------------------------------------------------------------\u001b[0m",
            "\u001b[0;31mZeroDivisionError\u001b[0m                         Traceback (most recent call last)",
            "\u001b[0;32m<ipython-input-32-f05a55854054>\u001b[0m in \u001b[0;36m<module>\u001b[0;34m\u001b[0m\n\u001b[1;32m      1\u001b[0m \u001b[0;32mtry\u001b[0m\u001b[0;34m:\u001b[0m\u001b[0;34m\u001b[0m\u001b[0;34m\u001b[0m\u001b[0m\n\u001b[0;32m----> 2\u001b[0;31m     \u001b[0;36m1\u001b[0m \u001b[0;34m/\u001b[0m \u001b[0;36m0\u001b[0m\u001b[0;34m\u001b[0m\u001b[0;34m\u001b[0m\u001b[0m\n\u001b[0m\u001b[1;32m      3\u001b[0m \u001b[0;32mexcept\u001b[0m \u001b[0mValueError\u001b[0m\u001b[0;34m:\u001b[0m\u001b[0;34m\u001b[0m\u001b[0;34m\u001b[0m\u001b[0m\n\u001b[1;32m      4\u001b[0m     \u001b[0mprint\u001b[0m\u001b[0;34m(\u001b[0m\u001b[0;34m\"Значение неверное\"\u001b[0m\u001b[0;34m)\u001b[0m\u001b[0;34m\u001b[0m\u001b[0;34m\u001b[0m\u001b[0m\n\u001b[1;32m      5\u001b[0m \u001b[0;32mexcept\u001b[0m \u001b[0mTypeError\u001b[0m\u001b[0;34m:\u001b[0m\u001b[0;34m\u001b[0m\u001b[0;34m\u001b[0m\u001b[0m\n",
            "\u001b[0;31mZeroDivisionError\u001b[0m: division by zero"
          ]
        }
      ],
      "source": [
        "try:\n",
        "    1 / 0\n",
        "except ValueError:\n",
        "    print(\"Значение неверное\")\n",
        "except TypeError:\n",
        "    print(\"Тип аргумента неверный\")\n",
        "else:\n",
        "    play_note(note)\n",
        "finally:\n",
        "    print(\"Сделал всё, что мог\")"
      ]
    },
    {
      "cell_type": "markdown",
      "metadata": {
        "id": "2q8t5RRZ1yYV"
      },
      "source": [
        "## NotImplementedError\n",
        "\n",
        "Это исключение используется, когда мы в общем случае предполагаем наличие метода у объекта, но в конкретной реализации он не определен. С его помощью можно создавать абстрактные классы, т.е. такие классы, объекты которых не должны быть созданы и использованы никогда по ходу исполнения вашей программы. Такой подход пригодится, когда будете описывать сущности вашего веб-приложения в команде, чтобы коллеги понимали, что конкретно нужно реализовать в дочерних классах."
      ]
    },
    {
      "cell_type": "code",
      "execution_count": null,
      "metadata": {
        "id": "Hh4xMdXX1yYV"
      },
      "outputs": [],
      "source": [
        "class AbstractAnimal:         # создаем абстрактный класс, объекты которого не должны использоваться\n",
        "    species = NotImplemented  # напомним, что NotImplemented - это особое значение питона, а не исключение\n",
        "    \n",
        "    def make_a_sound(self):\n",
        "        raise NotImplementedError(\"Этот класс - абстрактный, используйте конкретную реализацию\")\n",
        "        \n",
        "\n",
        "class Cat(AbstractAnimal):    # и наследуем от него конкретные классы, которые использовать можно\n",
        "    species = \"Кошка\"\n",
        "    \n",
        "    def make_a_sound(self):\n",
        "        print(\"Мяяяяяяяу\")\n",
        "    \n",
        "    \n",
        "class Dog(AbstractAnimal):\n",
        "    species = \"Собака\"\n",
        "    \n",
        "    def make_a_sound(self):\n",
        "        print(\"Гав\") "
      ]
    },
    {
      "cell_type": "code",
      "execution_count": null,
      "metadata": {
        "id": "KLMYl2sw1yYV",
        "outputId": "e2c6a4fc-598a-4720-9585-fcf12a61bd37"
      },
      "outputs": [
        {
          "data": {
            "text/plain": [
              "NotImplemented"
            ]
          },
          "execution_count": 34,
          "metadata": {},
          "output_type": "execute_result"
        }
      ],
      "source": [
        "AbstractAnimal().species"
      ]
    },
    {
      "cell_type": "code",
      "execution_count": null,
      "metadata": {
        "id": "EO0pYL_y1yYV",
        "outputId": "ff73e2e0-279c-4864-896e-c4e7a8c33164"
      },
      "outputs": [
        {
          "ename": "NotImplementedError",
          "evalue": "Этот класс - абстрактный, используйте конкретную реализацию",
          "output_type": "error",
          "traceback": [
            "\u001b[0;31m---------------------------------------------------------------------------\u001b[0m",
            "\u001b[0;31mNotImplementedError\u001b[0m                       Traceback (most recent call last)",
            "\u001b[0;32m<ipython-input-35-1f53b14abc5f>\u001b[0m in \u001b[0;36m<module>\u001b[0;34m\u001b[0m\n\u001b[0;32m----> 1\u001b[0;31m \u001b[0mAbstractAnimal\u001b[0m\u001b[0;34m(\u001b[0m\u001b[0;34m)\u001b[0m\u001b[0;34m.\u001b[0m\u001b[0mmake_a_sound\u001b[0m\u001b[0;34m(\u001b[0m\u001b[0;34m)\u001b[0m\u001b[0;34m\u001b[0m\u001b[0;34m\u001b[0m\u001b[0m\n\u001b[0m",
            "\u001b[0;32m<ipython-input-33-91704fe8796b>\u001b[0m in \u001b[0;36mmake_a_sound\u001b[0;34m(self)\u001b[0m\n\u001b[1;32m      3\u001b[0m \u001b[0;34m\u001b[0m\u001b[0m\n\u001b[1;32m      4\u001b[0m     \u001b[0;32mdef\u001b[0m \u001b[0mmake_a_sound\u001b[0m\u001b[0;34m(\u001b[0m\u001b[0mself\u001b[0m\u001b[0;34m)\u001b[0m\u001b[0;34m:\u001b[0m\u001b[0;34m\u001b[0m\u001b[0;34m\u001b[0m\u001b[0m\n\u001b[0;32m----> 5\u001b[0;31m         \u001b[0;32mraise\u001b[0m \u001b[0mNotImplementedError\u001b[0m\u001b[0;34m(\u001b[0m\u001b[0;34m\"Этот класс - абстрактный, используйте конкретную реализацию\"\u001b[0m\u001b[0;34m)\u001b[0m\u001b[0;34m\u001b[0m\u001b[0;34m\u001b[0m\u001b[0m\n\u001b[0m\u001b[1;32m      6\u001b[0m \u001b[0;34m\u001b[0m\u001b[0m\n\u001b[1;32m      7\u001b[0m \u001b[0;34m\u001b[0m\u001b[0m\n",
            "\u001b[0;31mNotImplementedError\u001b[0m: Этот класс - абстрактный, используйте конкретную реализацию"
          ]
        }
      ],
      "source": [
        "AbstractAnimal().make_a_sound()"
      ]
    },
    {
      "cell_type": "code",
      "execution_count": null,
      "metadata": {
        "id": "DGdDT2lx1yYV",
        "outputId": "e76781ad-fb03-4928-b999-f03aaa4069b7"
      },
      "outputs": [
        {
          "name": "stdout",
          "output_type": "stream",
          "text": [
            "Мяяяяяяяу\n",
            "Гав\n"
          ]
        }
      ],
      "source": [
        "Cat().make_a_sound()\n",
        "Dog().make_a_sound()"
      ]
    },
    {
      "cell_type": "markdown",
      "metadata": {
        "id": "D28XaHVH1yYV"
      },
      "source": [
        "## Custom Exceptions\n",
        "\n",
        "Часто при создании крупных проектов и библиотек хочется конкретизировать ошибки, чтобы быстрее с ними справляться или обрабатывать только конкретные случаи ошибок. Для этого можно создать классы новых исключений, отнаследовавшись от базового или любого другого исключения."
      ]
    },
    {
      "cell_type": "code",
      "execution_count": null,
      "metadata": {
        "id": "TTTmHsyq1yYV"
      },
      "outputs": [],
      "source": [
        "class MyIndexError(IndexError):\n",
        "    def __init__(self, *args, **kwargs):\n",
        "        IndexError.__init__(self, *args, **kwargs)"
      ]
    },
    {
      "cell_type": "markdown",
      "metadata": {
        "id": "-XW4r-wC1yYW"
      },
      "source": [
        "При этом наследование этого класса будет учитываться при поимке исключения:"
      ]
    },
    {
      "cell_type": "code",
      "execution_count": null,
      "metadata": {
        "id": "zO1CCzIV1yYW",
        "outputId": "f5343aac-ae2c-482b-d9f1-292127549949"
      },
      "outputs": [
        {
          "ename": "IndexError",
          "evalue": "выбрасываем IndexError",
          "output_type": "error",
          "traceback": [
            "\u001b[0;31m---------------------------------------------------------------------------\u001b[0m",
            "\u001b[0;31mIndexError\u001b[0m                                Traceback (most recent call last)",
            "\u001b[0;32m<ipython-input-38-5b47adbebc98>\u001b[0m in \u001b[0;36m<module>\u001b[0;34m\u001b[0m\n\u001b[1;32m      1\u001b[0m \u001b[0;32mtry\u001b[0m\u001b[0;34m:\u001b[0m\u001b[0;34m\u001b[0m\u001b[0;34m\u001b[0m\u001b[0m\n\u001b[0;32m----> 2\u001b[0;31m     \u001b[0;32mraise\u001b[0m \u001b[0mIndexError\u001b[0m\u001b[0;34m(\u001b[0m\u001b[0;34m\"выбрасываем IndexError\"\u001b[0m\u001b[0;34m)\u001b[0m\u001b[0;34m\u001b[0m\u001b[0;34m\u001b[0m\u001b[0m\n\u001b[0m\u001b[1;32m      3\u001b[0m \u001b[0;32mexcept\u001b[0m \u001b[0mMyIndexError\u001b[0m\u001b[0;34m:\u001b[0m\u001b[0;34m\u001b[0m\u001b[0;34m\u001b[0m\u001b[0m\n\u001b[1;32m      4\u001b[0m     \u001b[0mprint\u001b[0m\u001b[0;34m(\u001b[0m\u001b[0;34m\"поймали\"\u001b[0m\u001b[0;34m)\u001b[0m\u001b[0;34m\u001b[0m\u001b[0;34m\u001b[0m\u001b[0m\n",
            "\u001b[0;31mIndexError\u001b[0m: выбрасываем IndexError"
          ]
        }
      ],
      "source": [
        "try:\n",
        "    raise IndexError(\"выбрасываем IndexError\")\n",
        "except MyIndexError:\n",
        "    print(\"поймали\")"
      ]
    },
    {
      "cell_type": "code",
      "execution_count": null,
      "metadata": {
        "id": "EzsWPNco1yYW",
        "outputId": "ba9b7fb5-c341-4f3f-b1eb-f6d938d4ee8b"
      },
      "outputs": [
        {
          "name": "stdout",
          "output_type": "stream",
          "text": [
            "поймали\n"
          ]
        }
      ],
      "source": [
        "try:\n",
        "    raise MyIndexError(\"выбрасываем IndexError\")\n",
        "except IndexError:\n",
        "    print(\"поймали\")"
      ]
    },
    {
      "cell_type": "markdown",
      "metadata": {
        "id": "klskzOMn1yYW"
      },
      "source": [
        "Или, например, мы не хотим показывать в сообщении об ошибке все параметры, с которыми было выброшено исключение, но хотим их записать в лог. Тогда мы можем переопределить конструктор исключения:"
      ]
    },
    {
      "cell_type": "code",
      "execution_count": null,
      "metadata": {
        "id": "togxky_41yYW"
      },
      "outputs": [],
      "source": [
        "class MyLoggingError(Exception):\n",
        "    def __init__(self, message, *args):\n",
        "        super(MyLoggingError, self).__init__(\"Вызываем конструктор базового исключения, но без входных аргументов\")\n",
        "        with open(\"14/exceptions_log.txt\", \"a+\") as log:\n",
        "            log.write(message + \":\" + str(args) + \"\\n\")"
      ]
    },
    {
      "cell_type": "code",
      "execution_count": null,
      "metadata": {
        "id": "uQfAxawz1yYW",
        "outputId": "f03dd029-045b-4b5d-dcac-9c6b5724954e"
      },
      "outputs": [
        {
          "name": "stdout",
          "output_type": "stream",
          "text": [
            "('Вызываем конструктор базового исключения, но без входных аргументов',)\n",
            "('Вызываем конструктор базового исключения, но без входных аргументов',)\n",
            "('Вызываем конструктор базового исключения, но без входных аргументов',)\n",
            "('Вызываем конструктор базового исключения, но без входных аргументов',)\n",
            "('Вызываем конструктор базового исключения, но без входных аргументов',)\n",
            "('Вызываем конструктор базового исключения, но без входных аргументов',)\n",
            "('Вызываем конструктор базового исключения, но без входных аргументов',)\n",
            "('Вызываем конструктор базового исключения, но без входных аргументов',)\n",
            "('Вызываем конструктор базового исключения, но без входных аргументов',)\n",
            "('Вызываем конструктор базового исключения, но без входных аргументов',)\n"
          ]
        }
      ],
      "source": [
        "for i in range(10):\n",
        "    try:\n",
        "        raise MyLoggingError(\"Сообщение об ошибке. Аргументы\", i, \"arg%d\" % i)\n",
        "    except MyLoggingError as e:\n",
        "        print(e.args)"
      ]
    },
    {
      "cell_type": "markdown",
      "metadata": {
        "id": "JhCZw2ou1yYW"
      },
      "source": [
        "Убедимся, что данные попали в лог:"
      ]
    },
    {
      "cell_type": "code",
      "execution_count": null,
      "metadata": {
        "id": "-JDTI-PX1yYW",
        "outputId": "8f31ce26-449d-4296-f087-7d158fe5e697"
      },
      "outputs": [
        {
          "name": "stdout",
          "output_type": "stream",
          "text": [
            "Сообщение об ошибке. Аргументы:(0, 'arg0')\n",
            "Сообщение об ошибке. Аргументы:(1, 'arg1')\n",
            "Сообщение об ошибке. Аргументы:(2, 'arg2')\n",
            "Сообщение об ошибке. Аргументы:(3, 'arg3')\n",
            "Сообщение об ошибке. Аргументы:(4, 'arg4')\n",
            "Сообщение об ошибке. Аргументы:(5, 'arg5')\n",
            "Сообщение об ошибке. Аргументы:(6, 'arg6')\n",
            "Сообщение об ошибке. Аргументы:(7, 'arg7')\n",
            "Сообщение об ошибке. Аргументы:(8, 'arg8')\n",
            "Сообщение об ошибке. Аргументы:(9, 'arg9')\n",
            "\n"
          ]
        }
      ],
      "source": [
        "with open(\"14/exceptions_log.txt\", \"r\") as f:\n",
        "    print(f.read())"
      ]
    },
    {
      "cell_type": "markdown",
      "metadata": {
        "id": "_Z2z0yeM1yYX"
      },
      "source": [
        "# Задание\n",
        "\n",
        "См. контест, задача \"Исключения\""
      ]
    },
    {
      "cell_type": "code",
      "execution_count": null,
      "metadata": {
        "id": "uldpRJsq1yYX"
      },
      "outputs": [],
      "source": [
        "import json\n",
        "import datetime\n",
        "from api import register_booking\n",
        "\n",
        "\n",
        "class Booking():\n",
        "    def __init__(self, room_name, start, end):\n",
        "        self.__end_end = None\n",
        "        self.__begin_start = None\n",
        "        self.__room_name = room_name\n",
        "        self.start = start\n",
        "        self.end = end\n",
        "        self.__duration = int((self.end - self.start).seconds / 60)\n",
        "        self.__start_date = self.start.strftime(\"%Y-%m-%d\")\n",
        "        self.__end_date = self.end.strftime(\"%Y-%m-%d\")\n",
        "        self.__start_time = self.start.strftime(\"%H:%M\")\n",
        "        self.__end_time = self.end.strftime(\"%H:%M\")\n",
        "\n",
        "\n",
        "    @property\n",
        "    def room_name(self):\n",
        "        return self.__room_name\n",
        "    \n",
        "    \n",
        "    @property\n",
        "    def start(self):\n",
        "        return self.__begin_start\n",
        "    \n",
        "    \n",
        "    @property\n",
        "    def end(self):\n",
        "        return self.__end_end\n",
        "    \n",
        "    \n",
        "    @start.setter\n",
        "    def start(self, start):\n",
        "        self.__begin_start = start\n",
        "    \n",
        "    \n",
        "    @end.setter\n",
        "    def end(self, end):\n",
        "        self.__end_end = end\n",
        "        if self.__begin_start > self.__end_end:\n",
        "            raise ValueError(\"Дата окончания раньше даты начала\")\n",
        "    \n",
        "    \n",
        "    def information(self):\n",
        "        return {\n",
        "            \"room_name\": self.__room_name,\n",
        "            \"start_date\": self.__start_date,\n",
        "            \"start_time\": self.__start_time,\n",
        "            \"end_date\": self.__end_date,\n",
        "            \"end_time\": self.__end_time,\n",
        "            \"duration\": self.__duration\n",
        "        }\n",
        "\n",
        "\n",
        "def create_booking(room_name, start, end):\n",
        "    booking = Booking(room_name, start, end)\n",
        "    print(\"Начинаем создание бронирования\")\n",
        "    msg = \"\"\n",
        "    result = False\n",
        "    try:\n",
        "        result = register_booking(booking)\n",
        "        if result:\n",
        "            msg = \"Бронирование создано\"\n",
        "        else:\n",
        "            msg = \"Комната занята\"\n",
        "    except KeyError:\n",
        "        result = False\n",
        "        msg = \"Комната не найдена\"\n",
        "    finally:\n",
        "        print(\"Заканчиваем создание бронирования\")\n",
        "    f_dict = {\n",
        "        \"created\": result,\n",
        "        \"msg\": msg,\n",
        "        \"booking\": booking.information()\n",
        "    }\n",
        "    return json.dumps(f_dict)\n",
        "\n",
        "\n",
        "for i in range(10):\n",
        "    create_booking(\n",
        "        \"Вагнер\",\n",
        "        datetime.datetime(2022, 9, 1, 14),\n",
        "        datetime.datetime(2022, 9, 1, 15, 15)\n",
        "    )"
      ]
    }
  ],
  "metadata": {
    "kernelspec": {
      "display_name": "Python 3",
      "language": "python",
      "name": "python3"
    },
    "language_info": {
      "codemirror_mode": {
        "name": "ipython",
        "version": 3
      },
      "file_extension": ".py",
      "mimetype": "text/x-python",
      "name": "python",
      "nbconvert_exporter": "python",
      "pygments_lexer": "ipython3",
      "version": "3.8.5"
    },
    "colab": {
      "provenance": []
    }
  },
  "nbformat": 4,
  "nbformat_minor": 0
}