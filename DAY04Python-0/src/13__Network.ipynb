{
  "cells": [
    {
      "cell_type": "markdown",
      "metadata": {
        "id": "X0HGMVKpsRRr"
      },
      "source": [
        "# Работа с HTTP-запросами\n",
        "\n",
        "Большинство трафика в Интернете идет через протокол HTTP. Чтобы понять, что это такое, прежде всего приведем несколько определений:\n",
        "\n",
        "**Протокол связи** — набор определённых правил или соглашений интерфейса логического уровня, который определяет обмен данными между различными программами. Эти правила задают единообразный способ передачи сообщений и обработки ошибок.\n",
        "\n",
        "**Сетевой протокол** — набор правил и действий (очерёдности действий), позволяющий осуществлять соединение и обмен данными между двумя и более включёнными в сеть устройствами.\n",
        "\n",
        "**Гипертекст** (англ. hypertext) — термин, обозначающий систему из текстовых страниц, имеющих перекрёстные ссылки, т.е. на каждой странице может располагаться ссылка на любую другую страницу.\n",
        "\n",
        "**HTTP** (Hyper Text Transfer Protocol) — это протокол передачи гипертекста. Изначально использовался для передачи веб-страниц, но теперь по нему можно передавать любую информацию.\n",
        "\n",
        "Чтобы пользоваться этим протоколом, нам не нужно лезть глубоко в детали его реализации, но мы должны уложить для себя несколько основных вещей. В первую очередь, это то, что в протоколе HTTP есть несколько видов запросов, называемых методами:\n",
        "\n",
        "* GET - этот метод используют клиентские запросы, которые ожидают получить в ответ от сервера данные.\n",
        "* POST - это метод используют клиентские запросы, которые не только ожидают получить данные от сервера в ответ, но и сами несут в себе какую-то дополнительную информацию для сервера.\n",
        "\n",
        "Чаще всего используются вышеперечисленные два метода, и, в принципе, их достаточно для решения других задач. Но более \"канонично\" использовать все виды запросов, включая следующие:\n",
        "\n",
        "* PUT - метод для отправки данных на сервер. Например, через него правильно отправлять картинки и прочие файлы с клиентского компьютера на сервер.\n",
        "* DELETE - метод, предназначенный для того, чтобы обозначить, что клиент хочет удалить какие-то данные с сервера.\n",
        "* HEAD - метод, запрашивающий заголовок ответа.\n",
        "* PATCH - метод, предназначенный специально для модификации какого-то ресурса/объекта на сервере (например, в базе данных). Должен содержать только измененные поля. Предполагается, что изменяемый объект существует.\n",
        "\n",
        "Подробно про методы можно почитать [тут](https://restapitutorial.ru/lessons/httpmethods.html).\n",
        "\n",
        "![0_queries.png](attachment:0_queries.png)\n",
        "\n",
        "Каждый запрос должен быть **отправлен на конкретный URL**, т.е. адрес в сети. Допустим, на нашем сайте есть URL `oursite.ru/tasks`. Тогда, используя различные методы, мы можем отправлять разные запросы к серверу, используя только один URL:\n",
        "\n",
        "![1_tasks.png](attachment:1_tasks.png)\n",
        "\n",
        "## Структура HTTP-запроса\n",
        "\n",
        "Каждый запрос, построенный в соответствии с конвенцией протокола HTTP, должен включать следующие данные:\n",
        "\n",
        "- метод\n",
        "- адрес в сети (путь), по которому нужно отправить данные (URL)\n",
        "- внутри URL либо отдельно также могут быть включены некоторые данные, которые мы хотим передать серверу в запросе\n",
        "- протокол (в нашем случае HTTP) и его версия, чтобы сервер правильно понял, в каком порядке и в каком формате нужно считывать пришедший к нему набор нулей и единиц\n",
        "- заголовки запроса. Например, можем описать, что данные закодированы в виде JSON-строк\n",
        "\n",
        "Получив запрос, сервер генерирует и отправляет клиенту обратно ответ, который включает в себя:\n",
        "\n",
        "- статус обработки запроса (например, число 200 означает, что всё ок, а числа 500-599 обозначают внутренние ошибки сервера). Полный список статусов можно посмотреть [в Википедии](https://ru.wikipedia.org/wiki/%D0%A1%D0%BF%D0%B8%D1%81%D0%BE%D0%BA_%D0%BA%D0%BE%D0%B4%D0%BE%D0%B2_%D1%81%D0%BE%D1%81%D1%82%D0%BE%D1%8F%D0%BD%D0%B8%D1%8F_HTTP).\n",
        "- данные ответа, закодированные, например, также в JSON\n",
        "\n",
        "\n",
        "![2_query.png](attachment:2_query.png)\n",
        "\n",
        "\n",
        "## Работа с запросами в Python\n",
        "\n",
        "Раньше было тяжко. Приходилось использовать библиотеку urllib. Выглядело это так:"
      ]
    },
    {
      "cell_type": "code",
      "execution_count": null,
      "metadata": {
        "id": "HzkBezQSsRRv",
        "outputId": "c4d46052-316f-4c40-f0fe-5f1c43e0e3db"
      },
      "outputs": [
        {
          "name": "stdout",
          "output_type": "stream",
          "text": [
            "b'<!doctype html>\\n<!--[if lt IE 7]>   <html class=\"no-js ie6 lt-ie7 lt-ie8 lt-ie9\">   <![endif]-->\\n<!--[if IE 7]>      <html class=\"no-js ie7 lt-ie8 lt-ie9\">          <![endif]-->\\n<!--[if IE 8]>      <html class=\"no-js ie8 lt-ie9\">                 <![endif]-->\\n<!--[if gt IE 8]><!--><html class=\"no-js\"'\n"
          ]
        }
      ],
      "source": [
        "import urllib.request\n",
        "\n",
        "with urllib.request.urlopen('http://www.python.org/') as f:\n",
        "    print(f.read(300))  # выведем на экран первые 300 символов, которые пришли в ответе"
      ]
    },
    {
      "cell_type": "markdown",
      "metadata": {
        "id": "DGgDECbysRRw"
      },
      "source": [
        "Этот метод дает возможность работать с результатом запроса как с файловым дескриптором, открытым с байтовом режиме. Можем задать кодировку, в которой будем обрабатывать информацию:"
      ]
    },
    {
      "cell_type": "code",
      "execution_count": null,
      "metadata": {
        "id": "4q0Q4hx2sRRw",
        "outputId": "1e0447d5-f3b7-4cde-de8e-e9b0814de665"
      },
      "outputs": [
        {
          "name": "stdout",
          "output_type": "stream",
          "text": [
            "<!doctype html>\n",
            "<!--[if lt IE 7]>   <html class=\"no-js ie6 lt-ie7 lt-ie8 lt-ie9\">   <![endif]-->\n",
            "<!-\n"
          ]
        }
      ],
      "source": [
        "with urllib.request.urlopen('http://www.python.org/') as f:\n",
        "    print(f.read(100).decode('utf-8'))"
      ]
    },
    {
      "cell_type": "markdown",
      "metadata": {
        "id": "dFlzoCN-sRRx"
      },
      "source": [
        "Либо использовать метод readlines:"
      ]
    },
    {
      "cell_type": "code",
      "execution_count": null,
      "metadata": {
        "id": "5U0YInVQsRRx",
        "outputId": "f8296193-c2dc-4714-88b8-d113856225d6"
      },
      "outputs": [
        {
          "data": {
            "text/plain": [
              "[b'<!doctype html>\\n',\n",
              " b'<!--[if lt IE 7]>   <html class=\"no-js ie6 lt-ie7 lt-ie8 lt-ie9\">   <![endif]-->\\n',\n",
              " b'<!--[if IE 7]>      <html class=\"no-js ie7 lt-ie8 lt-ie9\">          <![endif]-->\\n',\n",
              " b'<!--[if IE 8]>      <html class=\"no-js ie8 lt-ie9\">                 <![endif]-->\\n',\n",
              " b'<!--[if gt IE 8]><!--><html class=\"no-js\" lang=\"en\" dir=\"ltr\">  <!--<![endif]-->\\n',\n",
              " b'\\n',\n",
              " b'<head>\\n',\n",
              " b'    <meta charset=\"utf-8\">\\n',\n",
              " b'    <meta http-equiv=\"X-UA-Compatible\" content=\"IE=edge\">\\n',\n",
              " b'\\n',\n",
              " b'    <link rel=\"prefetch\" href=\"//ajax.googleapis.com/ajax/libs/jquery/1.8.2/jquery.min.js\">\\n',\n",
              " b'    <link rel=\"prefetch\" href=\"//ajax.googleapis.com/ajax/libs/jqueryui/1.12.1/jquery-ui.min.js\">\\n',\n",
              " b'\\n',\n",
              " b'    <meta name=\"application-name\" content=\"Python.org\">\\n',\n",
              " b'    <meta name=\"msapplication-tooltip\" content=\"The official home of the Python Programming Language\">\\n',\n",
              " b'    <meta name=\"apple-mobile-web-app-title\" content=\"Python.org\">\\n',\n",
              " b'    <meta name=\"apple-mobile-web-app-capable\" content=\"yes\">\\n',\n",
              " b'    <meta name=\"apple-mobile-web-app-status-bar-style\" content=\"black\">\\n',\n",
              " b'\\n',\n",
              " b'    <meta name=\"viewport\" content=\"width=device-width, initial-scale=1.0\">\\n',\n",
              " b'    <meta name=\"HandheldFriendly\" content=\"True\">\\n',\n",
              " b'    <meta name=\"format-detection\" content=\"telephone=no\">\\n',\n",
              " b'    <meta http-equiv=\"cleartype\" content=\"on\">\\n',\n",
              " b'    <meta http-equiv=\"imagetoolbar\" content=\"false\">\\n',\n",
              " b'\\n',\n",
              " b'    <script async\\n',\n",
              " b'            src=\"https://media.ethicalads.io/media/client/v1.4.0/ethicalads.min.js\"\\n',\n",
              " b'            integrity=\"sha256-U3hKDidudIaxBDEzwGJApJgPEf2mWk6cfMWghrAa6i0= sha384-UcmsCqcNRSLW/dV3Lo1oCi2/VaurXbib6p4HyUEOeIa/4OpsrnucrugAefzVZJfI sha512-q4t1L4xEjGV2R4hzqCa41P8jrgFUS8xTb8rdNv4FGvw7FpydVj/kkxBJHOiaoxHa8olCcx1Slk9K+3sNbsM4ug==\"\\n',\n",
              " b'            crossorigin=\"anonymous\"\\n',\n",
              " b'    ></script>\\n',\n",
              " b'    <script src=\"/static/js/libs/modernizr.js\"></script>\\n',\n",
              " b'\\n',\n",
              " b'    <link href=\"/static/stylesheets/style.2135bffe4dde.css\" rel=\"stylesheet\" type=\"text/css\" media=\"all\" title=\"default\" />\\n',\n",
              " b'    <link href=\"/static/stylesheets/mq.f9187444a4a1.css\" rel=\"stylesheet\" type=\"text/css\" media=\"not print, braille, embossed, speech, tty\" />\\n',\n",
              " b'    \\n',\n",
              " b'\\n',\n",
              " b'    <!--[if (lte IE 8)&(!IEMobile)]>\\n',\n",
              " b'    <link href=\"/static/stylesheets/no-mq.bf0c425cdb73.css\" rel=\"stylesheet\" type=\"text/css\" media=\"screen\" />\\n',\n",
              " b'    \\n',\n",
              " b'    \\n',\n",
              " b'    <![endif]-->\\n',\n",
              " b'    <link rel=\"stylesheet\" href=\"//ajax.googleapis.com/ajax/libs/jqueryui/1.12.1/themes/smoothness/jquery-ui.css\">\\n',\n",
              " b'\\n',\n",
              " b'    \\n',\n",
              " b'    <link rel=\"icon\" type=\"image/x-icon\" href=\"/static/favicon.ico\">\\n',\n",
              " b'    <link rel=\"apple-touch-icon-precomposed\" sizes=\"144x144\" href=\"/static/apple-touch-icon-144x144-precomposed.png\">\\n',\n",
              " b'    <link rel=\"apple-touch-icon-precomposed\" sizes=\"114x114\" href=\"/static/apple-touch-icon-114x114-precomposed.png\">\\n',\n",
              " b'    <link rel=\"apple-touch-icon-precomposed\" sizes=\"72x72\" href=\"/static/apple-touch-icon-72x72-precomposed.png\">\\n',\n",
              " b'    <link rel=\"apple-touch-icon-precomposed\" href=\"/static/apple-touch-icon-precomposed.png\">\\n',\n",
              " b'    <link rel=\"apple-touch-icon\" href=\"/static/apple-touch-icon-precomposed.png\">\\n',\n",
              " b'\\n',\n",
              " b'    \\n',\n",
              " b'    <meta name=\"msapplication-TileImage\" content=\"/static/metro-icon-144x144-precomposed.png\"><!-- white shape -->\\n',\n",
              " b'    <meta name=\"msapplication-TileColor\" content=\"#3673a5\"><!-- python blue -->\\n',\n",
              " b'    <meta name=\"msapplication-navbutton-color\" content=\"#3673a5\">\\n',\n",
              " b'\\n',\n",
              " b'    <title>Welcome to Python.org</title>\\n',\n",
              " b'\\n',\n",
              " b'    <meta name=\"description\" content=\"The official home of the Python Programming Language\">\\n',\n",
              " b'    <meta name=\"keywords\" content=\"Python programming language object oriented web free open source software license documentation download community\">\\n',\n",
              " b'\\n',\n",
              " b'    \\n',\n",
              " b'    <meta property=\"og:type\" content=\"website\">\\n',\n",
              " b'    <meta property=\"og:site_name\" content=\"Python.org\">\\n',\n",
              " b'    <meta property=\"og:title\" content=\"Welcome to Python.org\">\\n',\n",
              " b'    <meta property=\"og:description\" content=\"The official home of the Python Programming Language\">\\n',\n",
              " b'    \\n',\n",
              " b'    <meta property=\"og:image\" content=\"https://www.python.org/static/opengraph-icon-200x200.png\">\\n',\n",
              " b'    <meta property=\"og:image:secure_url\" content=\"https://www.python.org/static/opengraph-icon-200x200.png\">\\n',\n",
              " b'    \\n',\n",
              " b'    <meta property=\"og:url\" content=\"https://www.python.org/\">\\n',\n",
              " b'\\n',\n",
              " b'    <link rel=\"author\" href=\"/humans.txt\">\\n',\n",
              " b'\\n',\n",
              " b'    <link rel=\"alternate\" type=\"application/rss+xml\" title=\"Python Enhancement Proposals\"\\n',\n",
              " b'          href=\"https://www.python.org/dev/peps/peps.rss/\">\\n',\n",
              " b'    <link rel=\"alternate\" type=\"application/rss+xml\" title=\"Python Job Opportunities\"\\n',\n",
              " b'          href=\"https://www.python.org/jobs/feed/rss/\">\\n',\n",
              " b'    <link rel=\"alternate\" type=\"application/rss+xml\" title=\"Python Software Foundation News\"\\n',\n",
              " b'          href=\"https://feeds.feedburner.com/PythonSoftwareFoundationNews\">\\n',\n",
              " b'    <link rel=\"alternate\" type=\"application/rss+xml\" title=\"Python Insider\"\\n',\n",
              " b'          href=\"https://feeds.feedburner.com/PythonInsider\">\\n',\n",
              " b'\\n',\n",
              " b'    \\n',\n",
              " b'\\n',\n",
              " b'    \\n',\n",
              " b'    <script type=\"application/ld+json\">\\n',\n",
              " b'     {\\n',\n",
              " b'       \"@context\": \"https://schema.org\",\\n',\n",
              " b'       \"@type\": \"WebSite\",\\n',\n",
              " b'       \"url\": \"https://www.python.org/\",\\n',\n",
              " b'       \"potentialAction\": {\\n',\n",
              " b'         \"@type\": \"SearchAction\",\\n',\n",
              " b'         \"target\": \"https://www.python.org/search/?q={search_term_string}\",\\n',\n",
              " b'         \"query-input\": \"required name=search_term_string\"\\n',\n",
              " b'       }\\n',\n",
              " b'     }\\n',\n",
              " b'    </script>\\n',\n",
              " b'\\n',\n",
              " b'    \\n',\n",
              " b'    <script type=\"text/javascript\">\\n',\n",
              " b'    var _gaq = _gaq || [];\\n',\n",
              " b\"    _gaq.push(['_setAccount', 'UA-39055973-1']);\\n\",\n",
              " b\"    _gaq.push(['_trackPageview']);\\n\",\n",
              " b'\\n',\n",
              " b'    (function() {\\n',\n",
              " b\"        var ga = document.createElement('script'); ga.type = 'text/javascript'; ga.async = true;\\n\",\n",
              " b\"        ga.src = ('https:' == document.location.protocol ? 'https://ssl' : 'http://www') + '.google-analytics.com/ga.js';\\n\",\n",
              " b\"        var s = document.getElementsByTagName('script')[0]; s.parentNode.insertBefore(ga, s);\\n\",\n",
              " b'    })();\\n',\n",
              " b'    </script>\\n',\n",
              " b'    \\n',\n",
              " b'</head>\\n',\n",
              " b'\\n',\n",
              " b'<body class=\"python home\" id=\"homepage\">\\n',\n",
              " b'\\n',\n",
              " b'    <div id=\"touchnav-wrapper\">\\n',\n",
              " b'\\n',\n",
              " b'        <div id=\"nojs\" class=\"do-not-print\">\\n',\n",
              " b'            <p><strong>Notice:</strong> While JavaScript is not essential for this website, your interaction with the content will be limited. Please turn JavaScript on for the full experience. </p>\\n',\n",
              " b'        </div>\\n',\n",
              " b'\\n',\n",
              " b'        <!--[if lte IE 8]>\\n',\n",
              " b'        <div id=\"oldie-warning\" class=\"do-not-print\">\\n',\n",
              " b'            <p>\\n',\n",
              " b'                <strong>Notice:</strong> Your browser is <em>ancient</em>. Please\\n',\n",
              " b'                <a href=\"http://browsehappy.com/\">upgrade to a different browser</a> to experience a better web.\\n',\n",
              " b'            </p>\\n',\n",
              " b'        </div>\\n',\n",
              " b'        <![endif]-->\\n',\n",
              " b'\\n',\n",
              " b'        <!-- Sister Site Links -->\\n',\n",
              " b'        <div id=\"top\" class=\"top-bar do-not-print\">\\n',\n",
              " b'\\n',\n",
              " b'            <nav class=\"meta-navigation container\" role=\"navigation\">\\n',\n",
              " b'\\n',\n",
              " b'                \\n',\n",
              " b'                <div class=\"skip-link screen-reader-text\">\\n',\n",
              " b'                    <a href=\"#content\" title=\"Skip to content\">Skip to content</a>\\n',\n",
              " b'                </div>\\n',\n",
              " b'\\n',\n",
              " b'                \\n',\n",
              " b'                <a id=\"close-python-network\" class=\"jump-link\" href=\"#python-network\" aria-hidden=\"true\">\\n',\n",
              " b'                    <span aria-hidden=\"true\" class=\"icon-arrow-down\"><span>&#9660;</span></span> Close\\n',\n",
              " b'                </a>\\n',\n",
              " b'\\n',\n",
              " b'                \\n',\n",
              " b'\\n',\n",
              " b'<ul class=\"menu\" role=\"tree\">\\n',\n",
              " b'    \\n',\n",
              " b'    <li class=\"python-meta current_item selectedcurrent_branch selected\">\\n',\n",
              " b'        <a href=\"/\" title=\"The Python Programming Language\" class=\"current_item selectedcurrent_branch selected\">Python</a>\\n',\n",
              " b'    </li>\\n',\n",
              " b'    \\n',\n",
              " b'    <li class=\"psf-meta \">\\n',\n",
              " b'        <a href=\"/psf-landing/\" title=\"The Python Software Foundation\" >PSF</a>\\n',\n",
              " b'    </li>\\n',\n",
              " b'    \\n',\n",
              " b'    <li class=\"docs-meta \">\\n',\n",
              " b'        <a href=\"https://docs.python.org\" title=\"Python Documentation\" >Docs</a>\\n',\n",
              " b'    </li>\\n',\n",
              " b'    \\n',\n",
              " b'    <li class=\"pypi-meta \">\\n',\n",
              " b'        <a href=\"https://pypi.org/\" title=\"Python Package Index\" >PyPI</a>\\n',\n",
              " b'    </li>\\n',\n",
              " b'    \\n',\n",
              " b'    <li class=\"jobs-meta \">\\n',\n",
              " b'        <a href=\"/jobs/\" title=\"Python Job Board\" >Jobs</a>\\n',\n",
              " b'    </li>\\n',\n",
              " b'    \\n',\n",
              " b'    <li class=\"shop-meta \">\\n',\n",
              " b'        <a href=\"/community-landing/\"  >Community</a>\\n',\n",
              " b'    </li>\\n',\n",
              " b'    \\n',\n",
              " b'</ul>\\n',\n",
              " b'\\n',\n",
              " b'\\n',\n",
              " b'                <a id=\"python-network\" class=\"jump-link\" href=\"#top\" aria-hidden=\"true\">\\n',\n",
              " b'                    <span aria-hidden=\"true\" class=\"icon-arrow-up\"><span>&#9650;</span></span> The Python Network\\n',\n",
              " b'                </a>\\n',\n",
              " b'\\n',\n",
              " b'            </nav>\\n',\n",
              " b'\\n',\n",
              " b'        </div>\\n',\n",
              " b'\\n',\n",
              " b'        <!-- Header elements -->\\n',\n",
              " b'        <header class=\"main-header\" role=\"banner\">\\n',\n",
              " b'            <div class=\"container\">\\n',\n",
              " b'\\n',\n",
              " b'                <h1 class=\"site-headline\">\\n',\n",
              " b'                    <a href=\"/\"><img class=\"python-logo\" src=\"/static/img/python-logo.png\" alt=\"python&trade;\"></a>\\n',\n",
              " b'                </h1>\\n',\n",
              " b'\\n',\n",
              " b'                <div class=\"options-bar-container do-not-print\">\\n',\n",
              " b'                    <a href=\"https://psfmember.org/civicrm/contribute/transact?reset=1&id=2\" class=\"donate-button\">Donate</a>\\n',\n",
              " b'                    <div class=\"options-bar\">\\n',\n",
              " b'                        \\n',\n",
              " b'                        <a id=\"site-map-link\" class=\"jump-to-menu\" href=\"#site-map\"><span class=\"menu-icon\">&equiv;</span> Menu</a><form class=\"search-the-site\" action=\"/search/\" method=\"get\">\\n',\n",
              " b'                            <fieldset title=\"Search Python.org\">\\n',\n",
              " b'\\n',\n",
              " b'                                <span aria-hidden=\"true\" class=\"icon-search\"></span>\\n',\n",
              " b'\\n',\n",
              " b'                                <label class=\"screen-reader-text\" for=\"id-search-field\">Search This Site</label>\\n',\n",
              " b'                                <input id=\"id-search-field\" name=\"q\" type=\"search\" role=\"textbox\" class=\"search-field\" placeholder=\"Search\" value=\"\" tabindex=\"1\">\\n',\n",
              " b'\\n',\n",
              " b'                                <button type=\"submit\" name=\"submit\" id=\"submit\" class=\"search-button\" title=\"Submit this Search\" tabindex=\"3\">\\n',\n",
              " b'                                    GO\\n',\n",
              " b'                                </button>\\n',\n",
              " b'\\n',\n",
              " b'                                \\n',\n",
              " b'                                <!--[if IE]><input type=\"text\" style=\"display: none;\" disabled=\"disabled\" size=\"1\" tabindex=\"4\"><![endif]-->\\n',\n",
              " b'\\n',\n",
              " b'                            </fieldset>\\n',\n",
              " b'                        </form><span class=\"breaker\"></span><div class=\"adjust-font-size\" aria-hidden=\"true\">\\n',\n",
              " b'                            <ul class=\"navigation menu\" aria-label=\"Adjust Text Size on Page\">\\n',\n",
              " b'                                <li class=\"tier-1 last\" aria-haspopup=\"true\">\\n',\n",
              " b'                                    <a href=\"#\" class=\"action-trigger\"><strong><small>A</small> A</strong></a>\\n',\n",
              " b'                                    <ul class=\"subnav menu\">\\n',\n",
              " b'                                        <li class=\"tier-2 element-1\" role=\"treeitem\"><a class=\"text-shrink\" title=\"Make Text Smaller\" href=\"javascript:;\">Smaller</a></li>\\n',\n",
              " b'                                        <li class=\"tier-2 element-2\" role=\"treeitem\"><a class=\"text-grow\" title=\"Make Text Larger\" href=\"javascript:;\">Larger</a></li>\\n',\n",
              " b'                                        <li class=\"tier-2 element-3\" role=\"treeitem\"><a class=\"text-reset\" title=\"Reset any font size changes I have made\" href=\"javascript:;\">Reset</a></li>\\n',\n",
              " b'                                    </ul>\\n',\n",
              " b'                                </li>\\n',\n",
              " b'                            </ul>\\n',\n",
              " b'                        </div><div class=\"winkwink-nudgenudge\">\\n',\n",
              " b'                            <ul class=\"navigation menu\" aria-label=\"Social Media Navigation\">\\n',\n",
              " b'                                <li class=\"tier-1 last\" aria-haspopup=\"true\">\\n',\n",
              " b'                                    <a href=\"#\" class=\"action-trigger\">Socialize</a>\\n',\n",
              " b'                                    <ul class=\"subnav menu\">\\n',\n",
              " b'                                        <li class=\"tier-2 element-1\" role=\"treeitem\"><a href=\"https://www.facebook.com/pythonlang?fref=ts\"><span aria-hidden=\"true\" class=\"icon-facebook\"></span>Facebook</a></li>\\n',\n",
              " b'                                        <li class=\"tier-2 element-2\" role=\"treeitem\"><a href=\"https://twitter.com/ThePSF\"><span aria-hidden=\"true\" class=\"icon-twitter\"></span>Twitter</a></li>\\n',\n",
              " b'                                        <li class=\"tier-2 element-3\" role=\"treeitem\"><a href=\"/community/irc/\"><span aria-hidden=\"true\" class=\"icon-freenode\"></span>Chat on IRC</a></li>\\n',\n",
              " b'                                    </ul>\\n',\n",
              " b'                                </li>\\n',\n",
              " b'                            </ul>\\n',\n",
              " b'                        </div>\\n',\n",
              " b'                        <span data-html-include=\"/authenticated\"></span>\\n',\n",
              " b'                    </div><!-- end options-bar -->\\n',\n",
              " b'                </div>\\n',\n",
              " b'\\n',\n",
              " b'                <nav id=\"mainnav\" class=\"python-navigation main-navigation do-not-print\" role=\"navigation\">\\n',\n",
              " b'                    \\n',\n",
              " b'                        \\n',\n",
              " b'<ul class=\"navigation menu\" role=\"menubar\" aria-label=\"Main Navigation\">\\n',\n",
              " b'  \\n',\n",
              " b'    \\n',\n",
              " b'    \\n',\n",
              " b'    <li id=\"about\" class=\"tier-1 element-1  \" aria-haspopup=\"true\">\\n',\n",
              " b'        <a href=\"/about/\" title=\"\" class=\"\">About</a>\\n',\n",
              " b'        \\n',\n",
              " b'            \\n',\n",
              " b'\\n',\n",
              " b'<ul class=\"subnav menu\" role=\"menu\" aria-hidden=\"true\">\\n',\n",
              " b'    \\n',\n",
              " b'        <li class=\"tier-2 element-1\" role=\"treeitem\"><a href=\"/about/apps/\" title=\"\">Applications</a></li>\\n',\n",
              " b'    \\n',\n",
              " b'        <li class=\"tier-2 element-2\" role=\"treeitem\"><a href=\"/about/quotes/\" title=\"\">Quotes</a></li>\\n',\n",
              " b'    \\n',\n",
              " b'        <li class=\"tier-2 element-3\" role=\"treeitem\"><a href=\"/about/gettingstarted/\" title=\"\">Getting Started</a></li>\\n',\n",
              " b'    \\n',\n",
              " b'        <li class=\"tier-2 element-4\" role=\"treeitem\"><a href=\"/about/help/\" title=\"\">Help</a></li>\\n',\n",
              " b'    \\n',\n",
              " b'        <li class=\"tier-2 element-5\" role=\"treeitem\"><a href=\"http://brochure.getpython.info/\" title=\"\">Python Brochure</a></li>\\n',\n",
              " b'    \\n',\n",
              " b'</ul>\\n',\n",
              " b'\\n',\n",
              " b'        \\n',\n",
              " b'    </li>\\n',\n",
              " b'    \\n',\n",
              " b'    \\n',\n",
              " b'    \\n',\n",
              " b'    <li id=\"downloads\" class=\"tier-1 element-2  \" aria-haspopup=\"true\">\\n',\n",
              " b'        <a href=\"/downloads/\" title=\"\" class=\"\">Downloads</a>\\n',\n",
              " b'        \\n',\n",
              " b'            \\n',\n",
              " b'\\n',\n",
              " b'<ul class=\"subnav menu\" role=\"menu\" aria-hidden=\"true\">\\n',\n",
              " b'    \\n',\n",
              " b'        <li class=\"tier-2 element-1\" role=\"treeitem\"><a href=\"/downloads/\" title=\"\">All releases</a></li>\\n',\n",
              " b'    \\n',\n",
              " b'        <li class=\"tier-2 element-2\" role=\"treeitem\"><a href=\"/downloads/source/\" title=\"\">Source code</a></li>\\n',\n",
              " b'    \\n',\n",
              " b'        <li class=\"tier-2 element-3\" role=\"treeitem\"><a href=\"/downloads/windows/\" title=\"\">Windows</a></li>\\n',\n",
              " b'    \\n',\n",
              " b'        <li class=\"tier-2 element-4\" role=\"treeitem\"><a href=\"/downloads/macos/\" title=\"\">macOS</a></li>\\n',\n",
              " b'    \\n',\n",
              " b'        <li class=\"tier-2 element-5\" role=\"treeitem\"><a href=\"/download/other/\" title=\"\">Other Platforms</a></li>\\n',\n",
              " b'    \\n',\n",
              " b'        <li class=\"tier-2 element-6\" role=\"treeitem\"><a href=\"https://docs.python.org/3/license.html\" title=\"\">License</a></li>\\n',\n",
              " b'    \\n',\n",
              " b'        <li class=\"tier-2 element-7\" role=\"treeitem\"><a href=\"/download/alternatives\" title=\"\">Alternative Implementations</a></li>\\n',\n",
              " b'    \\n',\n",
              " b'</ul>\\n',\n",
              " b'\\n',\n",
              " b'        \\n',\n",
              " b'    </li>\\n',\n",
              " b'    \\n',\n",
              " b'    \\n',\n",
              " b'    \\n',\n",
              " b'    <li id=\"documentation\" class=\"tier-1 element-3  \" aria-haspopup=\"true\">\\n',\n",
              " b'        <a href=\"/doc/\" title=\"\" class=\"\">Documentation</a>\\n',\n",
              " b'        \\n',\n",
              " b'            \\n',\n",
              " b'\\n',\n",
              " b'<ul class=\"subnav menu\" role=\"menu\" aria-hidden=\"true\">\\n',\n",
              " b'    \\n',\n",
              " b'        <li class=\"tier-2 element-1\" role=\"treeitem\"><a href=\"/doc/\" title=\"\">Docs</a></li>\\n',\n",
              " b'    \\n',\n",
              " b'        <li class=\"tier-2 element-2\" role=\"treeitem\"><a href=\"/doc/av\" title=\"\">Audio/Visual Talks</a></li>\\n',\n",
              " b'    \\n',\n",
              " b'        <li class=\"tier-2 element-3\" role=\"treeitem\"><a href=\"https://wiki.python.org/moin/BeginnersGuide\" title=\"\">Beginner&#39;s Guide</a></li>\\n',\n",
              " b'    \\n',\n",
              " b'        <li class=\"tier-2 element-4\" role=\"treeitem\"><a href=\"https://devguide.python.org/\" title=\"\">Developer&#39;s Guide</a></li>\\n',\n",
              " b'    \\n',\n",
              " b'        <li class=\"tier-2 element-5\" role=\"treeitem\"><a href=\"https://docs.python.org/faq/\" title=\"\">FAQ</a></li>\\n',\n",
              " b'    \\n',\n",
              " b'        <li class=\"tier-2 element-6\" role=\"treeitem\"><a href=\"http://wiki.python.org/moin/Languages\" title=\"\">Non-English Docs</a></li>\\n',\n",
              " b'    \\n',\n",
              " b'        <li class=\"tier-2 element-7\" role=\"treeitem\"><a href=\"http://python.org/dev/peps/\" title=\"\">PEP Index</a></li>\\n',\n",
              " b'    \\n',\n",
              " b'        <li class=\"tier-2 element-8\" role=\"treeitem\"><a href=\"https://wiki.python.org/moin/PythonBooks\" title=\"\">Python Books</a></li>\\n',\n",
              " b'    \\n',\n",
              " b'        <li class=\"tier-2 element-9\" role=\"treeitem\"><a href=\"/doc/essays/\" title=\"\">Python Essays</a></li>\\n',\n",
              " b'    \\n',\n",
              " b'</ul>\\n',\n",
              " b'\\n',\n",
              " b'        \\n',\n",
              " b'    </li>\\n',\n",
              " b'    \\n',\n",
              " b'    \\n',\n",
              " b'    \\n',\n",
              " b'    <li id=\"community\" class=\"tier-1 element-4  \" aria-haspopup=\"true\">\\n',\n",
              " b'        <a href=\"/community/\" title=\"\" class=\"\">Community</a>\\n',\n",
              " b'        \\n',\n",
              " b'            \\n',\n",
              " b'\\n',\n",
              " b'<ul class=\"subnav menu\" role=\"menu\" aria-hidden=\"true\">\\n',\n",
              " b'    \\n',\n",
              " b'        <li class=\"tier-2 element-1\" role=\"treeitem\"><a href=\"/community/diversity/\" title=\"\">Diversity</a></li>\\n',\n",
              " b'    \\n',\n",
              " b'        <li class=\"tier-2 element-2\" role=\"treeitem\"><a href=\"/community/lists/\" title=\"\">Mailing Lists</a></li>\\n',\n",
              " b'    \\n',\n",
              " b'        <li class=\"tier-2 element-3\" role=\"treeitem\"><a href=\"/community/irc/\" title=\"\">IRC</a></li>\\n',\n",
              " b'    \\n',\n",
              " b'        <li class=\"tier-2 element-4\" role=\"treeitem\"><a href=\"/community/forums/\" title=\"\">Forums</a></li>\\n',\n",
              " b'    \\n',\n",
              " b'        <li class=\"tier-2 element-5\" role=\"treeitem\"><a href=\"/psf/annual-report/2021/\" title=\"\">PSF Annual Impact Report</a></li>\\n',\n",
              " b'    \\n',\n",
              " b'        <li class=\"tier-2 element-6\" role=\"treeitem\"><a href=\"/community/workshops/\" title=\"\">Python Conferences</a></li>\\n',\n",
              " b'    \\n',\n",
              " b'        <li class=\"tier-2 element-7\" role=\"treeitem\"><a href=\"/community/sigs/\" title=\"\">Special Interest Groups</a></li>\\n',\n",
              " b'    \\n',\n",
              " b'        <li class=\"tier-2 element-8\" role=\"treeitem\"><a href=\"/community/logos/\" title=\"\">Python Logo</a></li>\\n',\n",
              " b'    \\n',\n",
              " b'        <li class=\"tier-2 element-9\" role=\"treeitem\"><a href=\"https://wiki.python.org/moin/\" title=\"\">Python Wiki</a></li>\\n',\n",
              " b'    \\n',\n",
              " b'        <li class=\"tier-2 element-10\" role=\"treeitem\"><a href=\"/community/merchandise/\" title=\"\">Merchandise</a></li>\\n',\n",
              " b'    \\n',\n",
              " b'        <li class=\"tier-2 element-11\" role=\"treeitem\"><a href=\"/community/awards\" title=\"\">Community Awards</a></li>\\n',\n",
              " b'    \\n',\n",
              " b'        <li class=\"tier-2 element-12\" role=\"treeitem\"><a href=\"/psf/conduct/\" title=\"\">Code of Conduct</a></li>\\n',\n",
              " b'    \\n',\n",
              " b'        <li class=\"tier-2 element-13\" role=\"treeitem\"><a href=\"/psf/get-involved/\" title=\"\">Get Involved</a></li>\\n',\n",
              " b'    \\n',\n",
              " b'        <li class=\"tier-2 element-14\" role=\"treeitem\"><a href=\"/psf/community-stories/\" title=\"\">Shared Stories</a></li>\\n',\n",
              " b'    \\n',\n",
              " b'</ul>\\n',\n",
              " b'\\n',\n",
              " b'        \\n',\n",
              " b'    </li>\\n',\n",
              " b'    \\n',\n",
              " b'    \\n',\n",
              " b'    \\n',\n",
              " b'    <li id=\"success-stories\" class=\"tier-1 element-5  \" aria-haspopup=\"true\">\\n',\n",
              " b'        <a href=\"/success-stories/\" title=\"success-stories\" class=\"\">Success Stories</a>\\n',\n",
              " b'        \\n',\n",
              " b'            \\n',\n",
              " b'\\n',\n",
              " b'<ul class=\"subnav menu\" role=\"menu\" aria-hidden=\"true\">\\n',\n",
              " b'    \\n',\n",
              " b'        <li class=\"tier-2 element-1\" role=\"treeitem\"><a href=\"/success-stories/category/arts/\" title=\"\">Arts</a></li>\\n',\n",
              " b'    \\n',\n",
              " b'        <li class=\"tier-2 element-2\" role=\"treeitem\"><a href=\"/success-stories/category/business/\" title=\"\">Business</a></li>\\n',\n",
              " b'    \\n',\n",
              " b'        <li class=\"tier-2 element-3\" role=\"treeitem\"><a href=\"/success-stories/category/education/\" title=\"\">Education</a></li>\\n',\n",
              " b'    \\n',\n",
              " b'        <li class=\"tier-2 element-4\" role=\"treeitem\"><a href=\"/success-stories/category/engineering/\" title=\"\">Engineering</a></li>\\n',\n",
              " b'    \\n',\n",
              " b'        <li class=\"tier-2 element-5\" role=\"treeitem\"><a href=\"/success-stories/category/government/\" title=\"\">Government</a></li>\\n',\n",
              " b'    \\n',\n",
              " b'        <li class=\"tier-2 element-6\" role=\"treeitem\"><a href=\"/success-stories/category/scientific/\" title=\"\">Scientific</a></li>\\n',\n",
              " b'    \\n',\n",
              " b'        <li class=\"tier-2 element-7\" role=\"treeitem\"><a href=\"/success-stories/category/software-development/\" title=\"\">Software Development</a></li>\\n',\n",
              " b'    \\n',\n",
              " b'</ul>\\n',\n",
              " b'\\n',\n",
              " b'        \\n',\n",
              " b'    </li>\\n',\n",
              " b'    \\n',\n",
              " b'    \\n',\n",
              " b'    \\n',\n",
              " b'    <li id=\"news\" class=\"tier-1 element-6  \" aria-haspopup=\"true\">\\n',\n",
              " b'        <a href=\"/blogs/\" title=\"News from around the Python world\" class=\"\">News</a>\\n',\n",
              " b'        \\n',\n",
              " b'            \\n',\n",
              " b'\\n',\n",
              " b'<ul class=\"subnav menu\" role=\"menu\" aria-hidden=\"true\">\\n',\n",
              " b'    \\n',\n",
              " b'        <li class=\"tier-2 element-1\" role=\"treeitem\"><a href=\"/blogs/\" title=\"Python Insider Blog Posts\">Python News</a></li>\\n',\n",
              " b'    \\n',\n",
              " b'        <li class=\"tier-2 element-2\" role=\"treeitem\"><a href=\"/psf/newsletter/\" title=\"Python Software Foundation Newsletter\">PSF Newsletter</a></li>\\n',\n",
              " b'    \\n',\n",
              " b'        <li class=\"tier-2 element-3\" role=\"treeitem\"><a href=\"http://planetpython.org/\" title=\"Planet Python\">Community News</a></li>\\n',\n",
              " b'    \\n',\n",
              " b'        <li class=\"tier-2 element-4\" role=\"treeitem\"><a href=\"http://pyfound.blogspot.com/\" title=\"PSF Blog\">PSF News</a></li>\\n',\n",
              " b'    \\n',\n",
              " b'        <li class=\"tier-2 element-5\" role=\"treeitem\"><a href=\"http://pycon.blogspot.com/\" title=\"PyCon Blog\">PyCon News</a></li>\\n',\n",
              " b'    \\n',\n",
              " b'</ul>\\n',\n",
              " b'\\n',\n",
              " b'        \\n',\n",
              " b'    </li>\\n',\n",
              " b'    \\n',\n",
              " b'    \\n',\n",
              " b'    \\n',\n",
              " b'    <li id=\"events\" class=\"tier-1 element-7  \" aria-haspopup=\"true\">\\n',\n",
              " b'        <a href=\"/events/\" title=\"\" class=\"\">Events</a>\\n',\n",
              " b'        \\n',\n",
              " b'            \\n',\n",
              " b'\\n',\n",
              " b'<ul class=\"subnav menu\" role=\"menu\" aria-hidden=\"true\">\\n',\n",
              " b'    \\n',\n",
              " b'        <li class=\"tier-2 element-1\" role=\"treeitem\"><a href=\"/events/python-events/\" title=\"\">Python Events</a></li>\\n',\n",
              " b'    \\n',\n",
              " b'        <li class=\"tier-2 element-2\" role=\"treeitem\"><a href=\"/events/python-user-group/\" title=\"\">User Group Events</a></li>\\n',\n",
              " b'    \\n',\n",
              " b'        <li class=\"tier-2 element-3\" role=\"treeitem\"><a href=\"/events/python-events/past/\" title=\"\">Python Events Archive</a></li>\\n',\n",
              " b'    \\n',\n",
              " b'        <li class=\"tier-2 element-4\" role=\"treeitem\"><a href=\"/events/python-user-group/past/\" title=\"\">User Group Events Archive</a></li>\\n',\n",
              " b'    \\n',\n",
              " b'        <li class=\"tier-2 element-5\" role=\"treeitem\"><a href=\"https://wiki.python.org/moin/PythonEventsCalendar#Submitting_an_Event\" title=\"\">Submit an Event</a></li>\\n',\n",
              " b'    \\n',\n",
              " b'</ul>\\n',\n",
              " b'\\n',\n",
              " b'        \\n',\n",
              " b'    </li>\\n',\n",
              " b'    \\n',\n",
              " b'    \\n',\n",
              " b'    \\n',\n",
              " b'    \\n',\n",
              " b'  \\n',\n",
              " b'</ul>\\n',\n",
              " b'\\n',\n",
              " b'                    \\n',\n",
              " b'                </nav>\\n',\n",
              " b'\\n',\n",
              " b'                <div class=\"header-banner \"> <!-- for optional \"do-not-print\" class -->\\n',\n",
              " b'                    \\n',\n",
              " b'        <div id=\"dive-into-python\" class=\"flex-slideshow slideshow\">\\n',\n",
              " b'\\n',\n",
              " b'            <ul class=\"launch-shell menu\" id=\"launch-shell\">\\n',\n",
              " b'                <li>\\n',\n",
              " b'                    <a class=\"button prompt\" id=\"start-shell\" data-shell-container=\"#dive-into-python\" href=\"/shell/\">&gt;_\\n',\n",
              " b'                        <span class=\"message\">Launch Interactive Shell</span>\\n',\n",
              " b'                    </a>\\n',\n",
              " b'                </li>\\n',\n",
              " b'            </ul>\\n',\n",
              " b'\\n',\n",
              " b'            <ul class=\"slides menu\">\\n',\n",
              " b'                \\n',\n",
              " b'                <li>\\n',\n",
              " b'                    <div class=\"slide-code\"><pre><code><span class=\"comment\"># Python 3: Fibonacci series up to n</span>\\r\\n',\n",
              " b'>>> def fib(n):\\r\\n',\n",
              " b'>>>     a, b = 0, 1\\r\\n',\n",
              " b'>>>     while a &lt; n:\\r\\n',\n",
              " b\">>>         print(a, end=' ')\\r\\n\",\n",
              " b'>>>         a, b = b, a+b\\r\\n',\n",
              " b'>>>     print()\\r\\n',\n",
              " b'>>> fib(1000)\\r\\n',\n",
              " b'<span class=\"output\">0 1 1 2 3 5 8 13 21 34 55 89 144 233 377 610 987</span></code></pre></div>\\n',\n",
              " b'                    <div class=\"slide-copy\"><h1>Functions Defined</h1>\\r\\n',\n",
              " b'<p>The core of extensible programming is defining functions. Python allows mandatory and optional arguments, keyword arguments, and even arbitrary argument lists. <a href=\"//docs.python.org/3/tutorial/controlflow.html#defining-functions\">More about defining functions in Python&nbsp;3</a></p></div>\\n',\n",
              " b'                </li>\\n',\n",
              " b'                \\n',\n",
              " b'                <li>\\n',\n",
              " b'                    <div class=\"slide-code\"><pre><code><span class=\"comment\"># Python 3: List comprehensions</span>\\r\\n',\n",
              " b\">>> fruits = ['Banana', 'Apple', 'Lime']\\r\\n\",\n",
              " b'>>> loud_fruits = [fruit.upper() for fruit in fruits]\\r\\n',\n",
              " b'>>> print(loud_fruits)\\r\\n',\n",
              " b'<span class=\"output\">[\\'BANANA\\', \\'APPLE\\', \\'LIME\\']</span>\\r\\n',\n",
              " b'\\r\\n',\n",
              " b'<span class=\"comment\"># List and the enumerate function</span>\\r\\n',\n",
              " b'>>> list(enumerate(fruits))\\r\\n',\n",
              " b'<span class=\"output\">[(0, \\'Banana\\'), (1, \\'Apple\\'), (2, \\'Lime\\')]</span></code></pre></div>\\n',\n",
              " b'                    <div class=\"slide-copy\"><h1>Compound Data Types</h1>\\r\\n',\n",
              " b'<p>Lists (known as arrays in other languages) are one of the compound data types that Python understands. Lists can be indexed, sliced and manipulated with other built-in functions. <a href=\"//docs.python.org/3/tutorial/introduction.html#lists\">More about lists in Python&nbsp;3</a></p></div>\\n',\n",
              " b'                </li>\\n',\n",
              " b'                \\n',\n",
              " b'                <li>\\n',\n",
              " b'                    <div class=\"slide-code\"><pre><code><span class=\"comment\"># Python 3: Simple arithmetic</span>\\r\\n',\n",
              " b'>>> 1 / 2\\r\\n',\n",
              " b'<span class=\"output\">0.5</span>\\r\\n',\n",
              " b'>>> 2 ** 3\\r\\n',\n",
              " b'<span class=\"output\">8</span>\\r\\n',\n",
              " b'>>> 17 / 3  <span class=\"comment\"># classic division returns a float</span>\\r\\n',\n",
              " b'<span class=\"output\">5.666666666666667</span>\\r\\n',\n",
              " b'>>> 17 // 3  <span class=\"comment\"># floor division</span>\\r\\n',\n",
              " b'<span class=\"output\">5</span></code></pre></div>\\n',\n",
              " b'                    <div class=\"slide-copy\"><h1>Intuitive Interpretation</h1>\\r\\n',\n",
              " b'<p>Calculations are simple with Python, and expression syntax is straightforward: the operators <code>+</code>, <code>-</code>, <code>*</code> and <code>/</code> work as expected; parentheses <code>()</code> can be used for grouping. <a href=\"http://docs.python.org/3/tutorial/introduction.html#using-python-as-a-calculator\">More about simple math functions in Python&nbsp;3</a>.</p></div>\\n',\n",
              " b'                </li>\\n',\n",
              " b'                \\n',\n",
              " b'                <li>\\n',\n",
              " b'                    <div class=\"slide-code\"><pre><code><span class=\"comment\"># For loop on a list</span>\\r\\n',\n",
              " b'>>> numbers = [2, 4, 6, 8]\\r\\n',\n",
              " b'>>> product = 1\\r\\n',\n",
              " b'>>> for number in numbers:\\r\\n',\n",
              " b'...    product = product * number\\r\\n',\n",
              " b'... \\r\\n',\n",
              " b\">>> print('The product is:', product)\\r\\n\",\n",
              " b'<span class=\"output\">The product is: 384</span></code></pre></div>\\n',\n",
              " b'                    <div class=\"slide-copy\"><h1>All the Flow You&rsquo;d Expect</h1>\\r\\n',\n",
              " b'<p>Python knows the usual control flow statements that other languages speak &mdash; <code>if</code>, <code>for</code>, <code>while</code> and <code>range</code> &mdash; with some of its own twists, of course. <a href=\"//docs.python.org/3/tutorial/controlflow.html\">More control flow tools in Python&nbsp;3</a></p></div>\\n',\n",
              " b'                </li>\\n',\n",
              " b'                \\n',\n",
              " b'                <li>\\n',\n",
              " b'                    <div class=\"slide-code\"><pre><code><span class=\\\\\"comment\\\\\"># Simple output (with Unicode)</span>\\r\\n',\n",
              " b'>>> print(\\\\\"Hello, I\\'m Python!\\\\\")\\r\\n',\n",
              " b'<span class=\\\\\"output\\\\\">Hello, I\\'m Python!</span>\\r\\n',\n",
              " b'<span class=\\\\\"comment\\\\\"># Input, assignment</span>\\r\\n',\n",
              " b\">>> name = input('What is your name?\\\\\\\\n')\\r\\n\",\n",
              " b'<span class=\\\\\"output\\\\\">What is your name?\\r\\n',\n",
              " b'Python</span>\\r\\n',\n",
              " b\">>> print(f'Hi, {name}.')\\r\\n\",\n",
              " b'<span class=\\\\\"output\\\\\">Hi, Python.</span></code>\\r\\n',\n",
              " b'</pre></div>\\n',\n",
              " b'                    <div class=\"slide-copy\"><h1>Quick &amp; Easy to Learn</h1>\\r\\n',\n",
              " b'<p>Experienced programmers in any other language can pick up Python very quickly, and beginners find the clean syntax and indentation structure easy to learn. <a href=\"//docs.python.org/3/tutorial/\">Whet your appetite</a> with our Python&nbsp;3 overview.</p></div>\\n',\n",
              " b'                </li>\\n',\n",
              " b'                \\n',\n",
              " b'            </ul>\\n',\n",
              " b'        </div>\\n',\n",
              " b'\\n',\n",
              " b'\\n',\n",
              " b'                </div>\\n',\n",
              " b'\\n',\n",
              " b'                \\n',\n",
              " b'        <div class=\"introduction\">\\n',\n",
              " b'            <p>Python is a programming language that lets you work quickly <span class=\"breaker\"></span>and integrate systems more effectively. <a class=\"readmore\" href=\"/doc/\">Learn More</a></p>\\n',\n",
              " b'        </div>\\n',\n",
              " b'\\n',\n",
              " b'\\n',\n",
              " b'             </div><!-- end .container -->\\n',\n",
              " b'        </header>\\n',\n",
              " b'\\n',\n",
              " b'        <div id=\"content\" class=\"content-wrapper\">\\n',\n",
              " b'            <!-- Main Content Column -->\\n',\n",
              " b'            <div class=\"container\">\\n',\n",
              " b'\\n',\n",
              " b'                <section class=\"main-content \" role=\"main\">\\n',\n",
              " b'\\n',\n",
              " b'                    \\n',\n",
              " b'                    \\n',\n",
              " b'\\n',\n",
              " b'                    \\n',\n",
              " b'\\n',\n",
              " b'                    \\n',\n",
              " b'\\n',\n",
              " b'                <div class=\"notification-bar notification-bar--survey\" style=\"background-color: #ffdf76; color: #664e04; border-color: #004d7a; text-align: center; background-color: #004d7a; color: #fff; padding: 10px; margin: .5em; position: relative; width: 95%; background-color: #ffdf76; color: #664e04; border-color: #004d7a; border-radius: 1em;\">\\n',\n",
              " b'  <span class=\"notification-bar__icon\">\\n',\n",
              " b'    <i class=\"fa fa-chart-line\" aria-hidden=\"true\"></i>\\n',\n",
              " b'  </span>\\n',\n",
              " b'  <span class=\"notification-bar__message\">Support Python in 2022! Check out the special deal open only till November 22nd. &nbsp;&nbsp;<a class=\"button button--dark button--small button--primary\" style=\"color: #606060; border-color: #006dad; background-color: #006dad;\" href=\"https://www.python.org/psf/donations/2022-q4-drive/\"  target=\"_blank\" rel=\"noopener\">Join in today!</a>\\n',\n",
              " b'   </span>\\n',\n",
              " b'</div>\\n',\n",
              " b'\\n',\n",
              " b'\\n',\n",
              " b'                <div class=\"row\">\\n',\n",
              " b'\\n',\n",
              " b'                    <div class=\"small-widget get-started-widget\">\\n',\n",
              " b'                        <h2 class=\"widget-title\"><span aria-hidden=\"true\" class=\"icon-get-started\"></span>Get Started</h2>\\r\\n',\n",
              " b\"<p>Whether you're new to programming or an experienced developer, it's easy to learn and use Python.</p>\\r\\n\",\n",
              " b'<p><a href=\"/about/gettingstarted/\">Start with our Beginner&rsquo;s Guide</a></p>\\n',\n",
              " b'                    </div>\\n',\n",
              " b'\\n',\n",
              " b'                    <div class=\"small-widget download-widget\">\\n',\n",
              " b'                        <h2 class=\"widget-title\"><span aria-hidden=\"true\" class=\"icon-download\"></span>Download</h2>\\n',\n",
              " b'<p>Python source code and installers are available for download for all versions!</p>\\n',\n",
              " b'<p>Latest: <a href=\"/downloads/release/python-3110/\">Python 3.11.0</a></p>\\n',\n",
              " b'                    </div>\\n',\n",
              " b'\\n',\n",
              " b'                    <div class=\"small-widget documentation-widget\">\\n',\n",
              " b'                        <h2 class=\"widget-title\"><span aria-hidden=\"true\" class=\"icon-documentation\"></span>Docs</h2>\\r\\n',\n",
              " b\"<p>Documentation for Python's standard library, along with tutorials and guides, are available online.</p>\\r\\n\",\n",
              " b'<p><a href=\"https://docs.python.org\">docs.python.org</a></p>\\n',\n",
              " b'                    </div>\\n',\n",
              " b'\\n',\n",
              " b'                    <div class=\"small-widget jobs-widget last\">\\n',\n",
              " b'                        <h2 class=\"widget-title\"><span aria-hidden=\"true\" class=\"icon-jobs\"></span>Jobs</h2>\\r\\n',\n",
              " b\"<p>Looking for work or have a Python related position that you're trying to hire for? Our <strong>relaunched community-run job board</strong> is the place to go.</p>\\r\\n\",\n",
              " b'<p><a href=\"//jobs.python.org\">jobs.python.org</a></p>\\n',\n",
              " b'                    </div>\\n',\n",
              " b'\\n',\n",
              " b'                </div>\\n',\n",
              " b'\\n',\n",
              " b'                <div class=\"list-widgets row\">\\n',\n",
              " b'\\n',\n",
              " b'                    <div class=\"medium-widget blog-widget\">\\n',\n",
              " b'                        \\n',\n",
              " b'                        <div class=\"shrubbery\">\\n',\n",
              " b'                        \\n',\n",
              " b'                            <h2 class=\"widget-title\"><span aria-hidden=\"true\" class=\"icon-news\"></span>Latest News</h2>\\n',\n",
              " b'                            <p class=\"give-me-more\"><a href=\"https://blog.python.org\" title=\"More News\">More</a></p>\\n',\n",
              " b'                            \\n',\n",
              " b'                            <ul class=\"menu\">\\n',\n",
              " b'                                \\n',\n",
              " b'                                \\n',\n",
              " b'                                <li>\\n',\n",
              " b'<time datetime=\"2022-11-15T13:06:00.000001+00:00\"><span class=\"say-no-more\">2022-</span>11-15</time>\\n',\n",
              " b' <a href=\"https://pythoninsider.blogspot.com/2022/11/python-3120-alpha-2-released.html\">Python 3.12.0 alpha 2 released</a></li>\\n',\n",
              " b'                                \\n',\n",
              " b'                                <li>\\n',\n",
              " b'<time datetime=\"2022-11-07T17:30:00+00:00\"><span class=\"say-no-more\">2022-</span>11-07</time>\\n',\n",
              " b' <a href=\"https://pyfound.blogspot.com/2022/11/its-time-for-our-annual-year-end-psf.html\">It&#39;s time for our annual year-end PSF fundraiser and membership drive \\xf0\\x9f\\x8e\\x89</a></li>\\n',\n",
              " b'                                \\n',\n",
              " b'                                <li>\\n',\n",
              " b'<time datetime=\"2022-11-01T19:25:00.000001+00:00\"><span class=\"say-no-more\">2022-</span>11-01</time>\\n',\n",
              " b' <a href=\"https://pyfound.blogspot.com/2022/11/thank-you-for-making-pycon-us-amazing.html\">Thank You for Making PyCon US amazing, Jackie!</a></li>\\n',\n",
              " b'                                \\n',\n",
              " b'                                <li>\\n',\n",
              " b'<time datetime=\"2022-10-26T16:09:00.000002+00:00\"><span class=\"say-no-more\">2022-</span>10-26</time>\\n',\n",
              " b' <a href=\"https://pyfound.blogspot.com/2022/10/announcing-python-software-foundation.html\">Announcing Python Software Foundation Fellow Members for Q3 2022! \\xf0\\x9f\\x8e\\x89</a></li>\\n',\n",
              " b'                                \\n',\n",
              " b'                                <li>\\n',\n",
              " b'<time datetime=\"2022-10-25T18:34:53.000001+00:00\"><span class=\"say-no-more\">2022-</span>10-25</time>\\n',\n",
              " b' <a href=\"https://mailchi.mp/python/psf-nov-15542325\">Python Software Foundation - October 2022 Newsletter</a></li>\\n',\n",
              " b'                                \\n',\n",
              " b'                            </ul>\\n',\n",
              " b'                        </div><!-- end .shrubbery -->\\n',\n",
              " b'\\n',\n",
              " b'                    </div>\\n',\n",
              " b'\\n',\n",
              " b'                    <div class=\"medium-widget event-widget last\">\\n',\n",
              " b'                        \\n',\n",
              " b'                        <div class=\"shrubbery\">\\n',\n",
              " b'                        \\n',\n",
              " b'                            <h2 class=\"widget-title\"><span aria-hidden=\"true\" class=\"icon-calendar\"></span>Upcoming Events</h2>\\n',\n",
              " b'                            <p class=\"give-me-more\"><a href=\"/events/calendars/\" title=\"More Events\">More</a></p>\\n',\n",
              " b'                            \\n',\n",
              " b'                            <ul class=\"menu\">\\n',\n",
              " b'                                \\n',\n",
              " b'                                \\n',\n",
              " b'                                \\n',\n",
              " b'                                <li>\\n',\n",
              " b'<time datetime=\"2022-11-23T05:30:00+00:00\"><span class=\"say-no-more\">2022-</span>11-23</time>\\n',\n",
              " b' <a href=\"/events/python-user-group/1388/\">NZPUG-Auckland Coding Challenge &quot;Office Hours&quot; </a></li>\\n',\n",
              " b'                                \\n',\n",
              " b'                                \\n',\n",
              " b'                                \\n',\n",
              " b'                                <li>\\n',\n",
              " b'<time datetime=\"2022-11-26T00:00:00+00:00\"><span class=\"say-no-more\">2022-</span>11-26</time>\\n',\n",
              " b' <a href=\"/events/python-events/1331/\">Pyjamas Conf 2022</a></li>\\n',\n",
              " b'                                \\n',\n",
              " b'                                \\n',\n",
              " b'                                \\n',\n",
              " b'                                <li>\\n',\n",
              " b'<time datetime=\"2022-11-26T08:00:00+00:00\"><span class=\"say-no-more\">2022-</span>11-26</time>\\n',\n",
              " b' <a href=\"/events/python-user-group/1335/\">Django Girls Groningen</a></li>\\n',\n",
              " b'                                \\n',\n",
              " b'                                \\n',\n",
              " b'                                \\n',\n",
              " b'                                <li>\\n',\n",
              " b'<time datetime=\"2022-11-29T16:30:00+00:00\"><span class=\"say-no-more\">2022-</span>11-29</time>\\n',\n",
              " b' <a href=\"/events/python-user-group/1390/\">Getting back to Python land - Stockholm Python User Group</a></li>\\n',\n",
              " b'                                \\n',\n",
              " b'                                \\n',\n",
              " b'                                \\n',\n",
              " b'                                <li>\\n',\n",
              " b'<time datetime=\"2022-11-30T05:30:00+00:00\"><span class=\"say-no-more\">2022-</span>11-30</time>\\n',\n",
              " b' <a href=\"/events/python-user-group/1387/\">NZPUG-Auckland Coding Challenge &quot;Office Hours&quot; </a></li>\\n',\n",
              " b'                                \\n',\n",
              " b'                                \\n',\n",
              " b'                            </ul>\\n',\n",
              " b'                        </div>\\n',\n",
              " b'\\n',\n",
              " b'                    </div>\\n',\n",
              " b'\\n',\n",
              " b'                </div>\\n',\n",
              " b'\\n',\n",
              " b'                <div class=\"row\">\\n',\n",
              " b'\\n',\n",
              " b'                    <div class=\"medium-widget success-stories-widget\">\\n',\n",
              " b'                        \\n',\n",
              " b'\\n',\n",
              " b'\\n',\n",
              " b'\\n',\n",
              " b'                        <div class=\"shrubbery\">\\n',\n",
              " b'                            \\n',\n",
              " b'\\n',\n",
              " b'                            <h2 class=\"widget-title\"><span aria-hidden=\"true\" class=\"icon-success-stories\"></span>Success Stories</h2>\\n',\n",
              " b'                            <p class=\"give-me-more\"><a href=\"/success-stories/\" title=\"More Success Stories\">More</a></p>\\n',\n",
              " b'\\n',\n",
              " b'                            \\n',\n",
              " b'                            <div class=\"success-story-item\" id=\"success-story-836\">\\n',\n",
              " b'\\n',\n",
              " b'                            <blockquote>\\n',\n",
              " b'                                <a href=\"/success-stories/python-seo-link-analyzer/\">&quot;Python is all about automating repetitive tasks, leaving more time for your other SEO efforts.&quot;</a>\\n',\n",
              " b'                            </blockquote>\\n',\n",
              " b'\\n',\n",
              " b'                            <table cellpadding=\"0\" cellspacing=\"0\" border=\"0\" width=\"100%\" class=\"quote-from\">\\n',\n",
              " b'                                <tbody>\\n',\n",
              " b'                                    <tr>\\n',\n",
              " b'                                        \\n',\n",
              " b'                                        <td><p><a href=\"/success-stories/python-seo-link-analyzer/\">Using Python scripts to analyse SEO and broken links on your site</a> <em>by Marnix de Munck</em></p></td>\\n',\n",
              " b'                                    </tr>\\n',\n",
              " b'                                </tbody>\\n',\n",
              " b'                            </table>\\n',\n",
              " b'                            </div>\\n',\n",
              " b'                            \\n',\n",
              " b'\\n',\n",
              " b'                        </div><!-- end .shrubbery -->\\n',\n",
              " b'\\n',\n",
              " b'                    </div>\\n',\n",
              " b'\\n',\n",
              " b'                    <div class=\"medium-widget applications-widget last\">\\n',\n",
              " b'                        <div class=\"shrubbery\">\\n',\n",
              " b'                            <h2 class=\"widget-title\"><span aria-hidden=\"true\" class=\"icon-python\"></span>Use Python for&hellip;</h2>\\r\\n',\n",
              " b'<p class=\"give-me-more\"><a href=\"/about/apps\" title=\"More Applications\">More</a></p>\\r\\n',\n",
              " b'\\r\\n',\n",
              " b'<ul class=\"menu\">\\r\\n',\n",
              " b'    <li><b>Web Development</b>:\\r\\n',\n",
              " b'        <span class=\"tag-wrapper\"><a class=\"tag\" href=\"http://www.djangoproject.com/\">Django</a>, <a class=\"tag\" href=\"http://www.pylonsproject.org/\">Pyramid</a>, <a class=\"tag\" href=\"http://bottlepy.org\">Bottle</a>, <a class=\"tag\" href=\"http://tornadoweb.org\">Tornado</a>, <a href=\"http://flask.pocoo.org/\" class=\"tag\">Flask</a>, <a class=\"tag\" href=\"http://www.web2py.com/\">web2py</a></span></li>\\r\\n',\n",
              " b'    <li><b>GUI Development</b>:\\r\\n',\n",
              " b'        <span class=\"tag-wrapper\"><a class=\"tag\" href=\"http://wiki.python.org/moin/TkInter\">tkInter</a>, <a class=\"tag\" href=\"https://wiki.gnome.org/Projects/PyGObject\">PyGObject</a>, <a class=\"tag\" href=\"http://www.riverbankcomputing.co.uk/software/pyqt/intro\">PyQt</a>, <a class=\"tag\" href=\"https://wiki.qt.io/PySide\">PySide</a>, <a class=\"tag\" href=\"https://kivy.org/\">Kivy</a>, <a class=\"tag\" href=\"http://www.wxpython.org/\">wxPython</a></span></li>\\r\\n',\n",
              " b'    <li><b>Scientific and Numeric</b>:\\r\\n',\n",
              " b'        <span class=\"tag-wrapper\">\\r\\n',\n",
              " b'<a class=\"tag\" href=\"http://www.scipy.org\">SciPy</a>, <a class=\"tag\" href=\"http://pandas.pydata.org/\">Pandas</a>, <a href=\"http://ipython.org\" class=\"tag\">IPython</a></span></li>\\r\\n',\n",
              " b'    <li><b>Software Development</b>:\\r\\n',\n",
              " b'        <span class=\"tag-wrapper\"><a class=\"tag\" href=\"http://buildbot.net/\">Buildbot</a>, <a class=\"tag\" href=\"http://trac.edgewall.org/\">Trac</a>, <a class=\"tag\" href=\"http://roundup.sourceforge.net/\">Roundup</a></span></li>\\r\\n',\n",
              " b'    <li><b>System Administration</b>:\\r\\n',\n",
              " b'        <span class=\"tag-wrapper\"><a class=\"tag\" href=\"http://www.ansible.com\">Ansible</a>, <a class=\"tag\" href=\"https://saltproject.io\">Salt</a>, <a class=\"tag\" href=\"https://www.openstack.org\">OpenStack</a>, <a class=\"tag\" href=\"https://xon.sh\">xonsh</a></span></li>\\r\\n',\n",
              " b'</ul>\\n',\n",
              " b'                        </div><!-- end .shrubbery -->\\n',\n",
              " b'                    </div>\\n',\n",
              " b'\\n',\n",
              " b'                </div>\\n',\n",
              " b'\\n',\n",
              " b'                \\n',\n",
              " b'                <div class=\"pep-widget\">\\n',\n",
              " b'\\n',\n",
              " b'                    <h2 class=\"widget-title\">\\n',\n",
              " b'                        <span class=\"prompt\">&gt;&gt;&gt;</span> <a href=\"/dev/peps/\">Python Enhancement Proposals<span class=\"say-no-more\"> (PEPs)</span></a>: The future of Python<span class=\"say-no-more\"> is discussed here.</span>\\n',\n",
              " b'                        <a aria-hidden=\"true\" class=\"rss-link\" href=\"/dev/peps/peps.rss\"><span class=\"icon-feed\"></span> RSS</a>\\n',\n",
              " b'                    </h2>\\n',\n",
              " b'\\n',\n",
              " b'\\n',\n",
              " b'                    \\n',\n",
              " b'                    \\n',\n",
              " b'                </div>\\n',\n",
              " b'\\n',\n",
              " b'                                <div class=\"psf-widget\">\\n',\n",
              " b'\\n',\n",
              " b'                    <div class=\"python-logo\"></div>\\n',\n",
              " b'                    \\n',\n",
              " b'                    <h2 class=\"widget-title\">\\r\\n',\n",
              " b'    <span class=\"prompt\">&gt;&gt;&gt;</span> <a href=\"/psf/\">Python Software Foundation</a>\\r\\n',\n",
              " b'</h2>\\r\\n',\n",
              " b'<p>The mission of the Python Software Foundation is to promote, protect, and advance the Python programming language, and to support and facilitate the growth of a diverse and international community of Python programmers. <a class=\"readmore\" href=\"/psf/\">Learn more</a> </p>\\r\\n',\n",
              " b'<p class=\"click-these\">\\r\\n',\n",
              " b'    <a class=\"button\" href=\"/users/membership/\">Become a Member</a>\\r\\n',\n",
              " b'    <a class=\"button\" href=\"/psf/donations/\">Donate to the PSF</a>\\r\\n',\n",
              " b'</p>\\n',\n",
              " b'                </div>\\n',\n",
              " b'\\n',\n",
              " b'\\n',\n",
              " b'\\n',\n",
              " b'\\n',\n",
              " b'                </section>\\n',\n",
              " b'\\n',\n",
              " b'                \\n',\n",
              " b'                \\n',\n",
              " b'\\n',\n",
              " b'                \\n',\n",
              " b'                \\n',\n",
              " b'\\n',\n",
              " b'\\n',\n",
              " b'            </div><!-- end .container -->\\n',\n",
              " b'        </div><!-- end #content .content-wrapper -->\\n',\n",
              " b'\\n',\n",
              " b'        <!-- Footer and social media list -->\\n',\n",
              " b'        \\n',\n",
              " b'        <footer id=\"site-map\" class=\"main-footer\" role=\"contentinfo\">\\n',\n",
              " b'            <div class=\"main-footer-links\">\\n',\n",
              " b'                <div class=\"container\">\\n',\n",
              " b'\\n',\n",
              " b'                    \\n',\n",
              " b'                    <a id=\"back-to-top-1\" class=\"jump-link\" href=\"#python-network\"><span aria-hidden=\"true\" class=\"icon-arrow-up\"><span>&#9650;</span></span> Back to Top</a>\\n',\n",
              " b'\\n',\n",
              " b'                    \\n',\n",
              " b'\\n',\n",
              " b'<ul class=\"sitemap navigation menu do-not-print\" role=\"tree\" id=\"container\">\\n',\n",
              " b'    \\n',\n",
              " b'    <li class=\"tier-1 element-1\">\\n',\n",
              " b'        <a href=\"/about/\" >About</a>\\n',\n",
              " b'        \\n',\n",
              " b'            \\n',\n",
              " b'\\n',\n",
              " b'<ul class=\"subnav menu\">\\n',\n",
              " b'    \\n',\n",
              " b'        <li class=\"tier-2 element-1\" role=\"treeitem\"><a href=\"/about/apps/\" title=\"\">Applications</a></li>\\n',\n",
              " b'    \\n',\n",
              " b'        <li class=\"tier-2 element-2\" role=\"treeitem\"><a href=\"/about/quotes/\" title=\"\">Quotes</a></li>\\n',\n",
              " b'    \\n',\n",
              " b'        <li class=\"tier-2 element-3\" role=\"treeitem\"><a href=\"/about/gettingstarted/\" title=\"\">Getting Started</a></li>\\n',\n",
              " b'    \\n',\n",
              " b'        <li class=\"tier-2 element-4\" role=\"treeitem\"><a href=\"/about/help/\" title=\"\">Help</a></li>\\n',\n",
              " b'    \\n',\n",
              " b'        <li class=\"tier-2 element-5\" role=\"treeitem\"><a href=\"http://brochure.getpython.info/\" title=\"\">Python Brochure</a></li>\\n',\n",
              " b'    \\n',\n",
              " b'</ul>\\n',\n",
              " b'\\n',\n",
              " b'        \\n',\n",
              " b'    </li>\\n',\n",
              " b'    \\n',\n",
              " b'    <li class=\"tier-1 element-2\">\\n',\n",
              " b'        <a href=\"/downloads/\" >Downloads</a>\\n',\n",
              " b'        \\n',\n",
              " b'            \\n',\n",
              " b'\\n',\n",
              " b'<ul class=\"subnav menu\">\\n',\n",
              " b'    \\n',\n",
              " b'        <li class=\"tier-2 element-1\" role=\"treeitem\"><a href=\"/downloads/\" title=\"\">All releases</a></li>\\n',\n",
              " b'    \\n',\n",
              " b'        <li class=\"tier-2 element-2\" role=\"treeitem\"><a href=\"/downloads/source/\" title=\"\">Source code</a></li>\\n',\n",
              " b'    \\n',\n",
              " b'        <li class=\"tier-2 element-3\" role=\"treeitem\"><a href=\"/downloads/windows/\" title=\"\">Windows</a></li>\\n',\n",
              " b'    \\n',\n",
              " b'        <li class=\"tier-2 element-4\" role=\"treeitem\"><a href=\"/downloads/macos/\" title=\"\">macOS</a></li>\\n',\n",
              " b'    \\n',\n",
              " b'        <li class=\"tier-2 element-5\" role=\"treeitem\"><a href=\"/download/other/\" title=\"\">Other Platforms</a></li>\\n',\n",
              " b'    \\n',\n",
              " b'        <li class=\"tier-2 element-6\" role=\"treeitem\"><a href=\"https://docs.python.org/3/license.html\" title=\"\">License</a></li>\\n',\n",
              " b'    \\n',\n",
              " b'        <li class=\"tier-2 element-7\" role=\"treeitem\"><a href=\"/download/alternatives\" title=\"\">Alternative Implementations</a></li>\\n',\n",
              " b'    \\n',\n",
              " b'</ul>\\n',\n",
              " b'\\n',\n",
              " b'        \\n',\n",
              " b'    </li>\\n',\n",
              " b'    \\n',\n",
              " b'    <li class=\"tier-1 element-3\">\\n',\n",
              " b'        <a href=\"/doc/\" >Documentation</a>\\n',\n",
              " b'        \\n',\n",
              " b'            \\n',\n",
              " b'\\n',\n",
              " b'<ul class=\"subnav menu\">\\n',\n",
              " b'    \\n',\n",
              " b'        <li class=\"tier-2 element-1\" role=\"treeitem\"><a href=\"/doc/\" title=\"\">Docs</a></li>\\n',\n",
              " b'    \\n',\n",
              " b'        <li class=\"tier-2 element-2\" role=\"treeitem\"><a href=\"/doc/av\" title=\"\">Audio/Visual Talks</a></li>\\n',\n",
              " b'    \\n',\n",
              " b'        <li class=\"tier-2 element-3\" role=\"treeitem\"><a href=\"https://wiki.python.org/moin/BeginnersGuide\" title=\"\">Beginner&#39;s Guide</a></li>\\n',\n",
              " b'    \\n',\n",
              " b'        <li class=\"tier-2 element-4\" role=\"treeitem\"><a href=\"https://devguide.python.org/\" title=\"\">Developer&#39;s Guide</a></li>\\n',\n",
              " b'    \\n',\n",
              " b'        <li class=\"tier-2 element-5\" role=\"treeitem\"><a href=\"https://docs.python.org/faq/\" title=\"\">FAQ</a></li>\\n',\n",
              " b'    \\n',\n",
              " b'        <li class=\"tier-2 element-6\" role=\"treeitem\"><a href=\"http://wiki.python.org/moin/Languages\" title=\"\">Non-English Docs</a></li>\\n',\n",
              " b'    \\n',\n",
              " b'        <li class=\"tier-2 element-7\" role=\"treeitem\"><a href=\"http://python.org/dev/peps/\" title=\"\">PEP Index</a></li>\\n',\n",
              " b'    \\n',\n",
              " b'        <li class=\"tier-2 element-8\" role=\"treeitem\"><a href=\"https://wiki.python.org/moin/PythonBooks\" title=\"\">Python Books</a></li>\\n',\n",
              " b'    \\n',\n",
              " b'        <li class=\"tier-2 element-9\" role=\"treeitem\"><a href=\"/doc/essays/\" title=\"\">Python Essays</a></li>\\n',\n",
              " b'    \\n',\n",
              " b'</ul>\\n',\n",
              " b'\\n',\n",
              " b'        \\n',\n",
              " b'    </li>\\n',\n",
              " b'    \\n',\n",
              " b'    <li class=\"tier-1 element-4\">\\n',\n",
              " b'        <a href=\"/community/\" >Community</a>\\n',\n",
              " b'        \\n',\n",
              " b'            \\n',\n",
              " b'\\n',\n",
              " b'<ul class=\"subnav menu\">\\n',\n",
              " b'    \\n',\n",
              " b'        <li class=\"tier-2 element-1\" role=\"treeitem\"><a href=\"/community/diversity/\" title=\"\">Diversity</a></li>\\n',\n",
              " b'    \\n',\n",
              " b'        <li class=\"tier-2 element-2\" role=\"treeitem\"><a href=\"/community/lists/\" title=\"\">Mailing Lists</a></li>\\n',\n",
              " b'    \\n',\n",
              " b'        <li class=\"tier-2 element-3\" role=\"treeitem\"><a href=\"/community/irc/\" title=\"\">IRC</a></li>\\n',\n",
              " b'    \\n',\n",
              " b'        <li class=\"tier-2 element-4\" role=\"treeitem\"><a href=\"/community/forums/\" title=\"\">Forums</a></li>\\n',\n",
              " b'    \\n',\n",
              " b'        <li class=\"tier-2 element-5\" role=\"treeitem\"><a href=\"/psf/annual-report/2021/\" title=\"\">PSF Annual Impact Report</a></li>\\n',\n",
              " b'    \\n',\n",
              " b'        <li class=\"tier-2 element-6\" role=\"treeitem\"><a href=\"/community/workshops/\" title=\"\">Python Conferences</a></li>\\n',\n",
              " b'    \\n',\n",
              " b'        <li class=\"tier-2 element-7\" role=\"treeitem\"><a href=\"/community/sigs/\" title=\"\">Special Interest Groups</a></li>\\n',\n",
              " b'    \\n',\n",
              " b'        <li class=\"tier-2 element-8\" role=\"treeitem\"><a href=\"/community/logos/\" title=\"\">Python Logo</a></li>\\n',\n",
              " b'    \\n',\n",
              " b'        <li class=\"tier-2 element-9\" role=\"treeitem\"><a href=\"https://wiki.python.org/moin/\" title=\"\">Python Wiki</a></li>\\n',\n",
              " b'    \\n',\n",
              " b'        <li class=\"tier-2 element-10\" role=\"treeitem\"><a href=\"/community/merchandise/\" title=\"\">Merchandise</a></li>\\n',\n",
              " b'    \\n',\n",
              " b'        <li class=\"tier-2 element-11\" role=\"treeitem\"><a href=\"/community/awards\" title=\"\">Community Awards</a></li>\\n',\n",
              " b'    \\n',\n",
              " b'        <li class=\"tier-2 element-12\" role=\"treeitem\"><a href=\"/psf/conduct/\" title=\"\">Code of Conduct</a></li>\\n',\n",
              " b'    \\n',\n",
              " b'        <li class=\"tier-2 element-13\" role=\"treeitem\"><a href=\"/psf/get-involved/\" title=\"\">Get Involved</a></li>\\n',\n",
              " b'    \\n',\n",
              " b'        <li class=\"tier-2 element-14\" role=\"treeitem\"><a href=\"/psf/community-stories/\" title=\"\">Shared Stories</a></li>\\n',\n",
              " b'    \\n',\n",
              " b'</ul>\\n',\n",
              " b'\\n',\n",
              " b'        \\n',\n",
              " b'    </li>\\n',\n",
              " b'    \\n',\n",
              " b'    <li class=\"tier-1 element-5\">\\n',\n",
              " b'        <a href=\"/success-stories/\" title=\"success-stories\">Success Stories</a>\\n',\n",
              " b'        \\n',\n",
              " b'            \\n',\n",
              " b'\\n',\n",
              " b'<ul class=\"subnav menu\">\\n',\n",
              " b'    \\n',\n",
              " b'        <li class=\"tier-2 element-1\" role=\"treeitem\"><a href=\"/success-stories/category/arts/\" title=\"\">Arts</a></li>\\n',\n",
              " b'    \\n',\n",
              " b'        <li class=\"tier-2 element-2\" role=\"treeitem\"><a href=\"/success-stories/category/business/\" title=\"\">Business</a></li>\\n',\n",
              " b'    \\n',\n",
              " b'        <li class=\"tier-2 element-3\" role=\"treeitem\"><a href=\"/success-stories/category/education/\" title=\"\">Education</a></li>\\n',\n",
              " b'    \\n',\n",
              " b'        <li class=\"tier-2 element-4\" role=\"treeitem\"><a href=\"/success-stories/category/engineering/\" title=\"\">Engineering</a></li>\\n',\n",
              " b'    \\n',\n",
              " b'        <li class=\"tier-2 element-5\" role=\"treeitem\"><a href=\"/success-stories/category/government/\" title=\"\">Government</a></li>\\n',\n",
              " b'    \\n',\n",
              " b'        <li class=\"tier-2 element-6\" role=\"treeitem\"><a href=\"/success-stories/category/scientific/\" title=\"\">Scientific</a></li>\\n',\n",
              " b'    \\n',\n",
              " b'        <li class=\"tier-2 element-7\" role=\"treeitem\"><a href=\"/success-stories/category/software-development/\" title=\"\">Software Development</a></li>\\n',\n",
              " b'    \\n',\n",
              " b'</ul>\\n',\n",
              " b'\\n',\n",
              " b'        \\n',\n",
              " b'    </li>\\n',\n",
              " b'    \\n',\n",
              " b'    <li class=\"tier-1 element-6\">\\n',\n",
              " b'        <a href=\"/blogs/\" title=\"News from around the Python world\">News</a>\\n',\n",
              " b'        \\n',\n",
              " b'            \\n',\n",
              " b'\\n',\n",
              " b'<ul class=\"subnav menu\">\\n',\n",
              " b'    \\n',\n",
              " b'        <li class=\"tier-2 element-1\" role=\"treeitem\"><a href=\"/blogs/\" title=\"Python Insider Blog Posts\">Python News</a></li>\\n',\n",
              " b'    \\n',\n",
              " b'        <li class=\"tier-2 element-2\" role=\"treeitem\"><a href=\"/psf/newsletter/\" title=\"Python Software Foundation Newsletter\">PSF Newsletter</a></li>\\n',\n",
              " b'    \\n',\n",
              " b'        <li class=\"tier-2 element-3\" role=\"treeitem\"><a href=\"http://planetpython.org/\" title=\"Planet Python\">Community News</a></li>\\n',\n",
              " b'    \\n',\n",
              " b'        <li class=\"tier-2 element-4\" role=\"treeitem\"><a href=\"http://pyfound.blogspot.com/\" title=\"PSF Blog\">PSF News</a></li>\\n',\n",
              " b'    \\n',\n",
              " b'        <li class=\"tier-2 element-5\" role=\"treeitem\"><a href=\"http://pycon.blogspot.com/\" title=\"PyCon Blog\">PyCon News</a></li>\\n',\n",
              " b'    \\n',\n",
              " b'</ul>\\n',\n",
              " b'\\n',\n",
              " b'        \\n',\n",
              " b'    </li>\\n',\n",
              " b'    \\n',\n",
              " b'    <li class=\"tier-1 element-7\">\\n',\n",
              " b'        <a href=\"/events/\" >Events</a>\\n',\n",
              " b'        \\n',\n",
              " b'            \\n',\n",
              " b'\\n',\n",
              " b'<ul class=\"subnav menu\">\\n',\n",
              " b'    \\n',\n",
              " b'        <li class=\"tier-2 element-1\" role=\"treeitem\"><a href=\"/events/python-events/\" title=\"\">Python Events</a></li>\\n',\n",
              " b'    \\n',\n",
              " b'        <li class=\"tier-2 element-2\" role=\"treeitem\"><a href=\"/events/python-user-group/\" title=\"\">User Group Events</a></li>\\n',\n",
              " b'    \\n',\n",
              " b'        <li class=\"tier-2 element-3\" role=\"treeitem\"><a href=\"/events/python-events/past/\" title=\"\">Python Events Archive</a></li>\\n',\n",
              " b'    \\n',\n",
              " b'        <li class=\"tier-2 element-4\" role=\"treeitem\"><a href=\"/events/python-user-group/past/\" title=\"\">User Group Events Archive</a></li>\\n',\n",
              " b'    \\n',\n",
              " b'        <li class=\"tier-2 element-5\" role=\"treeitem\"><a href=\"https://wiki.python.org/moin/PythonEventsCalendar#Submitting_an_Event\" title=\"\">Submit an Event</a></li>\\n',\n",
              " b'    \\n',\n",
              " b'</ul>\\n',\n",
              " b'\\n',\n",
              " b'        \\n',\n",
              " b'    </li>\\n',\n",
              " b'    \\n',\n",
              " b'    <li class=\"tier-1 element-8\">\\n',\n",
              " b'        <a href=\"/dev/\" >Contributing</a>\\n',\n",
              " b'        \\n',\n",
              " b'            \\n',\n",
              " b'\\n',\n",
              " b'<ul class=\"subnav menu\">\\n',\n",
              " b'    \\n',\n",
              " b'        <li class=\"tier-2 element-1\" role=\"treeitem\"><a href=\"https://devguide.python.org/\" title=\"\">Developer&#39;s Guide</a></li>\\n',\n",
              " b'    \\n',\n",
              " b'        <li class=\"tier-2 element-2\" role=\"treeitem\"><a href=\"https://bugs.python.org/\" title=\"\">Issue Tracker</a></li>\\n',\n",
              " ...]"
            ]
          },
          "execution_count": 3,
          "metadata": {},
          "output_type": "execute_result"
        }
      ],
      "source": [
        "resp = urllib.request.urlopen('http://www.python.org/')\n",
        "resp.readlines()"
      ]
    },
    {
      "cell_type": "markdown",
      "metadata": {
        "id": "gWWy4QnPsRRx"
      },
      "source": [
        "В этом ответе мы видим HTML-разметку: теги, записанные в треугольных скобках, и их содержимое. Именно так в виде текстового документа и выглядят веб-страницы, которые мы открываем в браузере (браузер - это программа, через которую мы открываем веб-сайты). Мы уделим много времени работе с HTML-разметкой в модулях про веб-разработку."
      ]
    },
    {
      "cell_type": "markdown",
      "metadata": {
        "id": "HufIMyHQsRRy"
      },
      "source": [
        "### Небольшое объявление\n",
        "\n",
        "Для воспроизведения работы последующего кода зайдите на сайт https://webhook.site и подставьте URL, который вам присвоит этот сайт, вместо тех адресов, которые записаны в ячейках с кодом.\n",
        "\n",
        "---\n",
        "А вот так можно отправить GET-запрос с параметрами:"
      ]
    },
    {
      "cell_type": "code",
      "execution_count": null,
      "metadata": {
        "id": "6nm6f3pesRRy",
        "outputId": "5c2fcce1-13a4-4b94-f4f8-7787b4935f17"
      },
      "outputs": [
        {
          "name": "stdout",
          "output_type": "stream",
          "text": [
            "Мы сформировали следующий URL: https://webhook.site/a91bae20-7d84-46d7-b3ed-abb8d4c3f6c1?spam=1&eggs=2&bacon=0\n"
          ]
        }
      ],
      "source": [
        "# ссылка, чтоб посмотреть, что отправилось\n",
        "# https://webhook.site/a91bae20-7d84-46d7-b3ed-abb8d4c3f6c1/ed4ee105-ffac-4081-b156-da971c0bbb7a/1\n",
        "\n",
        "import urllib.parse\n",
        "\n",
        "BASE_URL = \"https://webhook.site/a91bae20-7d84-46d7-b3ed-abb8d4c3f6c1\"\n",
        "\n",
        "params = urllib.parse.urlencode({'spam': 1, 'eggs': 2, 'bacon': 0})\n",
        "url = BASE_URL + \"?%s\" % params\n",
        "print(\"Мы сформировали следующий URL:\", url)\n",
        "urllib.request.urlopen(url).close()"
      ]
    },
    {
      "cell_type": "markdown",
      "metadata": {
        "id": "IvNJexPAsRRz"
      },
      "source": [
        "В том окне, которое открылось при заходе на https://webhook.site, вы теперь можете увидеть результаты отправленных запросов. Там же показаны параметры, которые мы отправили на сервер с клиента (с нашего компьютера), заголовки и тип запроса."
      ]
    },
    {
      "cell_type": "markdown",
      "metadata": {
        "id": "eRDrmQVgsRRz"
      },
      "source": [
        "![3_get.png](attachment:3_get.png)"
      ]
    },
    {
      "cell_type": "markdown",
      "metadata": {
        "id": "WC0kSfRQsRRz"
      },
      "source": [
        "POST-запрос не передает параметры в явном виде, как GET, а скрывает их внутри запроса (поэтому пароли нужно передавать только так); формирование его в питоне выглядит так:"
      ]
    },
    {
      "cell_type": "code",
      "execution_count": null,
      "metadata": {
        "id": "_YbYYp1zsRRz"
      },
      "outputs": [],
      "source": [
        "params = urllib.parse.urlencode({'spam': 1, 'eggs': 2, 'bacon': 0}).encode('utf-8')\n",
        "urllib.request.urlopen(BASE_URL, params).close()"
      ]
    },
    {
      "cell_type": "markdown",
      "metadata": {
        "id": "CNjdW9HzsRR0"
      },
      "source": [
        "![4_post.png](attachment:4_post.png)"
      ]
    },
    {
      "cell_type": "markdown",
      "metadata": {
        "id": "nk9anUQ2sRR0"
      },
      "source": [
        "И, наконец, запрос с аутентификацией:"
      ]
    },
    {
      "cell_type": "code",
      "execution_count": null,
      "metadata": {
        "id": "uyHj0lumsRR0",
        "outputId": "b3c78237-d0da-4416-91e5-95508ed0bb3c"
      },
      "outputs": [
        {
          "data": {
            "text/plain": [
              "200"
            ]
          },
          "execution_count": 7,
          "metadata": {},
          "output_type": "execute_result"
        }
      ],
      "source": [
        "password_mgr = urllib.request.HTTPPasswordMgrWithDefaultRealm()\n",
        "top_level_url = 'https://httpbin.org/basic-auth/user/passwd'\n",
        "password_mgr.add_password(None, top_level_url, 'user', 'passwd')\n",
        "handler = urllib.request.HTTPBasicAuthHandler(password_mgr)\n",
        "opener = urllib.request.build_opener(handler)\n",
        "response = opener.open(top_level_url)\n",
        "response.getcode()"
      ]
    },
    {
      "cell_type": "markdown",
      "metadata": {
        "id": "sUkOTVdcsRR0"
      },
      "source": [
        "Если функция `getcode` возвращает 200, значит всё хорошо, и запрос отработал верно."
      ]
    },
    {
      "cell_type": "code",
      "execution_count": null,
      "metadata": {
        "id": "_DzV-93UsRR0",
        "outputId": "956f02dd-3f43-4e9d-b7b8-d7982818db46"
      },
      "outputs": [
        {
          "data": {
            "text/plain": [
              "b'{\\n  \"authenticated\": true, \\n  \"user\": \"user\"\\n}\\n'"
            ]
          },
          "execution_count": 8,
          "metadata": {},
          "output_type": "execute_result"
        }
      ],
      "source": [
        "response.read()"
      ]
    },
    {
      "cell_type": "code",
      "execution_count": null,
      "metadata": {
        "id": "PLz25YVTsRR1"
      },
      "outputs": [],
      "source": [
        "response.close()"
      ]
    },
    {
      "cell_type": "markdown",
      "metadata": {
        "id": "g2LewEVNsRR1"
      },
      "source": [
        "## Библиотека requests\n",
        "\n",
        "Более удобный интерфейс взаимодействия с сетью по HTTP предоставляет библиотека requests."
      ]
    },
    {
      "cell_type": "code",
      "execution_count": null,
      "metadata": {
        "id": "siepR1ZcsRR1"
      },
      "outputs": [],
      "source": [
        "import requests"
      ]
    },
    {
      "cell_type": "markdown",
      "metadata": {
        "id": "_UP-APSisRR1"
      },
      "source": [
        "### GET-запрос\n",
        "\n",
        "Отправим GET-запрос"
      ]
    },
    {
      "cell_type": "code",
      "execution_count": null,
      "metadata": {
        "id": "h5DHmmY8sRR1",
        "outputId": "2bcf777b-67b4-4484-f5c9-81757e1a6a68"
      },
      "outputs": [
        {
          "name": "stdout",
          "output_type": "stream",
          "text": [
            "b'{\\n  \"args\": {}, \\n  \"headers\": {\\n    \"Accept\": \"*/*\", \\n    \"Accept-Encoding\": \"gzip, deflate\", \\n    \"Host\": \"httpbin.org\", \\n    \"User-Agent\": \"python-requests/2.24.0\", \\n    \"X-Amzn-Trace-Id\": \"Root=1-637a5a25-7c3b525b01b3f17c0b7a98e1\"\\n  }, \\n  \"origin\": \"79.104.7.122\", \\n  \"url\": \"https://httpbin.org/get\"\\n}\\n'\n"
          ]
        }
      ],
      "source": [
        "response = requests.get('https://httpbin.org/get')\n",
        "print(response.content)"
      ]
    },
    {
      "cell_type": "markdown",
      "metadata": {
        "id": "ZpdQVa0LsRR1"
      },
      "source": [
        "Можем посмотреть, какие параметры нам пришли в ответе:"
      ]
    },
    {
      "cell_type": "code",
      "execution_count": null,
      "metadata": {
        "id": "XT9vFbJHsRR2",
        "outputId": "d24d90d9-a607-4b3d-d2e2-e1643ccf18ba"
      },
      "outputs": [
        {
          "data": {
            "text/plain": [
              "{'args': {},\n",
              " 'headers': {'Accept': '*/*',\n",
              "  'Accept-Encoding': 'gzip, deflate',\n",
              "  'Host': 'httpbin.org',\n",
              "  'User-Agent': 'python-requests/2.24.0',\n",
              "  'X-Amzn-Trace-Id': 'Root=1-637a5a25-7c3b525b01b3f17c0b7a98e1'},\n",
              " 'origin': '79.104.7.122',\n",
              " 'url': 'https://httpbin.org/get'}"
            ]
          },
          "execution_count": 13,
          "metadata": {},
          "output_type": "execute_result"
        }
      ],
      "source": [
        "response.json()"
      ]
    },
    {
      "cell_type": "markdown",
      "metadata": {
        "id": "i2eIjMkZsRR2"
      },
      "source": [
        "Также заголовки:"
      ]
    },
    {
      "cell_type": "code",
      "execution_count": null,
      "metadata": {
        "id": "4DZSnbHqsRR2",
        "outputId": "d3abf1e8-db57-4589-f2d1-45f1a11ed589"
      },
      "outputs": [
        {
          "data": {
            "text/plain": [
              "{'Date': 'Sun, 20 Nov 2022 16:47:33 GMT', 'Content-Type': 'application/json', 'Content-Length': '306', 'Connection': 'keep-alive', 'Server': 'gunicorn/19.9.0', 'Access-Control-Allow-Origin': '*', 'Access-Control-Allow-Credentials': 'true'}"
            ]
          },
          "execution_count": 14,
          "metadata": {},
          "output_type": "execute_result"
        }
      ],
      "source": [
        "response.headers"
      ]
    },
    {
      "cell_type": "code",
      "execution_count": null,
      "metadata": {
        "id": "IIOhpN_SsRR2",
        "outputId": "ecc5a96d-b584-46e0-f04f-7d8b42af60c0"
      },
      "outputs": [
        {
          "data": {
            "text/plain": [
              "'gunicorn/19.9.0'"
            ]
          },
          "execution_count": 15,
          "metadata": {},
          "output_type": "execute_result"
        }
      ],
      "source": [
        "response.headers.get('Server')"
      ]
    },
    {
      "cell_type": "markdown",
      "metadata": {
        "id": "OfWSzBaZsRR2"
      },
      "source": [
        "### POST-запрос\n",
        "\n",
        "отправить так же просто:"
      ]
    },
    {
      "cell_type": "code",
      "execution_count": null,
      "metadata": {
        "id": "Jm1XxsNhsRR2"
      },
      "outputs": [],
      "source": [
        "response = requests.post(BASE_URL, data={\"some_param\": 124})"
      ]
    },
    {
      "cell_type": "code",
      "execution_count": null,
      "metadata": {
        "id": "pcHLS7RPsRR3"
      },
      "outputs": [],
      "source": [
        "import json\n",
        "s = json.dumps({\"some_param\": 123})\n",
        "print(s)\n",
        "\n",
        "response = requests.post(BASE_URL, json=s)"
      ]
    },
    {
      "cell_type": "markdown",
      "metadata": {
        "id": "DxtjRI2esRR3"
      },
      "source": [
        "### Запрос с аутентификацией"
      ]
    },
    {
      "cell_type": "code",
      "execution_count": null,
      "metadata": {
        "id": "u2GRFYlKsRR3"
      },
      "outputs": [],
      "source": [
        "import requests\n",
        "response = requests.get('https://httpbin.org/basic-auth/user/passwd', auth=('user', 'passwd'))\n",
        "print(response.content)\n",
        "print(response.json())"
      ]
    },
    {
      "cell_type": "markdown",
      "metadata": {
        "id": "ivUOjCv_sRR3"
      },
      "source": [
        "## Обработка исключений библиотеки requests\n",
        "\n",
        "В библиотеке requests реализованы свои собственные типы исключений, дополняющие стандартный набор, поставляемый в питоне по умолчанию.\n",
        "\n",
        "### Почему это важно?\n",
        "\n",
        "Потому что работа с сетью - это то, что зависит не только от нашего кода, но и от ряда вещей, которые обязательно пойдут не так, как задумывалось. Например, сеть упадет или DNS-сервер отвалится. Это всё - исключительные ситуации, которые не хочется закладывать в стандартную логику работы кода, и для них в библиотеке requests предусмотрены исключения.\n",
        "\n",
        "RequestException - базовое исключение, от которого отнаследованы:\n",
        "* HTTPError\n",
        "* ConnectionError\n",
        "* Timeout\n",
        "* SSLError\n",
        "* ProxyError\n",
        "* и т.д."
      ]
    },
    {
      "cell_type": "markdown",
      "metadata": {
        "id": "Vs_bD7rwsRR3"
      },
      "source": [
        "### Timeout\n",
        "\n",
        "Возникает тогда, когда время ожидания запроса превысило установленное время. При этом запрос мы можем разделить на два этапа:\n",
        "1. установка соединения с сервером;\n",
        "2. передача данных по установленному соединению.\n",
        "\n",
        "Соответственно, и вариантов ошибок таймаута соединения у нас тоже два:\n",
        "\n",
        "* ConnectTimeout - таймаут соединения;\n",
        "* ReadTimeout - таймаут на чтение данных.\n",
        "\n",
        "Установить таймауты, отличные от значений по умолчанию, мы можем в функции отправки запроса в параметре timeout в виде кортежа из двух чисел - количества секунд, отведенных на каждый из этапов запроса."
      ]
    },
    {
      "cell_type": "code",
      "execution_count": null,
      "metadata": {
        "id": "jAoVHEBPsRR3",
        "outputId": "5e9c1289-4081-4200-8381-2f41be0f5c2b"
      },
      "outputs": [
        {
          "ename": "ConnectTimeout",
          "evalue": "HTTPSConnectionPool(host='httpbin.org', port=443): Max retries exceeded with url: /user-agent (Caused by ConnectTimeoutError(<urllib3.connection.HTTPSConnection object at 0x7f7a6061a130>, 'Connection to httpbin.org timed out. (connect timeout=1e-05)'))",
          "output_type": "error",
          "traceback": [
            "\u001b[0;31m---------------------------------------------------------------------------\u001b[0m",
            "\u001b[0;31mtimeout\u001b[0m                                   Traceback (most recent call last)",
            "\u001b[0;32m~/opt/anaconda3/lib/python3.8/site-packages/urllib3/connection.py\u001b[0m in \u001b[0;36m_new_conn\u001b[0;34m(self)\u001b[0m\n\u001b[1;32m    158\u001b[0m         \u001b[0;32mtry\u001b[0m\u001b[0;34m:\u001b[0m\u001b[0;34m\u001b[0m\u001b[0;34m\u001b[0m\u001b[0m\n\u001b[0;32m--> 159\u001b[0;31m             conn = connection.create_connection(\n\u001b[0m\u001b[1;32m    160\u001b[0m                 \u001b[0;34m(\u001b[0m\u001b[0mself\u001b[0m\u001b[0;34m.\u001b[0m\u001b[0m_dns_host\u001b[0m\u001b[0;34m,\u001b[0m \u001b[0mself\u001b[0m\u001b[0;34m.\u001b[0m\u001b[0mport\u001b[0m\u001b[0;34m)\u001b[0m\u001b[0;34m,\u001b[0m \u001b[0mself\u001b[0m\u001b[0;34m.\u001b[0m\u001b[0mtimeout\u001b[0m\u001b[0;34m,\u001b[0m \u001b[0;34m**\u001b[0m\u001b[0mextra_kw\u001b[0m\u001b[0;34m\u001b[0m\u001b[0;34m\u001b[0m\u001b[0m\n",
            "\u001b[0;32m~/opt/anaconda3/lib/python3.8/site-packages/urllib3/util/connection.py\u001b[0m in \u001b[0;36mcreate_connection\u001b[0;34m(address, timeout, source_address, socket_options)\u001b[0m\n\u001b[1;32m     83\u001b[0m     \u001b[0;32mif\u001b[0m \u001b[0merr\u001b[0m \u001b[0;32mis\u001b[0m \u001b[0;32mnot\u001b[0m \u001b[0;32mNone\u001b[0m\u001b[0;34m:\u001b[0m\u001b[0;34m\u001b[0m\u001b[0;34m\u001b[0m\u001b[0m\n\u001b[0;32m---> 84\u001b[0;31m         \u001b[0;32mraise\u001b[0m \u001b[0merr\u001b[0m\u001b[0;34m\u001b[0m\u001b[0;34m\u001b[0m\u001b[0m\n\u001b[0m\u001b[1;32m     85\u001b[0m \u001b[0;34m\u001b[0m\u001b[0m\n",
            "\u001b[0;32m~/opt/anaconda3/lib/python3.8/site-packages/urllib3/util/connection.py\u001b[0m in \u001b[0;36mcreate_connection\u001b[0;34m(address, timeout, source_address, socket_options)\u001b[0m\n\u001b[1;32m     73\u001b[0m                 \u001b[0msock\u001b[0m\u001b[0;34m.\u001b[0m\u001b[0mbind\u001b[0m\u001b[0;34m(\u001b[0m\u001b[0msource_address\u001b[0m\u001b[0;34m)\u001b[0m\u001b[0;34m\u001b[0m\u001b[0;34m\u001b[0m\u001b[0m\n\u001b[0;32m---> 74\u001b[0;31m             \u001b[0msock\u001b[0m\u001b[0;34m.\u001b[0m\u001b[0mconnect\u001b[0m\u001b[0;34m(\u001b[0m\u001b[0msa\u001b[0m\u001b[0;34m)\u001b[0m\u001b[0;34m\u001b[0m\u001b[0;34m\u001b[0m\u001b[0m\n\u001b[0m\u001b[1;32m     75\u001b[0m             \u001b[0;32mreturn\u001b[0m \u001b[0msock\u001b[0m\u001b[0;34m\u001b[0m\u001b[0;34m\u001b[0m\u001b[0m\n",
            "\u001b[0;31mtimeout\u001b[0m: timed out",
            "\nDuring handling of the above exception, another exception occurred:\n",
            "\u001b[0;31mConnectTimeoutError\u001b[0m                       Traceback (most recent call last)",
            "\u001b[0;32m~/opt/anaconda3/lib/python3.8/site-packages/urllib3/connectionpool.py\u001b[0m in \u001b[0;36murlopen\u001b[0;34m(self, method, url, body, headers, retries, redirect, assert_same_host, timeout, pool_timeout, release_conn, chunked, body_pos, **response_kw)\u001b[0m\n\u001b[1;32m    669\u001b[0m             \u001b[0;31m# Make the request on the httplib connection object.\u001b[0m\u001b[0;34m\u001b[0m\u001b[0;34m\u001b[0m\u001b[0;34m\u001b[0m\u001b[0m\n\u001b[0;32m--> 670\u001b[0;31m             httplib_response = self._make_request(\n\u001b[0m\u001b[1;32m    671\u001b[0m                 \u001b[0mconn\u001b[0m\u001b[0;34m,\u001b[0m\u001b[0;34m\u001b[0m\u001b[0;34m\u001b[0m\u001b[0m\n",
            "\u001b[0;32m~/opt/anaconda3/lib/python3.8/site-packages/urllib3/connectionpool.py\u001b[0m in \u001b[0;36m_make_request\u001b[0;34m(self, conn, method, url, timeout, chunked, **httplib_request_kw)\u001b[0m\n\u001b[1;32m    380\u001b[0m         \u001b[0;32mtry\u001b[0m\u001b[0;34m:\u001b[0m\u001b[0;34m\u001b[0m\u001b[0;34m\u001b[0m\u001b[0m\n\u001b[0;32m--> 381\u001b[0;31m             \u001b[0mself\u001b[0m\u001b[0;34m.\u001b[0m\u001b[0m_validate_conn\u001b[0m\u001b[0;34m(\u001b[0m\u001b[0mconn\u001b[0m\u001b[0;34m)\u001b[0m\u001b[0;34m\u001b[0m\u001b[0;34m\u001b[0m\u001b[0m\n\u001b[0m\u001b[1;32m    382\u001b[0m         \u001b[0;32mexcept\u001b[0m \u001b[0;34m(\u001b[0m\u001b[0mSocketTimeout\u001b[0m\u001b[0;34m,\u001b[0m \u001b[0mBaseSSLError\u001b[0m\u001b[0;34m)\u001b[0m \u001b[0;32mas\u001b[0m \u001b[0me\u001b[0m\u001b[0;34m:\u001b[0m\u001b[0;34m\u001b[0m\u001b[0;34m\u001b[0m\u001b[0m\n",
            "\u001b[0;32m~/opt/anaconda3/lib/python3.8/site-packages/urllib3/connectionpool.py\u001b[0m in \u001b[0;36m_validate_conn\u001b[0;34m(self, conn)\u001b[0m\n\u001b[1;32m    977\u001b[0m         \u001b[0;32mif\u001b[0m \u001b[0;32mnot\u001b[0m \u001b[0mgetattr\u001b[0m\u001b[0;34m(\u001b[0m\u001b[0mconn\u001b[0m\u001b[0;34m,\u001b[0m \u001b[0;34m\"sock\"\u001b[0m\u001b[0;34m,\u001b[0m \u001b[0;32mNone\u001b[0m\u001b[0;34m)\u001b[0m\u001b[0;34m:\u001b[0m  \u001b[0;31m# AppEngine might not have  `.sock`\u001b[0m\u001b[0;34m\u001b[0m\u001b[0;34m\u001b[0m\u001b[0m\n\u001b[0;32m--> 978\u001b[0;31m             \u001b[0mconn\u001b[0m\u001b[0;34m.\u001b[0m\u001b[0mconnect\u001b[0m\u001b[0;34m(\u001b[0m\u001b[0;34m)\u001b[0m\u001b[0;34m\u001b[0m\u001b[0;34m\u001b[0m\u001b[0m\n\u001b[0m\u001b[1;32m    979\u001b[0m \u001b[0;34m\u001b[0m\u001b[0m\n",
            "\u001b[0;32m~/opt/anaconda3/lib/python3.8/site-packages/urllib3/connection.py\u001b[0m in \u001b[0;36mconnect\u001b[0;34m(self)\u001b[0m\n\u001b[1;32m    308\u001b[0m         \u001b[0;31m# Add certificate verification\u001b[0m\u001b[0;34m\u001b[0m\u001b[0;34m\u001b[0m\u001b[0;34m\u001b[0m\u001b[0m\n\u001b[0;32m--> 309\u001b[0;31m         \u001b[0mconn\u001b[0m \u001b[0;34m=\u001b[0m \u001b[0mself\u001b[0m\u001b[0;34m.\u001b[0m\u001b[0m_new_conn\u001b[0m\u001b[0;34m(\u001b[0m\u001b[0;34m)\u001b[0m\u001b[0;34m\u001b[0m\u001b[0;34m\u001b[0m\u001b[0m\n\u001b[0m\u001b[1;32m    310\u001b[0m         \u001b[0mhostname\u001b[0m \u001b[0;34m=\u001b[0m \u001b[0mself\u001b[0m\u001b[0;34m.\u001b[0m\u001b[0mhost\u001b[0m\u001b[0;34m\u001b[0m\u001b[0;34m\u001b[0m\u001b[0m\n",
            "\u001b[0;32m~/opt/anaconda3/lib/python3.8/site-packages/urllib3/connection.py\u001b[0m in \u001b[0;36m_new_conn\u001b[0;34m(self)\u001b[0m\n\u001b[1;32m    163\u001b[0m         \u001b[0;32mexcept\u001b[0m \u001b[0mSocketTimeout\u001b[0m\u001b[0;34m:\u001b[0m\u001b[0;34m\u001b[0m\u001b[0;34m\u001b[0m\u001b[0m\n\u001b[0;32m--> 164\u001b[0;31m             raise ConnectTimeoutError(\n\u001b[0m\u001b[1;32m    165\u001b[0m                 \u001b[0mself\u001b[0m\u001b[0;34m,\u001b[0m\u001b[0;34m\u001b[0m\u001b[0;34m\u001b[0m\u001b[0m\n",
            "\u001b[0;31mConnectTimeoutError\u001b[0m: (<urllib3.connection.HTTPSConnection object at 0x7f7a6061a130>, 'Connection to httpbin.org timed out. (connect timeout=1e-05)')",
            "\nDuring handling of the above exception, another exception occurred:\n",
            "\u001b[0;31mMaxRetryError\u001b[0m                             Traceback (most recent call last)",
            "\u001b[0;32m~/opt/anaconda3/lib/python3.8/site-packages/requests/adapters.py\u001b[0m in \u001b[0;36msend\u001b[0;34m(self, request, stream, timeout, verify, cert, proxies)\u001b[0m\n\u001b[1;32m    438\u001b[0m             \u001b[0;32mif\u001b[0m \u001b[0;32mnot\u001b[0m \u001b[0mchunked\u001b[0m\u001b[0;34m:\u001b[0m\u001b[0;34m\u001b[0m\u001b[0;34m\u001b[0m\u001b[0m\n\u001b[0;32m--> 439\u001b[0;31m                 resp = conn.urlopen(\n\u001b[0m\u001b[1;32m    440\u001b[0m                     \u001b[0mmethod\u001b[0m\u001b[0;34m=\u001b[0m\u001b[0mrequest\u001b[0m\u001b[0;34m.\u001b[0m\u001b[0mmethod\u001b[0m\u001b[0;34m,\u001b[0m\u001b[0;34m\u001b[0m\u001b[0;34m\u001b[0m\u001b[0m\n",
            "\u001b[0;32m~/opt/anaconda3/lib/python3.8/site-packages/urllib3/connectionpool.py\u001b[0m in \u001b[0;36murlopen\u001b[0;34m(self, method, url, body, headers, retries, redirect, assert_same_host, timeout, pool_timeout, release_conn, chunked, body_pos, **response_kw)\u001b[0m\n\u001b[1;32m    725\u001b[0m \u001b[0;34m\u001b[0m\u001b[0m\n\u001b[0;32m--> 726\u001b[0;31m             retries = retries.increment(\n\u001b[0m\u001b[1;32m    727\u001b[0m                 \u001b[0mmethod\u001b[0m\u001b[0;34m,\u001b[0m \u001b[0murl\u001b[0m\u001b[0;34m,\u001b[0m \u001b[0merror\u001b[0m\u001b[0;34m=\u001b[0m\u001b[0me\u001b[0m\u001b[0;34m,\u001b[0m \u001b[0m_pool\u001b[0m\u001b[0;34m=\u001b[0m\u001b[0mself\u001b[0m\u001b[0;34m,\u001b[0m \u001b[0m_stacktrace\u001b[0m\u001b[0;34m=\u001b[0m\u001b[0msys\u001b[0m\u001b[0;34m.\u001b[0m\u001b[0mexc_info\u001b[0m\u001b[0;34m(\u001b[0m\u001b[0;34m)\u001b[0m\u001b[0;34m[\u001b[0m\u001b[0;36m2\u001b[0m\u001b[0;34m]\u001b[0m\u001b[0;34m\u001b[0m\u001b[0;34m\u001b[0m\u001b[0m\n",
            "\u001b[0;32m~/opt/anaconda3/lib/python3.8/site-packages/urllib3/util/retry.py\u001b[0m in \u001b[0;36mincrement\u001b[0;34m(self, method, url, response, error, _pool, _stacktrace)\u001b[0m\n\u001b[1;32m    445\u001b[0m         \u001b[0;32mif\u001b[0m \u001b[0mnew_retry\u001b[0m\u001b[0;34m.\u001b[0m\u001b[0mis_exhausted\u001b[0m\u001b[0;34m(\u001b[0m\u001b[0;34m)\u001b[0m\u001b[0;34m:\u001b[0m\u001b[0;34m\u001b[0m\u001b[0;34m\u001b[0m\u001b[0m\n\u001b[0;32m--> 446\u001b[0;31m             \u001b[0;32mraise\u001b[0m \u001b[0mMaxRetryError\u001b[0m\u001b[0;34m(\u001b[0m\u001b[0m_pool\u001b[0m\u001b[0;34m,\u001b[0m \u001b[0murl\u001b[0m\u001b[0;34m,\u001b[0m \u001b[0merror\u001b[0m \u001b[0;32mor\u001b[0m \u001b[0mResponseError\u001b[0m\u001b[0;34m(\u001b[0m\u001b[0mcause\u001b[0m\u001b[0;34m)\u001b[0m\u001b[0;34m)\u001b[0m\u001b[0;34m\u001b[0m\u001b[0;34m\u001b[0m\u001b[0m\n\u001b[0m\u001b[1;32m    447\u001b[0m \u001b[0;34m\u001b[0m\u001b[0m\n",
            "\u001b[0;31mMaxRetryError\u001b[0m: HTTPSConnectionPool(host='httpbin.org', port=443): Max retries exceeded with url: /user-agent (Caused by ConnectTimeoutError(<urllib3.connection.HTTPSConnection object at 0x7f7a6061a130>, 'Connection to httpbin.org timed out. (connect timeout=1e-05)'))",
            "\nDuring handling of the above exception, another exception occurred:\n",
            "\u001b[0;31mConnectTimeout\u001b[0m                            Traceback (most recent call last)",
            "\u001b[0;32m<ipython-input-16-dbeac5e81432>\u001b[0m in \u001b[0;36m<module>\u001b[0;34m\u001b[0m\n\u001b[0;32m----> 1\u001b[0;31m \u001b[0mresponse\u001b[0m \u001b[0;34m=\u001b[0m \u001b[0mrequests\u001b[0m\u001b[0;34m.\u001b[0m\u001b[0mget\u001b[0m\u001b[0;34m(\u001b[0m\u001b[0;34m'https://httpbin.org/user-agent'\u001b[0m\u001b[0;34m,\u001b[0m \u001b[0mtimeout\u001b[0m\u001b[0;34m=\u001b[0m\u001b[0;34m(\u001b[0m\u001b[0;36m0.00001\u001b[0m\u001b[0;34m,\u001b[0m \u001b[0;36m10\u001b[0m\u001b[0;34m)\u001b[0m\u001b[0;34m)\u001b[0m\u001b[0;34m\u001b[0m\u001b[0;34m\u001b[0m\u001b[0m\n\u001b[0m",
            "\u001b[0;32m~/opt/anaconda3/lib/python3.8/site-packages/requests/api.py\u001b[0m in \u001b[0;36mget\u001b[0;34m(url, params, **kwargs)\u001b[0m\n\u001b[1;32m     74\u001b[0m \u001b[0;34m\u001b[0m\u001b[0m\n\u001b[1;32m     75\u001b[0m     \u001b[0mkwargs\u001b[0m\u001b[0;34m.\u001b[0m\u001b[0msetdefault\u001b[0m\u001b[0;34m(\u001b[0m\u001b[0;34m'allow_redirects'\u001b[0m\u001b[0;34m,\u001b[0m \u001b[0;32mTrue\u001b[0m\u001b[0;34m)\u001b[0m\u001b[0;34m\u001b[0m\u001b[0;34m\u001b[0m\u001b[0m\n\u001b[0;32m---> 76\u001b[0;31m     \u001b[0;32mreturn\u001b[0m \u001b[0mrequest\u001b[0m\u001b[0;34m(\u001b[0m\u001b[0;34m'get'\u001b[0m\u001b[0;34m,\u001b[0m \u001b[0murl\u001b[0m\u001b[0;34m,\u001b[0m \u001b[0mparams\u001b[0m\u001b[0;34m=\u001b[0m\u001b[0mparams\u001b[0m\u001b[0;34m,\u001b[0m \u001b[0;34m**\u001b[0m\u001b[0mkwargs\u001b[0m\u001b[0;34m)\u001b[0m\u001b[0;34m\u001b[0m\u001b[0;34m\u001b[0m\u001b[0m\n\u001b[0m\u001b[1;32m     77\u001b[0m \u001b[0;34m\u001b[0m\u001b[0m\n\u001b[1;32m     78\u001b[0m \u001b[0;34m\u001b[0m\u001b[0m\n",
            "\u001b[0;32m~/opt/anaconda3/lib/python3.8/site-packages/requests/api.py\u001b[0m in \u001b[0;36mrequest\u001b[0;34m(method, url, **kwargs)\u001b[0m\n\u001b[1;32m     59\u001b[0m     \u001b[0;31m# cases, and look like a memory leak in others.\u001b[0m\u001b[0;34m\u001b[0m\u001b[0;34m\u001b[0m\u001b[0;34m\u001b[0m\u001b[0m\n\u001b[1;32m     60\u001b[0m     \u001b[0;32mwith\u001b[0m \u001b[0msessions\u001b[0m\u001b[0;34m.\u001b[0m\u001b[0mSession\u001b[0m\u001b[0;34m(\u001b[0m\u001b[0;34m)\u001b[0m \u001b[0;32mas\u001b[0m \u001b[0msession\u001b[0m\u001b[0;34m:\u001b[0m\u001b[0;34m\u001b[0m\u001b[0;34m\u001b[0m\u001b[0m\n\u001b[0;32m---> 61\u001b[0;31m         \u001b[0;32mreturn\u001b[0m \u001b[0msession\u001b[0m\u001b[0;34m.\u001b[0m\u001b[0mrequest\u001b[0m\u001b[0;34m(\u001b[0m\u001b[0mmethod\u001b[0m\u001b[0;34m=\u001b[0m\u001b[0mmethod\u001b[0m\u001b[0;34m,\u001b[0m \u001b[0murl\u001b[0m\u001b[0;34m=\u001b[0m\u001b[0murl\u001b[0m\u001b[0;34m,\u001b[0m \u001b[0;34m**\u001b[0m\u001b[0mkwargs\u001b[0m\u001b[0;34m)\u001b[0m\u001b[0;34m\u001b[0m\u001b[0;34m\u001b[0m\u001b[0m\n\u001b[0m\u001b[1;32m     62\u001b[0m \u001b[0;34m\u001b[0m\u001b[0m\n\u001b[1;32m     63\u001b[0m \u001b[0;34m\u001b[0m\u001b[0m\n",
            "\u001b[0;32m~/opt/anaconda3/lib/python3.8/site-packages/requests/sessions.py\u001b[0m in \u001b[0;36mrequest\u001b[0;34m(self, method, url, params, data, headers, cookies, files, auth, timeout, allow_redirects, proxies, hooks, stream, verify, cert, json)\u001b[0m\n\u001b[1;32m    528\u001b[0m         }\n\u001b[1;32m    529\u001b[0m         \u001b[0msend_kwargs\u001b[0m\u001b[0;34m.\u001b[0m\u001b[0mupdate\u001b[0m\u001b[0;34m(\u001b[0m\u001b[0msettings\u001b[0m\u001b[0;34m)\u001b[0m\u001b[0;34m\u001b[0m\u001b[0;34m\u001b[0m\u001b[0m\n\u001b[0;32m--> 530\u001b[0;31m         \u001b[0mresp\u001b[0m \u001b[0;34m=\u001b[0m \u001b[0mself\u001b[0m\u001b[0;34m.\u001b[0m\u001b[0msend\u001b[0m\u001b[0;34m(\u001b[0m\u001b[0mprep\u001b[0m\u001b[0;34m,\u001b[0m \u001b[0;34m**\u001b[0m\u001b[0msend_kwargs\u001b[0m\u001b[0;34m)\u001b[0m\u001b[0;34m\u001b[0m\u001b[0;34m\u001b[0m\u001b[0m\n\u001b[0m\u001b[1;32m    531\u001b[0m \u001b[0;34m\u001b[0m\u001b[0m\n\u001b[1;32m    532\u001b[0m         \u001b[0;32mreturn\u001b[0m \u001b[0mresp\u001b[0m\u001b[0;34m\u001b[0m\u001b[0;34m\u001b[0m\u001b[0m\n",
            "\u001b[0;32m~/opt/anaconda3/lib/python3.8/site-packages/requests/sessions.py\u001b[0m in \u001b[0;36msend\u001b[0;34m(self, request, **kwargs)\u001b[0m\n\u001b[1;32m    641\u001b[0m \u001b[0;34m\u001b[0m\u001b[0m\n\u001b[1;32m    642\u001b[0m         \u001b[0;31m# Send the request\u001b[0m\u001b[0;34m\u001b[0m\u001b[0;34m\u001b[0m\u001b[0;34m\u001b[0m\u001b[0m\n\u001b[0;32m--> 643\u001b[0;31m         \u001b[0mr\u001b[0m \u001b[0;34m=\u001b[0m \u001b[0madapter\u001b[0m\u001b[0;34m.\u001b[0m\u001b[0msend\u001b[0m\u001b[0;34m(\u001b[0m\u001b[0mrequest\u001b[0m\u001b[0;34m,\u001b[0m \u001b[0;34m**\u001b[0m\u001b[0mkwargs\u001b[0m\u001b[0;34m)\u001b[0m\u001b[0;34m\u001b[0m\u001b[0;34m\u001b[0m\u001b[0m\n\u001b[0m\u001b[1;32m    644\u001b[0m \u001b[0;34m\u001b[0m\u001b[0m\n\u001b[1;32m    645\u001b[0m         \u001b[0;31m# Total elapsed time of the request (approximately)\u001b[0m\u001b[0;34m\u001b[0m\u001b[0;34m\u001b[0m\u001b[0;34m\u001b[0m\u001b[0m\n",
            "\u001b[0;32m~/opt/anaconda3/lib/python3.8/site-packages/requests/adapters.py\u001b[0m in \u001b[0;36msend\u001b[0;34m(self, request, stream, timeout, verify, cert, proxies)\u001b[0m\n\u001b[1;32m    502\u001b[0m                 \u001b[0;31m# TODO: Remove this in 3.0.0: see #2811\u001b[0m\u001b[0;34m\u001b[0m\u001b[0;34m\u001b[0m\u001b[0;34m\u001b[0m\u001b[0m\n\u001b[1;32m    503\u001b[0m                 \u001b[0;32mif\u001b[0m \u001b[0;32mnot\u001b[0m \u001b[0misinstance\u001b[0m\u001b[0;34m(\u001b[0m\u001b[0me\u001b[0m\u001b[0;34m.\u001b[0m\u001b[0mreason\u001b[0m\u001b[0;34m,\u001b[0m \u001b[0mNewConnectionError\u001b[0m\u001b[0;34m)\u001b[0m\u001b[0;34m:\u001b[0m\u001b[0;34m\u001b[0m\u001b[0;34m\u001b[0m\u001b[0m\n\u001b[0;32m--> 504\u001b[0;31m                     \u001b[0;32mraise\u001b[0m \u001b[0mConnectTimeout\u001b[0m\u001b[0;34m(\u001b[0m\u001b[0me\u001b[0m\u001b[0;34m,\u001b[0m \u001b[0mrequest\u001b[0m\u001b[0;34m=\u001b[0m\u001b[0mrequest\u001b[0m\u001b[0;34m)\u001b[0m\u001b[0;34m\u001b[0m\u001b[0;34m\u001b[0m\u001b[0m\n\u001b[0m\u001b[1;32m    505\u001b[0m \u001b[0;34m\u001b[0m\u001b[0m\n\u001b[1;32m    506\u001b[0m             \u001b[0;32mif\u001b[0m \u001b[0misinstance\u001b[0m\u001b[0;34m(\u001b[0m\u001b[0me\u001b[0m\u001b[0;34m.\u001b[0m\u001b[0mreason\u001b[0m\u001b[0;34m,\u001b[0m \u001b[0mResponseError\u001b[0m\u001b[0;34m)\u001b[0m\u001b[0;34m:\u001b[0m\u001b[0;34m\u001b[0m\u001b[0;34m\u001b[0m\u001b[0m\n",
            "\u001b[0;31mConnectTimeout\u001b[0m: HTTPSConnectionPool(host='httpbin.org', port=443): Max retries exceeded with url: /user-agent (Caused by ConnectTimeoutError(<urllib3.connection.HTTPSConnection object at 0x7f7a6061a130>, 'Connection to httpbin.org timed out. (connect timeout=1e-05)'))"
          ]
        }
      ],
      "source": [
        "response = requests.get('https://httpbin.org/user-agent', timeout=(0.00001, 10))"
      ]
    },
    {
      "cell_type": "code",
      "execution_count": null,
      "metadata": {
        "id": "Yr21jEB2sRR3",
        "outputId": "a9ef12d6-2b98-4bff-b192-5586af6f5693"
      },
      "outputs": [
        {
          "ename": "ReadTimeout",
          "evalue": "HTTPSConnectionPool(host='httpbin.org', port=443): Read timed out. (read timeout=0.0001)",
          "output_type": "error",
          "traceback": [
            "\u001b[0;31m---------------------------------------------------------------------------\u001b[0m",
            "\u001b[0;31mtimeout\u001b[0m                                   Traceback (most recent call last)",
            "\u001b[0;32m~/opt/anaconda3/lib/python3.8/site-packages/urllib3/connectionpool.py\u001b[0m in \u001b[0;36m_make_request\u001b[0;34m(self, conn, method, url, timeout, chunked, **httplib_request_kw)\u001b[0m\n\u001b[1;32m    425\u001b[0m                     \u001b[0;31m# Otherwise it looks like a bug in the code.\u001b[0m\u001b[0;34m\u001b[0m\u001b[0;34m\u001b[0m\u001b[0;34m\u001b[0m\u001b[0m\n\u001b[0;32m--> 426\u001b[0;31m                     \u001b[0msix\u001b[0m\u001b[0;34m.\u001b[0m\u001b[0mraise_from\u001b[0m\u001b[0;34m(\u001b[0m\u001b[0me\u001b[0m\u001b[0;34m,\u001b[0m \u001b[0;32mNone\u001b[0m\u001b[0;34m)\u001b[0m\u001b[0;34m\u001b[0m\u001b[0;34m\u001b[0m\u001b[0m\n\u001b[0m\u001b[1;32m    427\u001b[0m         \u001b[0;32mexcept\u001b[0m \u001b[0;34m(\u001b[0m\u001b[0mSocketTimeout\u001b[0m\u001b[0;34m,\u001b[0m \u001b[0mBaseSSLError\u001b[0m\u001b[0;34m,\u001b[0m \u001b[0mSocketError\u001b[0m\u001b[0;34m)\u001b[0m \u001b[0;32mas\u001b[0m \u001b[0me\u001b[0m\u001b[0;34m:\u001b[0m\u001b[0;34m\u001b[0m\u001b[0;34m\u001b[0m\u001b[0m\n",
            "\u001b[0;32m~/opt/anaconda3/lib/python3.8/site-packages/urllib3/packages/six.py\u001b[0m in \u001b[0;36mraise_from\u001b[0;34m(value, from_value)\u001b[0m\n",
            "\u001b[0;32m~/opt/anaconda3/lib/python3.8/site-packages/urllib3/connectionpool.py\u001b[0m in \u001b[0;36m_make_request\u001b[0;34m(self, conn, method, url, timeout, chunked, **httplib_request_kw)\u001b[0m\n\u001b[1;32m    420\u001b[0m                 \u001b[0;32mtry\u001b[0m\u001b[0;34m:\u001b[0m\u001b[0;34m\u001b[0m\u001b[0;34m\u001b[0m\u001b[0m\n\u001b[0;32m--> 421\u001b[0;31m                     \u001b[0mhttplib_response\u001b[0m \u001b[0;34m=\u001b[0m \u001b[0mconn\u001b[0m\u001b[0;34m.\u001b[0m\u001b[0mgetresponse\u001b[0m\u001b[0;34m(\u001b[0m\u001b[0;34m)\u001b[0m\u001b[0;34m\u001b[0m\u001b[0;34m\u001b[0m\u001b[0m\n\u001b[0m\u001b[1;32m    422\u001b[0m                 \u001b[0;32mexcept\u001b[0m \u001b[0mBaseException\u001b[0m \u001b[0;32mas\u001b[0m \u001b[0me\u001b[0m\u001b[0;34m:\u001b[0m\u001b[0;34m\u001b[0m\u001b[0;34m\u001b[0m\u001b[0m\n",
            "\u001b[0;32m~/opt/anaconda3/lib/python3.8/http/client.py\u001b[0m in \u001b[0;36mgetresponse\u001b[0;34m(self)\u001b[0m\n\u001b[1;32m   1346\u001b[0m             \u001b[0;32mtry\u001b[0m\u001b[0;34m:\u001b[0m\u001b[0;34m\u001b[0m\u001b[0;34m\u001b[0m\u001b[0m\n\u001b[0;32m-> 1347\u001b[0;31m                 \u001b[0mresponse\u001b[0m\u001b[0;34m.\u001b[0m\u001b[0mbegin\u001b[0m\u001b[0;34m(\u001b[0m\u001b[0;34m)\u001b[0m\u001b[0;34m\u001b[0m\u001b[0;34m\u001b[0m\u001b[0m\n\u001b[0m\u001b[1;32m   1348\u001b[0m             \u001b[0;32mexcept\u001b[0m \u001b[0mConnectionError\u001b[0m\u001b[0;34m:\u001b[0m\u001b[0;34m\u001b[0m\u001b[0;34m\u001b[0m\u001b[0m\n",
            "\u001b[0;32m~/opt/anaconda3/lib/python3.8/http/client.py\u001b[0m in \u001b[0;36mbegin\u001b[0;34m(self)\u001b[0m\n\u001b[1;32m    306\u001b[0m         \u001b[0;32mwhile\u001b[0m \u001b[0;32mTrue\u001b[0m\u001b[0;34m:\u001b[0m\u001b[0;34m\u001b[0m\u001b[0;34m\u001b[0m\u001b[0m\n\u001b[0;32m--> 307\u001b[0;31m             \u001b[0mversion\u001b[0m\u001b[0;34m,\u001b[0m \u001b[0mstatus\u001b[0m\u001b[0;34m,\u001b[0m \u001b[0mreason\u001b[0m \u001b[0;34m=\u001b[0m \u001b[0mself\u001b[0m\u001b[0;34m.\u001b[0m\u001b[0m_read_status\u001b[0m\u001b[0;34m(\u001b[0m\u001b[0;34m)\u001b[0m\u001b[0;34m\u001b[0m\u001b[0;34m\u001b[0m\u001b[0m\n\u001b[0m\u001b[1;32m    308\u001b[0m             \u001b[0;32mif\u001b[0m \u001b[0mstatus\u001b[0m \u001b[0;34m!=\u001b[0m \u001b[0mCONTINUE\u001b[0m\u001b[0;34m:\u001b[0m\u001b[0;34m\u001b[0m\u001b[0;34m\u001b[0m\u001b[0m\n",
            "\u001b[0;32m~/opt/anaconda3/lib/python3.8/http/client.py\u001b[0m in \u001b[0;36m_read_status\u001b[0;34m(self)\u001b[0m\n\u001b[1;32m    267\u001b[0m     \u001b[0;32mdef\u001b[0m \u001b[0m_read_status\u001b[0m\u001b[0;34m(\u001b[0m\u001b[0mself\u001b[0m\u001b[0;34m)\u001b[0m\u001b[0;34m:\u001b[0m\u001b[0;34m\u001b[0m\u001b[0;34m\u001b[0m\u001b[0m\n\u001b[0;32m--> 268\u001b[0;31m         \u001b[0mline\u001b[0m \u001b[0;34m=\u001b[0m \u001b[0mstr\u001b[0m\u001b[0;34m(\u001b[0m\u001b[0mself\u001b[0m\u001b[0;34m.\u001b[0m\u001b[0mfp\u001b[0m\u001b[0;34m.\u001b[0m\u001b[0mreadline\u001b[0m\u001b[0;34m(\u001b[0m\u001b[0m_MAXLINE\u001b[0m \u001b[0;34m+\u001b[0m \u001b[0;36m1\u001b[0m\u001b[0;34m)\u001b[0m\u001b[0;34m,\u001b[0m \u001b[0;34m\"iso-8859-1\"\u001b[0m\u001b[0;34m)\u001b[0m\u001b[0;34m\u001b[0m\u001b[0;34m\u001b[0m\u001b[0m\n\u001b[0m\u001b[1;32m    269\u001b[0m         \u001b[0;32mif\u001b[0m \u001b[0mlen\u001b[0m\u001b[0;34m(\u001b[0m\u001b[0mline\u001b[0m\u001b[0;34m)\u001b[0m \u001b[0;34m>\u001b[0m \u001b[0m_MAXLINE\u001b[0m\u001b[0;34m:\u001b[0m\u001b[0;34m\u001b[0m\u001b[0;34m\u001b[0m\u001b[0m\n",
            "\u001b[0;32m~/opt/anaconda3/lib/python3.8/socket.py\u001b[0m in \u001b[0;36mreadinto\u001b[0;34m(self, b)\u001b[0m\n\u001b[1;32m    668\u001b[0m             \u001b[0;32mtry\u001b[0m\u001b[0;34m:\u001b[0m\u001b[0;34m\u001b[0m\u001b[0;34m\u001b[0m\u001b[0m\n\u001b[0;32m--> 669\u001b[0;31m                 \u001b[0;32mreturn\u001b[0m \u001b[0mself\u001b[0m\u001b[0;34m.\u001b[0m\u001b[0m_sock\u001b[0m\u001b[0;34m.\u001b[0m\u001b[0mrecv_into\u001b[0m\u001b[0;34m(\u001b[0m\u001b[0mb\u001b[0m\u001b[0;34m)\u001b[0m\u001b[0;34m\u001b[0m\u001b[0;34m\u001b[0m\u001b[0m\n\u001b[0m\u001b[1;32m    670\u001b[0m             \u001b[0;32mexcept\u001b[0m \u001b[0mtimeout\u001b[0m\u001b[0;34m:\u001b[0m\u001b[0;34m\u001b[0m\u001b[0;34m\u001b[0m\u001b[0m\n",
            "\u001b[0;32m~/opt/anaconda3/lib/python3.8/ssl.py\u001b[0m in \u001b[0;36mrecv_into\u001b[0;34m(self, buffer, nbytes, flags)\u001b[0m\n\u001b[1;32m   1240\u001b[0m                   self.__class__)\n\u001b[0;32m-> 1241\u001b[0;31m             \u001b[0;32mreturn\u001b[0m \u001b[0mself\u001b[0m\u001b[0;34m.\u001b[0m\u001b[0mread\u001b[0m\u001b[0;34m(\u001b[0m\u001b[0mnbytes\u001b[0m\u001b[0;34m,\u001b[0m \u001b[0mbuffer\u001b[0m\u001b[0;34m)\u001b[0m\u001b[0;34m\u001b[0m\u001b[0;34m\u001b[0m\u001b[0m\n\u001b[0m\u001b[1;32m   1242\u001b[0m         \u001b[0;32melse\u001b[0m\u001b[0;34m:\u001b[0m\u001b[0;34m\u001b[0m\u001b[0;34m\u001b[0m\u001b[0m\n",
            "\u001b[0;32m~/opt/anaconda3/lib/python3.8/ssl.py\u001b[0m in \u001b[0;36mread\u001b[0;34m(self, len, buffer)\u001b[0m\n\u001b[1;32m   1098\u001b[0m             \u001b[0;32mif\u001b[0m \u001b[0mbuffer\u001b[0m \u001b[0;32mis\u001b[0m \u001b[0;32mnot\u001b[0m \u001b[0;32mNone\u001b[0m\u001b[0;34m:\u001b[0m\u001b[0;34m\u001b[0m\u001b[0;34m\u001b[0m\u001b[0m\n\u001b[0;32m-> 1099\u001b[0;31m                 \u001b[0;32mreturn\u001b[0m \u001b[0mself\u001b[0m\u001b[0;34m.\u001b[0m\u001b[0m_sslobj\u001b[0m\u001b[0;34m.\u001b[0m\u001b[0mread\u001b[0m\u001b[0;34m(\u001b[0m\u001b[0mlen\u001b[0m\u001b[0;34m,\u001b[0m \u001b[0mbuffer\u001b[0m\u001b[0;34m)\u001b[0m\u001b[0;34m\u001b[0m\u001b[0;34m\u001b[0m\u001b[0m\n\u001b[0m\u001b[1;32m   1100\u001b[0m             \u001b[0;32melse\u001b[0m\u001b[0;34m:\u001b[0m\u001b[0;34m\u001b[0m\u001b[0;34m\u001b[0m\u001b[0m\n",
            "\u001b[0;31mtimeout\u001b[0m: The read operation timed out",
            "\nDuring handling of the above exception, another exception occurred:\n",
            "\u001b[0;31mReadTimeoutError\u001b[0m                          Traceback (most recent call last)",
            "\u001b[0;32m~/opt/anaconda3/lib/python3.8/site-packages/requests/adapters.py\u001b[0m in \u001b[0;36msend\u001b[0;34m(self, request, stream, timeout, verify, cert, proxies)\u001b[0m\n\u001b[1;32m    438\u001b[0m             \u001b[0;32mif\u001b[0m \u001b[0;32mnot\u001b[0m \u001b[0mchunked\u001b[0m\u001b[0;34m:\u001b[0m\u001b[0;34m\u001b[0m\u001b[0;34m\u001b[0m\u001b[0m\n\u001b[0;32m--> 439\u001b[0;31m                 resp = conn.urlopen(\n\u001b[0m\u001b[1;32m    440\u001b[0m                     \u001b[0mmethod\u001b[0m\u001b[0;34m=\u001b[0m\u001b[0mrequest\u001b[0m\u001b[0;34m.\u001b[0m\u001b[0mmethod\u001b[0m\u001b[0;34m,\u001b[0m\u001b[0;34m\u001b[0m\u001b[0;34m\u001b[0m\u001b[0m\n",
            "\u001b[0;32m~/opt/anaconda3/lib/python3.8/site-packages/urllib3/connectionpool.py\u001b[0m in \u001b[0;36murlopen\u001b[0;34m(self, method, url, body, headers, retries, redirect, assert_same_host, timeout, pool_timeout, release_conn, chunked, body_pos, **response_kw)\u001b[0m\n\u001b[1;32m    725\u001b[0m \u001b[0;34m\u001b[0m\u001b[0m\n\u001b[0;32m--> 726\u001b[0;31m             retries = retries.increment(\n\u001b[0m\u001b[1;32m    727\u001b[0m                 \u001b[0mmethod\u001b[0m\u001b[0;34m,\u001b[0m \u001b[0murl\u001b[0m\u001b[0;34m,\u001b[0m \u001b[0merror\u001b[0m\u001b[0;34m=\u001b[0m\u001b[0me\u001b[0m\u001b[0;34m,\u001b[0m \u001b[0m_pool\u001b[0m\u001b[0;34m=\u001b[0m\u001b[0mself\u001b[0m\u001b[0;34m,\u001b[0m \u001b[0m_stacktrace\u001b[0m\u001b[0;34m=\u001b[0m\u001b[0msys\u001b[0m\u001b[0;34m.\u001b[0m\u001b[0mexc_info\u001b[0m\u001b[0;34m(\u001b[0m\u001b[0;34m)\u001b[0m\u001b[0;34m[\u001b[0m\u001b[0;36m2\u001b[0m\u001b[0;34m]\u001b[0m\u001b[0;34m\u001b[0m\u001b[0;34m\u001b[0m\u001b[0m\n",
            "\u001b[0;32m~/opt/anaconda3/lib/python3.8/site-packages/urllib3/util/retry.py\u001b[0m in \u001b[0;36mincrement\u001b[0;34m(self, method, url, response, error, _pool, _stacktrace)\u001b[0m\n\u001b[1;32m    409\u001b[0m             \u001b[0;32mif\u001b[0m \u001b[0mread\u001b[0m \u001b[0;32mis\u001b[0m \u001b[0;32mFalse\u001b[0m \u001b[0;32mor\u001b[0m \u001b[0;32mnot\u001b[0m \u001b[0mself\u001b[0m\u001b[0;34m.\u001b[0m\u001b[0m_is_method_retryable\u001b[0m\u001b[0;34m(\u001b[0m\u001b[0mmethod\u001b[0m\u001b[0;34m)\u001b[0m\u001b[0;34m:\u001b[0m\u001b[0;34m\u001b[0m\u001b[0;34m\u001b[0m\u001b[0m\n\u001b[0;32m--> 410\u001b[0;31m                 \u001b[0;32mraise\u001b[0m \u001b[0msix\u001b[0m\u001b[0;34m.\u001b[0m\u001b[0mreraise\u001b[0m\u001b[0;34m(\u001b[0m\u001b[0mtype\u001b[0m\u001b[0;34m(\u001b[0m\u001b[0merror\u001b[0m\u001b[0;34m)\u001b[0m\u001b[0;34m,\u001b[0m \u001b[0merror\u001b[0m\u001b[0;34m,\u001b[0m \u001b[0m_stacktrace\u001b[0m\u001b[0;34m)\u001b[0m\u001b[0;34m\u001b[0m\u001b[0;34m\u001b[0m\u001b[0m\n\u001b[0m\u001b[1;32m    411\u001b[0m             \u001b[0;32melif\u001b[0m \u001b[0mread\u001b[0m \u001b[0;32mis\u001b[0m \u001b[0;32mnot\u001b[0m \u001b[0;32mNone\u001b[0m\u001b[0;34m:\u001b[0m\u001b[0;34m\u001b[0m\u001b[0;34m\u001b[0m\u001b[0m\n",
            "\u001b[0;32m~/opt/anaconda3/lib/python3.8/site-packages/urllib3/packages/six.py\u001b[0m in \u001b[0;36mreraise\u001b[0;34m(tp, value, tb)\u001b[0m\n\u001b[1;32m    734\u001b[0m                 \u001b[0;32mraise\u001b[0m \u001b[0mvalue\u001b[0m\u001b[0;34m.\u001b[0m\u001b[0mwith_traceback\u001b[0m\u001b[0;34m(\u001b[0m\u001b[0mtb\u001b[0m\u001b[0;34m)\u001b[0m\u001b[0;34m\u001b[0m\u001b[0;34m\u001b[0m\u001b[0m\n\u001b[0;32m--> 735\u001b[0;31m             \u001b[0;32mraise\u001b[0m \u001b[0mvalue\u001b[0m\u001b[0;34m\u001b[0m\u001b[0;34m\u001b[0m\u001b[0m\n\u001b[0m\u001b[1;32m    736\u001b[0m         \u001b[0;32mfinally\u001b[0m\u001b[0;34m:\u001b[0m\u001b[0;34m\u001b[0m\u001b[0;34m\u001b[0m\u001b[0m\n",
            "\u001b[0;32m~/opt/anaconda3/lib/python3.8/site-packages/urllib3/connectionpool.py\u001b[0m in \u001b[0;36murlopen\u001b[0;34m(self, method, url, body, headers, retries, redirect, assert_same_host, timeout, pool_timeout, release_conn, chunked, body_pos, **response_kw)\u001b[0m\n\u001b[1;32m    669\u001b[0m             \u001b[0;31m# Make the request on the httplib connection object.\u001b[0m\u001b[0;34m\u001b[0m\u001b[0;34m\u001b[0m\u001b[0;34m\u001b[0m\u001b[0m\n\u001b[0;32m--> 670\u001b[0;31m             httplib_response = self._make_request(\n\u001b[0m\u001b[1;32m    671\u001b[0m                 \u001b[0mconn\u001b[0m\u001b[0;34m,\u001b[0m\u001b[0;34m\u001b[0m\u001b[0;34m\u001b[0m\u001b[0m\n",
            "\u001b[0;32m~/opt/anaconda3/lib/python3.8/site-packages/urllib3/connectionpool.py\u001b[0m in \u001b[0;36m_make_request\u001b[0;34m(self, conn, method, url, timeout, chunked, **httplib_request_kw)\u001b[0m\n\u001b[1;32m    427\u001b[0m         \u001b[0;32mexcept\u001b[0m \u001b[0;34m(\u001b[0m\u001b[0mSocketTimeout\u001b[0m\u001b[0;34m,\u001b[0m \u001b[0mBaseSSLError\u001b[0m\u001b[0;34m,\u001b[0m \u001b[0mSocketError\u001b[0m\u001b[0;34m)\u001b[0m \u001b[0;32mas\u001b[0m \u001b[0me\u001b[0m\u001b[0;34m:\u001b[0m\u001b[0;34m\u001b[0m\u001b[0;34m\u001b[0m\u001b[0m\n\u001b[0;32m--> 428\u001b[0;31m             \u001b[0mself\u001b[0m\u001b[0;34m.\u001b[0m\u001b[0m_raise_timeout\u001b[0m\u001b[0;34m(\u001b[0m\u001b[0merr\u001b[0m\u001b[0;34m=\u001b[0m\u001b[0me\u001b[0m\u001b[0;34m,\u001b[0m \u001b[0murl\u001b[0m\u001b[0;34m=\u001b[0m\u001b[0murl\u001b[0m\u001b[0;34m,\u001b[0m \u001b[0mtimeout_value\u001b[0m\u001b[0;34m=\u001b[0m\u001b[0mread_timeout\u001b[0m\u001b[0;34m)\u001b[0m\u001b[0;34m\u001b[0m\u001b[0;34m\u001b[0m\u001b[0m\n\u001b[0m\u001b[1;32m    429\u001b[0m             \u001b[0;32mraise\u001b[0m\u001b[0;34m\u001b[0m\u001b[0;34m\u001b[0m\u001b[0m\n",
            "\u001b[0;32m~/opt/anaconda3/lib/python3.8/site-packages/urllib3/connectionpool.py\u001b[0m in \u001b[0;36m_raise_timeout\u001b[0;34m(self, err, url, timeout_value)\u001b[0m\n\u001b[1;32m    334\u001b[0m         \u001b[0;32mif\u001b[0m \u001b[0misinstance\u001b[0m\u001b[0;34m(\u001b[0m\u001b[0merr\u001b[0m\u001b[0;34m,\u001b[0m \u001b[0mSocketTimeout\u001b[0m\u001b[0;34m)\u001b[0m\u001b[0;34m:\u001b[0m\u001b[0;34m\u001b[0m\u001b[0;34m\u001b[0m\u001b[0m\n\u001b[0;32m--> 335\u001b[0;31m             raise ReadTimeoutError(\n\u001b[0m\u001b[1;32m    336\u001b[0m                 \u001b[0mself\u001b[0m\u001b[0;34m,\u001b[0m \u001b[0murl\u001b[0m\u001b[0;34m,\u001b[0m \u001b[0;34m\"Read timed out. (read timeout=%s)\"\u001b[0m \u001b[0;34m%\u001b[0m \u001b[0mtimeout_value\u001b[0m\u001b[0;34m\u001b[0m\u001b[0;34m\u001b[0m\u001b[0m\n",
            "\u001b[0;31mReadTimeoutError\u001b[0m: HTTPSConnectionPool(host='httpbin.org', port=443): Read timed out. (read timeout=0.0001)",
            "\nDuring handling of the above exception, another exception occurred:\n",
            "\u001b[0;31mReadTimeout\u001b[0m                               Traceback (most recent call last)",
            "\u001b[0;32m<ipython-input-17-ba8290c36fdc>\u001b[0m in \u001b[0;36m<module>\u001b[0;34m\u001b[0m\n\u001b[0;32m----> 1\u001b[0;31m \u001b[0mresponse\u001b[0m \u001b[0;34m=\u001b[0m \u001b[0mrequests\u001b[0m\u001b[0;34m.\u001b[0m\u001b[0mget\u001b[0m\u001b[0;34m(\u001b[0m\u001b[0;34m'https://httpbin.org/user-agent'\u001b[0m\u001b[0;34m,\u001b[0m \u001b[0mtimeout\u001b[0m\u001b[0;34m=\u001b[0m\u001b[0;34m(\u001b[0m\u001b[0;36m10\u001b[0m\u001b[0;34m,\u001b[0m \u001b[0;36m0.0001\u001b[0m\u001b[0;34m)\u001b[0m\u001b[0;34m)\u001b[0m\u001b[0;34m\u001b[0m\u001b[0;34m\u001b[0m\u001b[0m\n\u001b[0m",
            "\u001b[0;32m~/opt/anaconda3/lib/python3.8/site-packages/requests/api.py\u001b[0m in \u001b[0;36mget\u001b[0;34m(url, params, **kwargs)\u001b[0m\n\u001b[1;32m     74\u001b[0m \u001b[0;34m\u001b[0m\u001b[0m\n\u001b[1;32m     75\u001b[0m     \u001b[0mkwargs\u001b[0m\u001b[0;34m.\u001b[0m\u001b[0msetdefault\u001b[0m\u001b[0;34m(\u001b[0m\u001b[0;34m'allow_redirects'\u001b[0m\u001b[0;34m,\u001b[0m \u001b[0;32mTrue\u001b[0m\u001b[0;34m)\u001b[0m\u001b[0;34m\u001b[0m\u001b[0;34m\u001b[0m\u001b[0m\n\u001b[0;32m---> 76\u001b[0;31m     \u001b[0;32mreturn\u001b[0m \u001b[0mrequest\u001b[0m\u001b[0;34m(\u001b[0m\u001b[0;34m'get'\u001b[0m\u001b[0;34m,\u001b[0m \u001b[0murl\u001b[0m\u001b[0;34m,\u001b[0m \u001b[0mparams\u001b[0m\u001b[0;34m=\u001b[0m\u001b[0mparams\u001b[0m\u001b[0;34m,\u001b[0m \u001b[0;34m**\u001b[0m\u001b[0mkwargs\u001b[0m\u001b[0;34m)\u001b[0m\u001b[0;34m\u001b[0m\u001b[0;34m\u001b[0m\u001b[0m\n\u001b[0m\u001b[1;32m     77\u001b[0m \u001b[0;34m\u001b[0m\u001b[0m\n\u001b[1;32m     78\u001b[0m \u001b[0;34m\u001b[0m\u001b[0m\n",
            "\u001b[0;32m~/opt/anaconda3/lib/python3.8/site-packages/requests/api.py\u001b[0m in \u001b[0;36mrequest\u001b[0;34m(method, url, **kwargs)\u001b[0m\n\u001b[1;32m     59\u001b[0m     \u001b[0;31m# cases, and look like a memory leak in others.\u001b[0m\u001b[0;34m\u001b[0m\u001b[0;34m\u001b[0m\u001b[0;34m\u001b[0m\u001b[0m\n\u001b[1;32m     60\u001b[0m     \u001b[0;32mwith\u001b[0m \u001b[0msessions\u001b[0m\u001b[0;34m.\u001b[0m\u001b[0mSession\u001b[0m\u001b[0;34m(\u001b[0m\u001b[0;34m)\u001b[0m \u001b[0;32mas\u001b[0m \u001b[0msession\u001b[0m\u001b[0;34m:\u001b[0m\u001b[0;34m\u001b[0m\u001b[0;34m\u001b[0m\u001b[0m\n\u001b[0;32m---> 61\u001b[0;31m         \u001b[0;32mreturn\u001b[0m \u001b[0msession\u001b[0m\u001b[0;34m.\u001b[0m\u001b[0mrequest\u001b[0m\u001b[0;34m(\u001b[0m\u001b[0mmethod\u001b[0m\u001b[0;34m=\u001b[0m\u001b[0mmethod\u001b[0m\u001b[0;34m,\u001b[0m \u001b[0murl\u001b[0m\u001b[0;34m=\u001b[0m\u001b[0murl\u001b[0m\u001b[0;34m,\u001b[0m \u001b[0;34m**\u001b[0m\u001b[0mkwargs\u001b[0m\u001b[0;34m)\u001b[0m\u001b[0;34m\u001b[0m\u001b[0;34m\u001b[0m\u001b[0m\n\u001b[0m\u001b[1;32m     62\u001b[0m \u001b[0;34m\u001b[0m\u001b[0m\n\u001b[1;32m     63\u001b[0m \u001b[0;34m\u001b[0m\u001b[0m\n",
            "\u001b[0;32m~/opt/anaconda3/lib/python3.8/site-packages/requests/sessions.py\u001b[0m in \u001b[0;36mrequest\u001b[0;34m(self, method, url, params, data, headers, cookies, files, auth, timeout, allow_redirects, proxies, hooks, stream, verify, cert, json)\u001b[0m\n\u001b[1;32m    528\u001b[0m         }\n\u001b[1;32m    529\u001b[0m         \u001b[0msend_kwargs\u001b[0m\u001b[0;34m.\u001b[0m\u001b[0mupdate\u001b[0m\u001b[0;34m(\u001b[0m\u001b[0msettings\u001b[0m\u001b[0;34m)\u001b[0m\u001b[0;34m\u001b[0m\u001b[0;34m\u001b[0m\u001b[0m\n\u001b[0;32m--> 530\u001b[0;31m         \u001b[0mresp\u001b[0m \u001b[0;34m=\u001b[0m \u001b[0mself\u001b[0m\u001b[0;34m.\u001b[0m\u001b[0msend\u001b[0m\u001b[0;34m(\u001b[0m\u001b[0mprep\u001b[0m\u001b[0;34m,\u001b[0m \u001b[0;34m**\u001b[0m\u001b[0msend_kwargs\u001b[0m\u001b[0;34m)\u001b[0m\u001b[0;34m\u001b[0m\u001b[0;34m\u001b[0m\u001b[0m\n\u001b[0m\u001b[1;32m    531\u001b[0m \u001b[0;34m\u001b[0m\u001b[0m\n\u001b[1;32m    532\u001b[0m         \u001b[0;32mreturn\u001b[0m \u001b[0mresp\u001b[0m\u001b[0;34m\u001b[0m\u001b[0;34m\u001b[0m\u001b[0m\n",
            "\u001b[0;32m~/opt/anaconda3/lib/python3.8/site-packages/requests/sessions.py\u001b[0m in \u001b[0;36msend\u001b[0;34m(self, request, **kwargs)\u001b[0m\n\u001b[1;32m    641\u001b[0m \u001b[0;34m\u001b[0m\u001b[0m\n\u001b[1;32m    642\u001b[0m         \u001b[0;31m# Send the request\u001b[0m\u001b[0;34m\u001b[0m\u001b[0;34m\u001b[0m\u001b[0;34m\u001b[0m\u001b[0m\n\u001b[0;32m--> 643\u001b[0;31m         \u001b[0mr\u001b[0m \u001b[0;34m=\u001b[0m \u001b[0madapter\u001b[0m\u001b[0;34m.\u001b[0m\u001b[0msend\u001b[0m\u001b[0;34m(\u001b[0m\u001b[0mrequest\u001b[0m\u001b[0;34m,\u001b[0m \u001b[0;34m**\u001b[0m\u001b[0mkwargs\u001b[0m\u001b[0;34m)\u001b[0m\u001b[0;34m\u001b[0m\u001b[0;34m\u001b[0m\u001b[0m\n\u001b[0m\u001b[1;32m    644\u001b[0m \u001b[0;34m\u001b[0m\u001b[0m\n\u001b[1;32m    645\u001b[0m         \u001b[0;31m# Total elapsed time of the request (approximately)\u001b[0m\u001b[0;34m\u001b[0m\u001b[0;34m\u001b[0m\u001b[0;34m\u001b[0m\u001b[0m\n",
            "\u001b[0;32m~/opt/anaconda3/lib/python3.8/site-packages/requests/adapters.py\u001b[0m in \u001b[0;36msend\u001b[0;34m(self, request, stream, timeout, verify, cert, proxies)\u001b[0m\n\u001b[1;32m    527\u001b[0m                 \u001b[0;32mraise\u001b[0m \u001b[0mSSLError\u001b[0m\u001b[0;34m(\u001b[0m\u001b[0me\u001b[0m\u001b[0;34m,\u001b[0m \u001b[0mrequest\u001b[0m\u001b[0;34m=\u001b[0m\u001b[0mrequest\u001b[0m\u001b[0;34m)\u001b[0m\u001b[0;34m\u001b[0m\u001b[0;34m\u001b[0m\u001b[0m\n\u001b[1;32m    528\u001b[0m             \u001b[0;32melif\u001b[0m \u001b[0misinstance\u001b[0m\u001b[0;34m(\u001b[0m\u001b[0me\u001b[0m\u001b[0;34m,\u001b[0m \u001b[0mReadTimeoutError\u001b[0m\u001b[0;34m)\u001b[0m\u001b[0;34m:\u001b[0m\u001b[0;34m\u001b[0m\u001b[0;34m\u001b[0m\u001b[0m\n\u001b[0;32m--> 529\u001b[0;31m                 \u001b[0;32mraise\u001b[0m \u001b[0mReadTimeout\u001b[0m\u001b[0;34m(\u001b[0m\u001b[0me\u001b[0m\u001b[0;34m,\u001b[0m \u001b[0mrequest\u001b[0m\u001b[0;34m=\u001b[0m\u001b[0mrequest\u001b[0m\u001b[0;34m)\u001b[0m\u001b[0;34m\u001b[0m\u001b[0;34m\u001b[0m\u001b[0m\n\u001b[0m\u001b[1;32m    530\u001b[0m             \u001b[0;32melse\u001b[0m\u001b[0;34m:\u001b[0m\u001b[0;34m\u001b[0m\u001b[0;34m\u001b[0m\u001b[0m\n\u001b[1;32m    531\u001b[0m                 \u001b[0;32mraise\u001b[0m\u001b[0;34m\u001b[0m\u001b[0;34m\u001b[0m\u001b[0m\n",
            "\u001b[0;31mReadTimeout\u001b[0m: HTTPSConnectionPool(host='httpbin.org', port=443): Read timed out. (read timeout=0.0001)"
          ]
        }
      ],
      "source": [
        "response = requests.get('https://httpbin.org/user-agent', timeout=(10, 0.0001))"
      ]
    },
    {
      "cell_type": "markdown",
      "metadata": {
        "id": "pEc0StoGsRR4"
      },
      "source": [
        "### ConnectionError\n",
        "\n",
        "Возникает, когда не получается подключиться к серверу, например, сервер DNS не может дать правильный адрес запрашиваемого сервера. DNS-сервер - это специальный сервер, который сопоставляет буквенный адрес сайта с цифровым IP."
      ]
    },
    {
      "cell_type": "code",
      "execution_count": null,
      "metadata": {
        "id": "cYkjKiFvsRR4",
        "outputId": "93fa60c0-1cd4-4d07-92f9-6f7255d113dc"
      },
      "outputs": [
        {
          "ename": "ConnectionError",
          "evalue": "HTTPConnectionPool(host='urldoesnotexistforsure.bom', port=80): Max retries exceeded with url: / (Caused by NewConnectionError('<urllib3.connection.HTTPConnection object at 0x7f7a6061a430>: Failed to establish a new connection: [Errno 8] nodename nor servname provided, or not known'))",
          "output_type": "error",
          "traceback": [
            "\u001b[0;31m---------------------------------------------------------------------------\u001b[0m",
            "\u001b[0;31mgaierror\u001b[0m                                  Traceback (most recent call last)",
            "\u001b[0;32m~/opt/anaconda3/lib/python3.8/site-packages/urllib3/connection.py\u001b[0m in \u001b[0;36m_new_conn\u001b[0;34m(self)\u001b[0m\n\u001b[1;32m    158\u001b[0m         \u001b[0;32mtry\u001b[0m\u001b[0;34m:\u001b[0m\u001b[0;34m\u001b[0m\u001b[0;34m\u001b[0m\u001b[0m\n\u001b[0;32m--> 159\u001b[0;31m             conn = connection.create_connection(\n\u001b[0m\u001b[1;32m    160\u001b[0m                 \u001b[0;34m(\u001b[0m\u001b[0mself\u001b[0m\u001b[0;34m.\u001b[0m\u001b[0m_dns_host\u001b[0m\u001b[0;34m,\u001b[0m \u001b[0mself\u001b[0m\u001b[0;34m.\u001b[0m\u001b[0mport\u001b[0m\u001b[0;34m)\u001b[0m\u001b[0;34m,\u001b[0m \u001b[0mself\u001b[0m\u001b[0;34m.\u001b[0m\u001b[0mtimeout\u001b[0m\u001b[0;34m,\u001b[0m \u001b[0;34m**\u001b[0m\u001b[0mextra_kw\u001b[0m\u001b[0;34m\u001b[0m\u001b[0;34m\u001b[0m\u001b[0m\n",
            "\u001b[0;32m~/opt/anaconda3/lib/python3.8/site-packages/urllib3/util/connection.py\u001b[0m in \u001b[0;36mcreate_connection\u001b[0;34m(address, timeout, source_address, socket_options)\u001b[0m\n\u001b[1;32m     60\u001b[0m \u001b[0;34m\u001b[0m\u001b[0m\n\u001b[0;32m---> 61\u001b[0;31m     \u001b[0;32mfor\u001b[0m \u001b[0mres\u001b[0m \u001b[0;32min\u001b[0m \u001b[0msocket\u001b[0m\u001b[0;34m.\u001b[0m\u001b[0mgetaddrinfo\u001b[0m\u001b[0;34m(\u001b[0m\u001b[0mhost\u001b[0m\u001b[0;34m,\u001b[0m \u001b[0mport\u001b[0m\u001b[0;34m,\u001b[0m \u001b[0mfamily\u001b[0m\u001b[0;34m,\u001b[0m \u001b[0msocket\u001b[0m\u001b[0;34m.\u001b[0m\u001b[0mSOCK_STREAM\u001b[0m\u001b[0;34m)\u001b[0m\u001b[0;34m:\u001b[0m\u001b[0;34m\u001b[0m\u001b[0;34m\u001b[0m\u001b[0m\n\u001b[0m\u001b[1;32m     62\u001b[0m         \u001b[0maf\u001b[0m\u001b[0;34m,\u001b[0m \u001b[0msocktype\u001b[0m\u001b[0;34m,\u001b[0m \u001b[0mproto\u001b[0m\u001b[0;34m,\u001b[0m \u001b[0mcanonname\u001b[0m\u001b[0;34m,\u001b[0m \u001b[0msa\u001b[0m \u001b[0;34m=\u001b[0m \u001b[0mres\u001b[0m\u001b[0;34m\u001b[0m\u001b[0;34m\u001b[0m\u001b[0m\n",
            "\u001b[0;32m~/opt/anaconda3/lib/python3.8/socket.py\u001b[0m in \u001b[0;36mgetaddrinfo\u001b[0;34m(host, port, family, type, proto, flags)\u001b[0m\n\u001b[1;32m    917\u001b[0m     \u001b[0maddrlist\u001b[0m \u001b[0;34m=\u001b[0m \u001b[0;34m[\u001b[0m\u001b[0;34m]\u001b[0m\u001b[0;34m\u001b[0m\u001b[0;34m\u001b[0m\u001b[0m\n\u001b[0;32m--> 918\u001b[0;31m     \u001b[0;32mfor\u001b[0m \u001b[0mres\u001b[0m \u001b[0;32min\u001b[0m \u001b[0m_socket\u001b[0m\u001b[0;34m.\u001b[0m\u001b[0mgetaddrinfo\u001b[0m\u001b[0;34m(\u001b[0m\u001b[0mhost\u001b[0m\u001b[0;34m,\u001b[0m \u001b[0mport\u001b[0m\u001b[0;34m,\u001b[0m \u001b[0mfamily\u001b[0m\u001b[0;34m,\u001b[0m \u001b[0mtype\u001b[0m\u001b[0;34m,\u001b[0m \u001b[0mproto\u001b[0m\u001b[0;34m,\u001b[0m \u001b[0mflags\u001b[0m\u001b[0;34m)\u001b[0m\u001b[0;34m:\u001b[0m\u001b[0;34m\u001b[0m\u001b[0;34m\u001b[0m\u001b[0m\n\u001b[0m\u001b[1;32m    919\u001b[0m         \u001b[0maf\u001b[0m\u001b[0;34m,\u001b[0m \u001b[0msocktype\u001b[0m\u001b[0;34m,\u001b[0m \u001b[0mproto\u001b[0m\u001b[0;34m,\u001b[0m \u001b[0mcanonname\u001b[0m\u001b[0;34m,\u001b[0m \u001b[0msa\u001b[0m \u001b[0;34m=\u001b[0m \u001b[0mres\u001b[0m\u001b[0;34m\u001b[0m\u001b[0;34m\u001b[0m\u001b[0m\n",
            "\u001b[0;31mgaierror\u001b[0m: [Errno 8] nodename nor servname provided, or not known",
            "\nDuring handling of the above exception, another exception occurred:\n",
            "\u001b[0;31mNewConnectionError\u001b[0m                        Traceback (most recent call last)",
            "\u001b[0;32m~/opt/anaconda3/lib/python3.8/site-packages/urllib3/connectionpool.py\u001b[0m in \u001b[0;36murlopen\u001b[0;34m(self, method, url, body, headers, retries, redirect, assert_same_host, timeout, pool_timeout, release_conn, chunked, body_pos, **response_kw)\u001b[0m\n\u001b[1;32m    669\u001b[0m             \u001b[0;31m# Make the request on the httplib connection object.\u001b[0m\u001b[0;34m\u001b[0m\u001b[0;34m\u001b[0m\u001b[0;34m\u001b[0m\u001b[0m\n\u001b[0;32m--> 670\u001b[0;31m             httplib_response = self._make_request(\n\u001b[0m\u001b[1;32m    671\u001b[0m                 \u001b[0mconn\u001b[0m\u001b[0;34m,\u001b[0m\u001b[0;34m\u001b[0m\u001b[0;34m\u001b[0m\u001b[0m\n",
            "\u001b[0;32m~/opt/anaconda3/lib/python3.8/site-packages/urllib3/connectionpool.py\u001b[0m in \u001b[0;36m_make_request\u001b[0;34m(self, conn, method, url, timeout, chunked, **httplib_request_kw)\u001b[0m\n\u001b[1;32m    391\u001b[0m         \u001b[0;32melse\u001b[0m\u001b[0;34m:\u001b[0m\u001b[0;34m\u001b[0m\u001b[0;34m\u001b[0m\u001b[0m\n\u001b[0;32m--> 392\u001b[0;31m             \u001b[0mconn\u001b[0m\u001b[0;34m.\u001b[0m\u001b[0mrequest\u001b[0m\u001b[0;34m(\u001b[0m\u001b[0mmethod\u001b[0m\u001b[0;34m,\u001b[0m \u001b[0murl\u001b[0m\u001b[0;34m,\u001b[0m \u001b[0;34m**\u001b[0m\u001b[0mhttplib_request_kw\u001b[0m\u001b[0;34m)\u001b[0m\u001b[0;34m\u001b[0m\u001b[0;34m\u001b[0m\u001b[0m\n\u001b[0m\u001b[1;32m    393\u001b[0m \u001b[0;34m\u001b[0m\u001b[0m\n",
            "\u001b[0;32m~/opt/anaconda3/lib/python3.8/http/client.py\u001b[0m in \u001b[0;36mrequest\u001b[0;34m(self, method, url, body, headers, encode_chunked)\u001b[0m\n\u001b[1;32m   1254\u001b[0m         \u001b[0;34m\"\"\"Send a complete request to the server.\"\"\"\u001b[0m\u001b[0;34m\u001b[0m\u001b[0;34m\u001b[0m\u001b[0m\n\u001b[0;32m-> 1255\u001b[0;31m         \u001b[0mself\u001b[0m\u001b[0;34m.\u001b[0m\u001b[0m_send_request\u001b[0m\u001b[0;34m(\u001b[0m\u001b[0mmethod\u001b[0m\u001b[0;34m,\u001b[0m \u001b[0murl\u001b[0m\u001b[0;34m,\u001b[0m \u001b[0mbody\u001b[0m\u001b[0;34m,\u001b[0m \u001b[0mheaders\u001b[0m\u001b[0;34m,\u001b[0m \u001b[0mencode_chunked\u001b[0m\u001b[0;34m)\u001b[0m\u001b[0;34m\u001b[0m\u001b[0;34m\u001b[0m\u001b[0m\n\u001b[0m\u001b[1;32m   1256\u001b[0m \u001b[0;34m\u001b[0m\u001b[0m\n",
            "\u001b[0;32m~/opt/anaconda3/lib/python3.8/http/client.py\u001b[0m in \u001b[0;36m_send_request\u001b[0;34m(self, method, url, body, headers, encode_chunked)\u001b[0m\n\u001b[1;32m   1300\u001b[0m             \u001b[0mbody\u001b[0m \u001b[0;34m=\u001b[0m \u001b[0m_encode\u001b[0m\u001b[0;34m(\u001b[0m\u001b[0mbody\u001b[0m\u001b[0;34m,\u001b[0m \u001b[0;34m'body'\u001b[0m\u001b[0;34m)\u001b[0m\u001b[0;34m\u001b[0m\u001b[0;34m\u001b[0m\u001b[0m\n\u001b[0;32m-> 1301\u001b[0;31m         \u001b[0mself\u001b[0m\u001b[0;34m.\u001b[0m\u001b[0mendheaders\u001b[0m\u001b[0;34m(\u001b[0m\u001b[0mbody\u001b[0m\u001b[0;34m,\u001b[0m \u001b[0mencode_chunked\u001b[0m\u001b[0;34m=\u001b[0m\u001b[0mencode_chunked\u001b[0m\u001b[0;34m)\u001b[0m\u001b[0;34m\u001b[0m\u001b[0;34m\u001b[0m\u001b[0m\n\u001b[0m\u001b[1;32m   1302\u001b[0m \u001b[0;34m\u001b[0m\u001b[0m\n",
            "\u001b[0;32m~/opt/anaconda3/lib/python3.8/http/client.py\u001b[0m in \u001b[0;36mendheaders\u001b[0;34m(self, message_body, encode_chunked)\u001b[0m\n\u001b[1;32m   1249\u001b[0m             \u001b[0;32mraise\u001b[0m \u001b[0mCannotSendHeader\u001b[0m\u001b[0;34m(\u001b[0m\u001b[0;34m)\u001b[0m\u001b[0;34m\u001b[0m\u001b[0;34m\u001b[0m\u001b[0m\n\u001b[0;32m-> 1250\u001b[0;31m         \u001b[0mself\u001b[0m\u001b[0;34m.\u001b[0m\u001b[0m_send_output\u001b[0m\u001b[0;34m(\u001b[0m\u001b[0mmessage_body\u001b[0m\u001b[0;34m,\u001b[0m \u001b[0mencode_chunked\u001b[0m\u001b[0;34m=\u001b[0m\u001b[0mencode_chunked\u001b[0m\u001b[0;34m)\u001b[0m\u001b[0;34m\u001b[0m\u001b[0;34m\u001b[0m\u001b[0m\n\u001b[0m\u001b[1;32m   1251\u001b[0m \u001b[0;34m\u001b[0m\u001b[0m\n",
            "\u001b[0;32m~/opt/anaconda3/lib/python3.8/http/client.py\u001b[0m in \u001b[0;36m_send_output\u001b[0;34m(self, message_body, encode_chunked)\u001b[0m\n\u001b[1;32m   1009\u001b[0m         \u001b[0;32mdel\u001b[0m \u001b[0mself\u001b[0m\u001b[0;34m.\u001b[0m\u001b[0m_buffer\u001b[0m\u001b[0;34m[\u001b[0m\u001b[0;34m:\u001b[0m\u001b[0;34m]\u001b[0m\u001b[0;34m\u001b[0m\u001b[0;34m\u001b[0m\u001b[0m\n\u001b[0;32m-> 1010\u001b[0;31m         \u001b[0mself\u001b[0m\u001b[0;34m.\u001b[0m\u001b[0msend\u001b[0m\u001b[0;34m(\u001b[0m\u001b[0mmsg\u001b[0m\u001b[0;34m)\u001b[0m\u001b[0;34m\u001b[0m\u001b[0;34m\u001b[0m\u001b[0m\n\u001b[0m\u001b[1;32m   1011\u001b[0m \u001b[0;34m\u001b[0m\u001b[0m\n",
            "\u001b[0;32m~/opt/anaconda3/lib/python3.8/http/client.py\u001b[0m in \u001b[0;36msend\u001b[0;34m(self, data)\u001b[0m\n\u001b[1;32m    949\u001b[0m             \u001b[0;32mif\u001b[0m \u001b[0mself\u001b[0m\u001b[0;34m.\u001b[0m\u001b[0mauto_open\u001b[0m\u001b[0;34m:\u001b[0m\u001b[0;34m\u001b[0m\u001b[0;34m\u001b[0m\u001b[0m\n\u001b[0;32m--> 950\u001b[0;31m                 \u001b[0mself\u001b[0m\u001b[0;34m.\u001b[0m\u001b[0mconnect\u001b[0m\u001b[0;34m(\u001b[0m\u001b[0;34m)\u001b[0m\u001b[0;34m\u001b[0m\u001b[0;34m\u001b[0m\u001b[0m\n\u001b[0m\u001b[1;32m    951\u001b[0m             \u001b[0;32melse\u001b[0m\u001b[0;34m:\u001b[0m\u001b[0;34m\u001b[0m\u001b[0;34m\u001b[0m\u001b[0m\n",
            "\u001b[0;32m~/opt/anaconda3/lib/python3.8/site-packages/urllib3/connection.py\u001b[0m in \u001b[0;36mconnect\u001b[0;34m(self)\u001b[0m\n\u001b[1;32m    186\u001b[0m     \u001b[0;32mdef\u001b[0m \u001b[0mconnect\u001b[0m\u001b[0;34m(\u001b[0m\u001b[0mself\u001b[0m\u001b[0;34m)\u001b[0m\u001b[0;34m:\u001b[0m\u001b[0;34m\u001b[0m\u001b[0;34m\u001b[0m\u001b[0m\n\u001b[0;32m--> 187\u001b[0;31m         \u001b[0mconn\u001b[0m \u001b[0;34m=\u001b[0m \u001b[0mself\u001b[0m\u001b[0;34m.\u001b[0m\u001b[0m_new_conn\u001b[0m\u001b[0;34m(\u001b[0m\u001b[0;34m)\u001b[0m\u001b[0;34m\u001b[0m\u001b[0;34m\u001b[0m\u001b[0m\n\u001b[0m\u001b[1;32m    188\u001b[0m         \u001b[0mself\u001b[0m\u001b[0;34m.\u001b[0m\u001b[0m_prepare_conn\u001b[0m\u001b[0;34m(\u001b[0m\u001b[0mconn\u001b[0m\u001b[0;34m)\u001b[0m\u001b[0;34m\u001b[0m\u001b[0;34m\u001b[0m\u001b[0m\n",
            "\u001b[0;32m~/opt/anaconda3/lib/python3.8/site-packages/urllib3/connection.py\u001b[0m in \u001b[0;36m_new_conn\u001b[0;34m(self)\u001b[0m\n\u001b[1;32m    170\u001b[0m         \u001b[0;32mexcept\u001b[0m \u001b[0mSocketError\u001b[0m \u001b[0;32mas\u001b[0m \u001b[0me\u001b[0m\u001b[0;34m:\u001b[0m\u001b[0;34m\u001b[0m\u001b[0;34m\u001b[0m\u001b[0m\n\u001b[0;32m--> 171\u001b[0;31m             raise NewConnectionError(\n\u001b[0m\u001b[1;32m    172\u001b[0m                 \u001b[0mself\u001b[0m\u001b[0;34m,\u001b[0m \u001b[0;34m\"Failed to establish a new connection: %s\"\u001b[0m \u001b[0;34m%\u001b[0m \u001b[0me\u001b[0m\u001b[0;34m\u001b[0m\u001b[0;34m\u001b[0m\u001b[0m\n",
            "\u001b[0;31mNewConnectionError\u001b[0m: <urllib3.connection.HTTPConnection object at 0x7f7a6061a430>: Failed to establish a new connection: [Errno 8] nodename nor servname provided, or not known",
            "\nDuring handling of the above exception, another exception occurred:\n",
            "\u001b[0;31mMaxRetryError\u001b[0m                             Traceback (most recent call last)",
            "\u001b[0;32m~/opt/anaconda3/lib/python3.8/site-packages/requests/adapters.py\u001b[0m in \u001b[0;36msend\u001b[0;34m(self, request, stream, timeout, verify, cert, proxies)\u001b[0m\n\u001b[1;32m    438\u001b[0m             \u001b[0;32mif\u001b[0m \u001b[0;32mnot\u001b[0m \u001b[0mchunked\u001b[0m\u001b[0;34m:\u001b[0m\u001b[0;34m\u001b[0m\u001b[0;34m\u001b[0m\u001b[0m\n\u001b[0;32m--> 439\u001b[0;31m                 resp = conn.urlopen(\n\u001b[0m\u001b[1;32m    440\u001b[0m                     \u001b[0mmethod\u001b[0m\u001b[0;34m=\u001b[0m\u001b[0mrequest\u001b[0m\u001b[0;34m.\u001b[0m\u001b[0mmethod\u001b[0m\u001b[0;34m,\u001b[0m\u001b[0;34m\u001b[0m\u001b[0;34m\u001b[0m\u001b[0m\n",
            "\u001b[0;32m~/opt/anaconda3/lib/python3.8/site-packages/urllib3/connectionpool.py\u001b[0m in \u001b[0;36murlopen\u001b[0;34m(self, method, url, body, headers, retries, redirect, assert_same_host, timeout, pool_timeout, release_conn, chunked, body_pos, **response_kw)\u001b[0m\n\u001b[1;32m    725\u001b[0m \u001b[0;34m\u001b[0m\u001b[0m\n\u001b[0;32m--> 726\u001b[0;31m             retries = retries.increment(\n\u001b[0m\u001b[1;32m    727\u001b[0m                 \u001b[0mmethod\u001b[0m\u001b[0;34m,\u001b[0m \u001b[0murl\u001b[0m\u001b[0;34m,\u001b[0m \u001b[0merror\u001b[0m\u001b[0;34m=\u001b[0m\u001b[0me\u001b[0m\u001b[0;34m,\u001b[0m \u001b[0m_pool\u001b[0m\u001b[0;34m=\u001b[0m\u001b[0mself\u001b[0m\u001b[0;34m,\u001b[0m \u001b[0m_stacktrace\u001b[0m\u001b[0;34m=\u001b[0m\u001b[0msys\u001b[0m\u001b[0;34m.\u001b[0m\u001b[0mexc_info\u001b[0m\u001b[0;34m(\u001b[0m\u001b[0;34m)\u001b[0m\u001b[0;34m[\u001b[0m\u001b[0;36m2\u001b[0m\u001b[0;34m]\u001b[0m\u001b[0;34m\u001b[0m\u001b[0;34m\u001b[0m\u001b[0m\n",
            "\u001b[0;32m~/opt/anaconda3/lib/python3.8/site-packages/urllib3/util/retry.py\u001b[0m in \u001b[0;36mincrement\u001b[0;34m(self, method, url, response, error, _pool, _stacktrace)\u001b[0m\n\u001b[1;32m    445\u001b[0m         \u001b[0;32mif\u001b[0m \u001b[0mnew_retry\u001b[0m\u001b[0;34m.\u001b[0m\u001b[0mis_exhausted\u001b[0m\u001b[0;34m(\u001b[0m\u001b[0;34m)\u001b[0m\u001b[0;34m:\u001b[0m\u001b[0;34m\u001b[0m\u001b[0;34m\u001b[0m\u001b[0m\n\u001b[0;32m--> 446\u001b[0;31m             \u001b[0;32mraise\u001b[0m \u001b[0mMaxRetryError\u001b[0m\u001b[0;34m(\u001b[0m\u001b[0m_pool\u001b[0m\u001b[0;34m,\u001b[0m \u001b[0murl\u001b[0m\u001b[0;34m,\u001b[0m \u001b[0merror\u001b[0m \u001b[0;32mor\u001b[0m \u001b[0mResponseError\u001b[0m\u001b[0;34m(\u001b[0m\u001b[0mcause\u001b[0m\u001b[0;34m)\u001b[0m\u001b[0;34m)\u001b[0m\u001b[0;34m\u001b[0m\u001b[0;34m\u001b[0m\u001b[0m\n\u001b[0m\u001b[1;32m    447\u001b[0m \u001b[0;34m\u001b[0m\u001b[0m\n",
            "\u001b[0;31mMaxRetryError\u001b[0m: HTTPConnectionPool(host='urldoesnotexistforsure.bom', port=80): Max retries exceeded with url: / (Caused by NewConnectionError('<urllib3.connection.HTTPConnection object at 0x7f7a6061a430>: Failed to establish a new connection: [Errno 8] nodename nor servname provided, or not known'))",
            "\nDuring handling of the above exception, another exception occurred:\n",
            "\u001b[0;31mConnectionError\u001b[0m                           Traceback (most recent call last)",
            "\u001b[0;32m<ipython-input-18-b8a41ba7d6e0>\u001b[0m in \u001b[0;36m<module>\u001b[0;34m\u001b[0m\n\u001b[0;32m----> 1\u001b[0;31m \u001b[0mrequests\u001b[0m\u001b[0;34m.\u001b[0m\u001b[0mget\u001b[0m\u001b[0;34m(\u001b[0m\u001b[0;34m'http://urldoesnotexistforsure.bom'\u001b[0m\u001b[0;34m)\u001b[0m  \u001b[0;31m# такой домен нигде не зарегистрирован, и найти его нельзя\u001b[0m\u001b[0;34m\u001b[0m\u001b[0;34m\u001b[0m\u001b[0m\n\u001b[0m",
            "\u001b[0;32m~/opt/anaconda3/lib/python3.8/site-packages/requests/api.py\u001b[0m in \u001b[0;36mget\u001b[0;34m(url, params, **kwargs)\u001b[0m\n\u001b[1;32m     74\u001b[0m \u001b[0;34m\u001b[0m\u001b[0m\n\u001b[1;32m     75\u001b[0m     \u001b[0mkwargs\u001b[0m\u001b[0;34m.\u001b[0m\u001b[0msetdefault\u001b[0m\u001b[0;34m(\u001b[0m\u001b[0;34m'allow_redirects'\u001b[0m\u001b[0;34m,\u001b[0m \u001b[0;32mTrue\u001b[0m\u001b[0;34m)\u001b[0m\u001b[0;34m\u001b[0m\u001b[0;34m\u001b[0m\u001b[0m\n\u001b[0;32m---> 76\u001b[0;31m     \u001b[0;32mreturn\u001b[0m \u001b[0mrequest\u001b[0m\u001b[0;34m(\u001b[0m\u001b[0;34m'get'\u001b[0m\u001b[0;34m,\u001b[0m \u001b[0murl\u001b[0m\u001b[0;34m,\u001b[0m \u001b[0mparams\u001b[0m\u001b[0;34m=\u001b[0m\u001b[0mparams\u001b[0m\u001b[0;34m,\u001b[0m \u001b[0;34m**\u001b[0m\u001b[0mkwargs\u001b[0m\u001b[0;34m)\u001b[0m\u001b[0;34m\u001b[0m\u001b[0;34m\u001b[0m\u001b[0m\n\u001b[0m\u001b[1;32m     77\u001b[0m \u001b[0;34m\u001b[0m\u001b[0m\n\u001b[1;32m     78\u001b[0m \u001b[0;34m\u001b[0m\u001b[0m\n",
            "\u001b[0;32m~/opt/anaconda3/lib/python3.8/site-packages/requests/api.py\u001b[0m in \u001b[0;36mrequest\u001b[0;34m(method, url, **kwargs)\u001b[0m\n\u001b[1;32m     59\u001b[0m     \u001b[0;31m# cases, and look like a memory leak in others.\u001b[0m\u001b[0;34m\u001b[0m\u001b[0;34m\u001b[0m\u001b[0;34m\u001b[0m\u001b[0m\n\u001b[1;32m     60\u001b[0m     \u001b[0;32mwith\u001b[0m \u001b[0msessions\u001b[0m\u001b[0;34m.\u001b[0m\u001b[0mSession\u001b[0m\u001b[0;34m(\u001b[0m\u001b[0;34m)\u001b[0m \u001b[0;32mas\u001b[0m \u001b[0msession\u001b[0m\u001b[0;34m:\u001b[0m\u001b[0;34m\u001b[0m\u001b[0;34m\u001b[0m\u001b[0m\n\u001b[0;32m---> 61\u001b[0;31m         \u001b[0;32mreturn\u001b[0m \u001b[0msession\u001b[0m\u001b[0;34m.\u001b[0m\u001b[0mrequest\u001b[0m\u001b[0;34m(\u001b[0m\u001b[0mmethod\u001b[0m\u001b[0;34m=\u001b[0m\u001b[0mmethod\u001b[0m\u001b[0;34m,\u001b[0m \u001b[0murl\u001b[0m\u001b[0;34m=\u001b[0m\u001b[0murl\u001b[0m\u001b[0;34m,\u001b[0m \u001b[0;34m**\u001b[0m\u001b[0mkwargs\u001b[0m\u001b[0;34m)\u001b[0m\u001b[0;34m\u001b[0m\u001b[0;34m\u001b[0m\u001b[0m\n\u001b[0m\u001b[1;32m     62\u001b[0m \u001b[0;34m\u001b[0m\u001b[0m\n\u001b[1;32m     63\u001b[0m \u001b[0;34m\u001b[0m\u001b[0m\n",
            "\u001b[0;32m~/opt/anaconda3/lib/python3.8/site-packages/requests/sessions.py\u001b[0m in \u001b[0;36mrequest\u001b[0;34m(self, method, url, params, data, headers, cookies, files, auth, timeout, allow_redirects, proxies, hooks, stream, verify, cert, json)\u001b[0m\n\u001b[1;32m    528\u001b[0m         }\n\u001b[1;32m    529\u001b[0m         \u001b[0msend_kwargs\u001b[0m\u001b[0;34m.\u001b[0m\u001b[0mupdate\u001b[0m\u001b[0;34m(\u001b[0m\u001b[0msettings\u001b[0m\u001b[0;34m)\u001b[0m\u001b[0;34m\u001b[0m\u001b[0;34m\u001b[0m\u001b[0m\n\u001b[0;32m--> 530\u001b[0;31m         \u001b[0mresp\u001b[0m \u001b[0;34m=\u001b[0m \u001b[0mself\u001b[0m\u001b[0;34m.\u001b[0m\u001b[0msend\u001b[0m\u001b[0;34m(\u001b[0m\u001b[0mprep\u001b[0m\u001b[0;34m,\u001b[0m \u001b[0;34m**\u001b[0m\u001b[0msend_kwargs\u001b[0m\u001b[0;34m)\u001b[0m\u001b[0;34m\u001b[0m\u001b[0;34m\u001b[0m\u001b[0m\n\u001b[0m\u001b[1;32m    531\u001b[0m \u001b[0;34m\u001b[0m\u001b[0m\n\u001b[1;32m    532\u001b[0m         \u001b[0;32mreturn\u001b[0m \u001b[0mresp\u001b[0m\u001b[0;34m\u001b[0m\u001b[0;34m\u001b[0m\u001b[0m\n",
            "\u001b[0;32m~/opt/anaconda3/lib/python3.8/site-packages/requests/sessions.py\u001b[0m in \u001b[0;36msend\u001b[0;34m(self, request, **kwargs)\u001b[0m\n\u001b[1;32m    641\u001b[0m \u001b[0;34m\u001b[0m\u001b[0m\n\u001b[1;32m    642\u001b[0m         \u001b[0;31m# Send the request\u001b[0m\u001b[0;34m\u001b[0m\u001b[0;34m\u001b[0m\u001b[0;34m\u001b[0m\u001b[0m\n\u001b[0;32m--> 643\u001b[0;31m         \u001b[0mr\u001b[0m \u001b[0;34m=\u001b[0m \u001b[0madapter\u001b[0m\u001b[0;34m.\u001b[0m\u001b[0msend\u001b[0m\u001b[0;34m(\u001b[0m\u001b[0mrequest\u001b[0m\u001b[0;34m,\u001b[0m \u001b[0;34m**\u001b[0m\u001b[0mkwargs\u001b[0m\u001b[0;34m)\u001b[0m\u001b[0;34m\u001b[0m\u001b[0;34m\u001b[0m\u001b[0m\n\u001b[0m\u001b[1;32m    644\u001b[0m \u001b[0;34m\u001b[0m\u001b[0m\n\u001b[1;32m    645\u001b[0m         \u001b[0;31m# Total elapsed time of the request (approximately)\u001b[0m\u001b[0;34m\u001b[0m\u001b[0;34m\u001b[0m\u001b[0;34m\u001b[0m\u001b[0m\n",
            "\u001b[0;32m~/opt/anaconda3/lib/python3.8/site-packages/requests/adapters.py\u001b[0m in \u001b[0;36msend\u001b[0;34m(self, request, stream, timeout, verify, cert, proxies)\u001b[0m\n\u001b[1;32m    514\u001b[0m                 \u001b[0;32mraise\u001b[0m \u001b[0mSSLError\u001b[0m\u001b[0;34m(\u001b[0m\u001b[0me\u001b[0m\u001b[0;34m,\u001b[0m \u001b[0mrequest\u001b[0m\u001b[0;34m=\u001b[0m\u001b[0mrequest\u001b[0m\u001b[0;34m)\u001b[0m\u001b[0;34m\u001b[0m\u001b[0;34m\u001b[0m\u001b[0m\n\u001b[1;32m    515\u001b[0m \u001b[0;34m\u001b[0m\u001b[0m\n\u001b[0;32m--> 516\u001b[0;31m             \u001b[0;32mraise\u001b[0m \u001b[0mConnectionError\u001b[0m\u001b[0;34m(\u001b[0m\u001b[0me\u001b[0m\u001b[0;34m,\u001b[0m \u001b[0mrequest\u001b[0m\u001b[0;34m=\u001b[0m\u001b[0mrequest\u001b[0m\u001b[0;34m)\u001b[0m\u001b[0;34m\u001b[0m\u001b[0;34m\u001b[0m\u001b[0m\n\u001b[0m\u001b[1;32m    517\u001b[0m \u001b[0;34m\u001b[0m\u001b[0m\n\u001b[1;32m    518\u001b[0m         \u001b[0;32mexcept\u001b[0m \u001b[0mClosedPoolError\u001b[0m \u001b[0;32mas\u001b[0m \u001b[0me\u001b[0m\u001b[0;34m:\u001b[0m\u001b[0;34m\u001b[0m\u001b[0;34m\u001b[0m\u001b[0m\n",
            "\u001b[0;31mConnectionError\u001b[0m: HTTPConnectionPool(host='urldoesnotexistforsure.bom', port=80): Max retries exceeded with url: / (Caused by NewConnectionError('<urllib3.connection.HTTPConnection object at 0x7f7a6061a430>: Failed to establish a new connection: [Errno 8] nodename nor servname provided, or not known'))"
          ]
        }
      ],
      "source": [
        "requests.get('http://urldoesnotexistforsure.bom')  # такой домен нигде не зарегистрирован, и найти его нельзя"
      ]
    },
    {
      "cell_type": "markdown",
      "metadata": {
        "id": "Ftz9aCGDsRR4"
      },
      "source": [
        "### HTTPError\n",
        "\n",
        "Не возникает сама по себе, ее нужно вызвать специальным методом <code>raise_for_status</code>, чтобы ошибки сервера использовать как ошибки программы. Если в алгоритме работы сервера происходит внутренняя ошибка, он сообщает об этом 500-ми кодами ответа. Т.е. любой код ответа, который начинается с 5__, это ошибка, произошедшая на сервере."
      ]
    },
    {
      "cell_type": "code",
      "execution_count": null,
      "metadata": {
        "id": "BtI7kb4PsRR4"
      },
      "outputs": [],
      "source": [
        "response = requests.get('https://httpbin.org/status/500')"
      ]
    },
    {
      "cell_type": "code",
      "execution_count": null,
      "metadata": {
        "id": "lT_rITN0sRR4",
        "outputId": "7811c435-7bd8-4be1-f823-1933a5ee3db4"
      },
      "outputs": [
        {
          "name": "stdout",
          "output_type": "stream",
          "text": [
            "Oops. HTTP Error occured\n",
            "Response is: b''\n"
          ]
        }
      ],
      "source": [
        "try:\n",
        "    response = requests.get('https://httpbin.org/status/500')\n",
        "    response.raise_for_status()\n",
        "except requests.exceptions.HTTPError as err:\n",
        "    print('Oops. HTTP Error occured')\n",
        "    print('Response is: {content}'.format(content=err.response.content))"
      ]
    },
    {
      "cell_type": "markdown",
      "metadata": {
        "id": "xukJ4pSEsRR4"
      },
      "source": [
        "Для удачного ответа на запрос исключение не будет поднято:"
      ]
    },
    {
      "cell_type": "code",
      "execution_count": null,
      "metadata": {
        "id": "Q8LMsiMVsRR4"
      },
      "outputs": [],
      "source": [
        "try:\n",
        "    response = requests.get('https://httpbin.org/status/200')\n",
        "    response.raise_for_status()\n",
        "except requests.exceptions.HTTPError as err:\n",
        "    print('Oops. HTTP Error occured')\n",
        "    print('Response is: {content}'.format(content=err.response.content))"
      ]
    },
    {
      "cell_type": "markdown",
      "metadata": {
        "id": "Jidy00IFsRR5"
      },
      "source": [
        "### Как скачать файл\n",
        "\n",
        "У функции <code>get</code> есть параметр <code>stream</code>, который позволяет использовать ответ как файловый дескриптор:"
      ]
    },
    {
      "cell_type": "code",
      "execution_count": null,
      "metadata": {
        "id": "-dt1dwxKsRR5"
      },
      "outputs": [],
      "source": [
        "import requests\n",
        "import shutil\n",
        "\n",
        "r = requests.get('https://httpbin.org/get', stream=True)\n",
        "if r.status_code == 200:\n",
        "    with open(\"16/get_query_result.txt\", 'wb') as f:\n",
        "        r.raw.decode_content = True\n",
        "        shutil.copyfileobj(r.raw, f)  "
      ]
    },
    {
      "cell_type": "code",
      "execution_count": null,
      "metadata": {
        "id": "L65YvasUsRR5",
        "outputId": "83292630-c4ff-49f5-c2ac-6c29d1a351e2"
      },
      "outputs": [
        {
          "name": "stdout",
          "output_type": "stream",
          "text": [
            "{\n",
            "  \"args\": {}, \n",
            "  \"headers\": {\n",
            "    \"Accept\": \"*/*\", \n",
            "    \"Accept-Encoding\": \"gzip, deflate\", \n",
            "    \"Host\": \"httpbin.org\", \n",
            "    \"User-Agent\": \"python-requests/2.24.0\", \n",
            "    \"X-Amzn-Trace-Id\": \"Root=1-637a631a-0ecbb707473796d901549c49\"\n",
            "  }, \n",
            "  \"origin\": \"79.104.7.122\", \n",
            "  \"url\": \"https://httpbin.org/get\"\n",
            "}\n",
            "\n"
          ]
        }
      ],
      "source": [
        "with open(\"16/get_query_result.txt\", 'r', encoding='utf-8') as f:\n",
        "    print(f.read())"
      ]
    },
    {
      "cell_type": "markdown",
      "metadata": {
        "id": "iUalyqSjsRR5"
      },
      "source": [
        "# Задание\n",
        "\n",
        "[Здесь](https://jsonplaceholder.typicode.com/) описано некоторое API, в котором есть доступ к базе пользователей, постов, комментариев и т.д. Методы, которые мы будем использовать, описаны в разделе Resources. Примеры использования API (правда, на JavaScript'е) описаны на том же сайте по ссылке [Guide](https://jsonplaceholder.typicode.com/guide/). Вам нужно для каждого пользователя посчитать количество оставленных постов и количество оставленных комментариев. Всю информацию для этого нужно стягивать GET-запросами по API. Результат нужно отправить в ваше пространство в https://webhook.site в виде POST-запроса, содержащего JSON следующего формата:\n",
        "\n",
        "```{\n",
        "  \"statistics\": [\n",
        "    {\n",
        "      \"id\": 1,\n",
        "      \"username\": \"lolkek\",\n",
        "      \"email\": \"user1@mail.dot\",\n",
        "      \"posts\": 125,\n",
        "      \"comments\": 1358\n",
        "    },\n",
        "    {\n",
        "      \"id\": 2,\n",
        "      \"username\": \"cheburek\",\n",
        "      \"email\": \"user2@mail.dot\",\n",
        "      \"posts\": 5,\n",
        "      \"comments\": 12\n",
        "    }\n",
        "  ]\n",
        "}```\n",
        "\n",
        "Поскольку среда исполнения Яндекс-контеста не имеет доступа к интернету, проверить правильность выполнения задания вы можете, отправив в качестве ответа на задание \"Сеть\" pickle объекта ответа запроса:\n",
        "\n",
        "```response = requests.post(.....)\n",
        "with open(\"solution.pickle\", 'wb') as f:\n",
        "    pickle.dump(response, \"solution.py\")```\n",
        "    \n",
        "И отправляйте тот файл, который появится в результате исполнения этого кода."
      ]
    },
    {
      "cell_type": "code",
      "execution_count": 1,
      "metadata": {
        "colab": {
          "base_uri": "https://localhost:8080/"
        },
        "id": "Md57WeO0sRR5",
        "outputId": "23ef4660-6d97-4943-d13f-11fbf30fc434"
      },
      "outputs": [
        {
          "output_type": "stream",
          "name": "stdout",
          "text": [
            "b'\\x80\\x03crequests.models\\nResponse\\nq\\x00)\\x81q\\x01}q\\x02(X\\x08\\x00\\x00\\x00_contentq\\x03C\\x00q\\x04X\\x0b\\x00\\x00\\x00status_codeq\\x05K\\xc8X\\x07\\x00\\x00\\x00headersq\\x06crequests.structures\\nCaseInsensitiveDict\\nq\\x07)\\x81q\\x08}q\\tX\\x06\\x00\\x00\\x00_storeq\\nccollections\\nOrderedDict\\nq\\x0b)Rq\\x0c(X\\x06\\x00\\x00\\x00serverq\\rX\\x06\\x00\\x00\\x00Serverq\\x0eX\\x05\\x00\\x00\\x00nginxq\\x0f\\x86q\\x10X\\x0c\\x00\\x00\\x00content-typeq\\x11X\\x0c\\x00\\x00\\x00Content-Typeq\\x12X\\x19\\x00\\x00\\x00text/plain; charset=UTF-8q\\x13\\x86q\\x14X\\x11\\x00\\x00\\x00transfer-encodingq\\x15X\\x11\\x00\\x00\\x00Transfer-Encodingq\\x16X\\x07\\x00\\x00\\x00chunkedq\\x17\\x86q\\x18X\\x04\\x00\\x00\\x00varyq\\x19X\\x04\\x00\\x00\\x00Varyq\\x1aX\\x0f\\x00\\x00\\x00Accept-Encodingq\\x1b\\x86q\\x1cX\\x0c\\x00\\x00\\x00x-request-idq\\x1dX\\x0c\\x00\\x00\\x00X-Request-Idq\\x1eX$\\x00\\x00\\x007438ae84-8ca6-4043-9049-905037061faaq\\x1f\\x86q X\\n\\x00\\x00\\x00x-token-idq!X\\n\\x00\\x00\\x00X-Token-Idq\"X$\\x00\\x00\\x009bc27bc8-1135-4c4d-a894-c6ffc5da2698q#\\x86q$X\\r\\x00\\x00\\x00cache-controlq%X\\r\\x00\\x00\\x00Cache-Controlq&X\\x11\\x00\\x00\\x00no-cache, privateq\\'\\x86q(X\\x04\\x00\\x00\\x00dateq)X\\x04\\x00\\x00\\x00Dateq*X\\x1d\\x00\\x00\\x00Tue, 29 Nov 2022 19:08:50 GMTq+\\x86q,X\\x10\\x00\\x00\\x00content-encodingq-X\\x10\\x00\\x00\\x00Content-Encodingq.X\\x04\\x00\\x00\\x00gzipq/\\x86q0usbX\\x03\\x00\\x00\\x00urlq1X9\\x00\\x00\\x00https://webhook.site/9bc27bc8-1135-4c4d-a894-c6ffc5da2698q2X\\x07\\x00\\x00\\x00historyq3]q4X\\x08\\x00\\x00\\x00encodingq5X\\x05\\x00\\x00\\x00UTF-8q6X\\x06\\x00\\x00\\x00reasonq7X\\x02\\x00\\x00\\x00OKq8X\\x07\\x00\\x00\\x00cookiesq9crequests.cookies\\nRequestsCookieJar\\nq:)\\x81q;}q<(X\\x07\\x00\\x00\\x00_policyq=chttp.cookiejar\\nDefaultCookiePolicy\\nq>)\\x81q?}q@(X\\x08\\x00\\x00\\x00netscapeqA\\x88X\\x07\\x00\\x00\\x00rfc2965qB\\x89X\\x13\\x00\\x00\\x00rfc2109_as_netscapeqCNX\\x0c\\x00\\x00\\x00hide_cookie2qD\\x89X\\r\\x00\\x00\\x00strict_domainqE\\x89X\\x1b\\x00\\x00\\x00strict_rfc2965_unverifiableqF\\x88X\\x16\\x00\\x00\\x00strict_ns_unverifiableqG\\x89X\\x10\\x00\\x00\\x00strict_ns_domainqHK\\x00X\\x1c\\x00\\x00\\x00strict_ns_set_initial_dollarqI\\x89X\\x12\\x00\\x00\\x00strict_ns_set_pathqJ\\x89X\\x10\\x00\\x00\\x00_blocked_domainsqK)X\\x10\\x00\\x00\\x00_allowed_domainsqLNX\\x04\\x00\\x00\\x00_nowqMJ\\xc2X\\x86cubX\\x08\\x00\\x00\\x00_cookiesqN}qOhMJ\\xc2X\\x86cubX\\x07\\x00\\x00\\x00elapsedqPcdatetime\\ntimedelta\\nqQK\\x00K\\x00J5,\\t\\x00\\x87qRRqSX\\x07\\x00\\x00\\x00requestqTcrequests.models\\nPreparedRequest\\nqU)\\x81qV}qW(X\\x06\\x00\\x00\\x00methodqXX\\x04\\x00\\x00\\x00POSTqYh1h2h\\x06h\\x07)\\x81qZ}q[h\\nh\\x0b)Rq\\\\(X\\n\\x00\\x00\\x00user-agentq]X\\n\\x00\\x00\\x00User-Agentq^X\\x16\\x00\\x00\\x00python-requests/2.23.0q_\\x86q`X\\x0f\\x00\\x00\\x00accept-encodingqaX\\x0f\\x00\\x00\\x00Accept-EncodingqbX\\r\\x00\\x00\\x00gzip, deflateqc\\x86qdX\\x06\\x00\\x00\\x00acceptqeX\\x06\\x00\\x00\\x00AcceptqfX\\x03\\x00\\x00\\x00*/*qg\\x86qhX\\n\\x00\\x00\\x00connectionqiX\\n\\x00\\x00\\x00ConnectionqjX\\n\\x00\\x00\\x00keep-aliveqk\\x86qlX\\x0e\\x00\\x00\\x00content-lengthqmX\\x0e\\x00\\x00\\x00Content-LengthqnX\\x04\\x00\\x00\\x001491qo\\x86qpusbhNh:)\\x81qq}qr(h=h>)\\x81qs}qt(hA\\x88hB\\x89hCNhD\\x89hE\\x89hF\\x88hG\\x89hHK\\x00hI\\x89hJ\\x89hK)hLNhMJ\\xc1X\\x86cubhN}quhMJ\\xc1X\\x86cubX\\x04\\x00\\x00\\x00bodyqvX\\xd3\\x05\\x00\\x00{\\n  \"statistics\": [\\n    {\\n      \"id\": 1,\\n      \"username\": \"Leanne Graham\",\\n      \"email\": \"Sincere@april.biz\",\\n      \"posts\": 10,\\n      \"comments\": 50\\n    },\\n    {\\n      \"id\": 2,\\n      \"username\": \"Ervin Howell\",\\n      \"email\": \"Shanna@melissa.tv\",\\n      \"posts\": 10,\\n      \"comments\": 50\\n    },\\n    {\\n      \"id\": 3,\\n      \"username\": \"Clementine Bauch\",\\n      \"email\": \"Nathan@yesenia.net\",\\n      \"posts\": 10,\\n      \"comments\": 50\\n    },\\n    {\\n      \"id\": 4,\\n      \"username\": \"Patricia Lebsack\",\\n      \"email\": \"Julianne.OConner@kory.org\",\\n      \"posts\": 10,\\n      \"comments\": 50\\n    },\\n    {\\n      \"id\": 5,\\n      \"username\": \"Chelsey Dietrich\",\\n      \"email\": \"Lucio_Hettinger@annie.ca\",\\n      \"posts\": 10,\\n      \"comments\": 50\\n    },\\n    {\\n      \"id\": 6,\\n      \"username\": \"Mrs. Dennis Schulist\",\\n      \"email\": \"Karley_Dach@jasper.info\",\\n      \"posts\": 10,\\n      \"comments\": 50\\n    },\\n    {\\n      \"id\": 7,\\n      \"username\": \"Kurtis Weissnat\",\\n      \"email\": \"Telly.Hoeger@billy.biz\",\\n      \"posts\": 10,\\n      \"comments\": 50\\n    },\\n    {\\n      \"id\": 8,\\n      \"username\": \"Nicholas Runolfsdottir V\",\\n      \"email\": \"Sherwood@rosamond.me\",\\n      \"posts\": 10,\\n      \"comments\": 50\\n    },\\n    {\\n      \"id\": 9,\\n      \"username\": \"Glenna Reichert\",\\n      \"email\": \"Chaim_McDermott@dana.io\",\\n      \"posts\": 10,\\n      \"comments\": 50\\n    },\\n    {\\n      \"id\": 10,\\n      \"username\": \"Clementina DuBuque\",\\n      \"email\": \"Rey.Padberg@karina.biz\",\\n      \"posts\": 10,\\n      \"comments\": 50\\n    }\\n  ]\\n}qwX\\x05\\x00\\x00\\x00hooksqx}qyX\\x08\\x00\\x00\\x00responseqz]q{sX\\x0e\\x00\\x00\\x00_body_positionq|Nubub.'\n"
          ]
        }
      ],
      "source": [
        "# ваше решение здесь\n",
        "\n",
        "import requests\n",
        "import copy\n",
        "import json\n",
        "import pickle\n",
        "BASE_URL = \"https://webhook.site/9bc27bc8-1135-4c4d-a894-c6ffc5da2698\"\n",
        "\n",
        "users = requests.get('https://jsonplaceholder.typicode.com/users')\n",
        "posts = requests.get('https://jsonplaceholder.typicode.com/posts')\n",
        "comments = requests.get('https://jsonplaceholder.typicode.com/comments')\n",
        "\n",
        "stat = {'statistics': []}\n",
        "template = dict(id=0, username=\"lorem\", email=\"lorem\", posts=0, comments=0)\n",
        "result = dict()\n",
        "\n",
        "for user in users.json():\n",
        "    result[user['id']] = dict(posts=0, comments=0)\n",
        "    cpy = copy.deepcopy(template)\n",
        "    cpy['id'] = user['id']\n",
        "    cpy['username'] = user['name']\n",
        "    cpy['email'] = user['email']\n",
        "    cpy['posts'] = 0\n",
        "    cpy['comments'] = 0\n",
        "    stat['statistics'].append(cpy)\n",
        "\n",
        "for post in posts.json():\n",
        "    result[post['userId']]['posts'] += 1\n",
        "    for comment in comments.json():\n",
        "        if (comment['postId'] == post['id']):\n",
        "            result[post['userId']]['comments'] += 1\n",
        "\n",
        "\n",
        "for user_id in result:\n",
        "    for elem in stat['statistics']:\n",
        "        if (elem['id'] == user_id):\n",
        "            elem['posts'] = result[user_id]['posts']\n",
        "            elem['comments'] = result[user_id]['comments']\n",
        "\n",
        "response = requests.post(BASE_URL, data=json.dumps(stat, indent=2))\n",
        "with open(\"solution.pickle\", 'wb') as f:\n",
        "    pickle.dump(response, f)\n",
        "with open(\"solution.pickle\", 'rb') as f:\n",
        "    print(f.read())"
      ]
    }
  ],
  "metadata": {
    "kernelspec": {
      "display_name": "Python 3",
      "language": "python",
      "name": "python3"
    },
    "language_info": {
      "codemirror_mode": {
        "name": "ipython",
        "version": 3
      },
      "file_extension": ".py",
      "mimetype": "text/x-python",
      "name": "python",
      "nbconvert_exporter": "python",
      "pygments_lexer": "ipython3",
      "version": "3.8.5"
    },
    "colab": {
      "provenance": []
    }
  },
  "nbformat": 4,
  "nbformat_minor": 0
}